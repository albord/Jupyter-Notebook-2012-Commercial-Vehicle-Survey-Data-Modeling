{
 "cells": [
  {
   "cell_type": "code",
   "execution_count": 2,
   "id": "5ae35cb4",
   "metadata": {},
   "outputs": [],
   "source": [
    "import pandas as pd\n",
    "data_frame = pd.read_csv('2012_Commercial_Vehicle_Survey_Origin_and_Destination_Summary.csv')"
   ]
  },
  {
   "cell_type": "code",
   "execution_count": 3,
   "id": "d4cff37a",
   "metadata": {},
   "outputs": [
    {
     "data": {
      "text/html": [
       "<div>\n",
       "<style scoped>\n",
       "    .dataframe tbody tr th:only-of-type {\n",
       "        vertical-align: middle;\n",
       "    }\n",
       "\n",
       "    .dataframe tbody tr th {\n",
       "        vertical-align: top;\n",
       "    }\n",
       "\n",
       "    .dataframe thead th {\n",
       "        text-align: right;\n",
       "    }\n",
       "</style>\n",
       "<table border=\"1\" class=\"dataframe\">\n",
       "  <thead>\n",
       "    <tr style=\"text-align: right;\">\n",
       "      <th></th>\n",
       "      <th>Origin_Zone</th>\n",
       "      <th>OriginName</th>\n",
       "      <th>Destination_Zone</th>\n",
       "      <th>Destination_Name</th>\n",
       "      <th>Commodity_Group_Code</th>\n",
       "      <th>Commodity_Group</th>\n",
       "      <th>Daily_Trips</th>\n",
       "      <th>Commodity_Value</th>\n",
       "      <th>Commodity_Weight</th>\n",
       "      <th>ObjectId</th>\n",
       "    </tr>\n",
       "  </thead>\n",
       "  <tbody>\n",
       "    <tr>\n",
       "      <th>10</th>\n",
       "      <td>1200</td>\n",
       "      <td>Nova Scotia</td>\n",
       "      <td>3520</td>\n",
       "      <td>TORONTO</td>\n",
       "      <td>46</td>\n",
       "      <td>Privately-Owned Goods Being Transported Or Ser...</td>\n",
       "      <td>2</td>\n",
       "      <td>-</td>\n",
       "      <td>46,140</td>\n",
       "      <td>11</td>\n",
       "    </tr>\n",
       "    <tr>\n",
       "      <th>11</th>\n",
       "      <td>1200</td>\n",
       "      <td>Nova Scotia</td>\n",
       "      <td>3520</td>\n",
       "      <td>TORONTO</td>\n",
       "      <td>5</td>\n",
       "      <td>Meat, Fish, Seafood, And Preparations</td>\n",
       "      <td>2</td>\n",
       "      <td>318,854</td>\n",
       "      <td>34,328</td>\n",
       "      <td>12</td>\n",
       "    </tr>\n",
       "    <tr>\n",
       "      <th>12</th>\n",
       "      <td>1200</td>\n",
       "      <td>Nova Scotia</td>\n",
       "      <td>3520</td>\n",
       "      <td>TORONTO</td>\n",
       "      <td>4</td>\n",
       "      <td>Animal Feed And Feed Ingredients, Cereal Straw...</td>\n",
       "      <td>5</td>\n",
       "      <td>360,135</td>\n",
       "      <td>98,322</td>\n",
       "      <td>13</td>\n",
       "    </tr>\n",
       "    <tr>\n",
       "      <th>28</th>\n",
       "      <td>1300</td>\n",
       "      <td>New Brunswick</td>\n",
       "      <td>3520</td>\n",
       "      <td>TORONTO</td>\n",
       "      <td>27</td>\n",
       "      <td>Pulp, Newsprint, Paper, And Paperboard</td>\n",
       "      <td>2</td>\n",
       "      <td>25,154</td>\n",
       "      <td>33,365</td>\n",
       "      <td>29</td>\n",
       "    </tr>\n",
       "    <tr>\n",
       "      <th>29</th>\n",
       "      <td>1300</td>\n",
       "      <td>New Brunswick</td>\n",
       "      <td>3520</td>\n",
       "      <td>TORONTO</td>\n",
       "      <td>26</td>\n",
       "      <td>Wood Products</td>\n",
       "      <td>3</td>\n",
       "      <td>55,452</td>\n",
       "      <td>70,613</td>\n",
       "      <td>30</td>\n",
       "    </tr>\n",
       "    <tr>\n",
       "      <th>...</th>\n",
       "      <td>...</td>\n",
       "      <td>...</td>\n",
       "      <td>...</td>\n",
       "      <td>...</td>\n",
       "      <td>...</td>\n",
       "      <td>...</td>\n",
       "      <td>...</td>\n",
       "      <td>...</td>\n",
       "      <td>...</td>\n",
       "      <td>...</td>\n",
       "    </tr>\n",
       "    <tr>\n",
       "      <th>12268</th>\n",
       "      <td>7048</td>\n",
       "      <td>TEXAS</td>\n",
       "      <td>3520</td>\n",
       "      <td>TORONTO</td>\n",
       "      <td>3</td>\n",
       "      <td>Agricultural Products (Excludes Live Animals, ...</td>\n",
       "      <td>7</td>\n",
       "      <td>201,173</td>\n",
       "      <td>124,563</td>\n",
       "      <td>12269</td>\n",
       "    </tr>\n",
       "    <tr>\n",
       "      <th>12318</th>\n",
       "      <td>7055</td>\n",
       "      <td>WISCONSIN</td>\n",
       "      <td>3520</td>\n",
       "      <td>TORONTO</td>\n",
       "      <td>29</td>\n",
       "      <td>Printed Products</td>\n",
       "      <td>1</td>\n",
       "      <td>39,716</td>\n",
       "      <td>16,168</td>\n",
       "      <td>12319</td>\n",
       "    </tr>\n",
       "    <tr>\n",
       "      <th>12319</th>\n",
       "      <td>7055</td>\n",
       "      <td>WISCONSIN</td>\n",
       "      <td>3520</td>\n",
       "      <td>TORONTO</td>\n",
       "      <td>32</td>\n",
       "      <td>Base Metal In Primary Or Semi-Finished Forms A...</td>\n",
       "      <td>1</td>\n",
       "      <td>7,465</td>\n",
       "      <td>16,072</td>\n",
       "      <td>12320</td>\n",
       "    </tr>\n",
       "    <tr>\n",
       "      <th>12323</th>\n",
       "      <td>7044</td>\n",
       "      <td>RHODE ISLAND</td>\n",
       "      <td>3520</td>\n",
       "      <td>TORONTO</td>\n",
       "      <td>24</td>\n",
       "      <td>Plastics And Rubber</td>\n",
       "      <td>1</td>\n",
       "      <td>59,741</td>\n",
       "      <td>14,857</td>\n",
       "      <td>12324</td>\n",
       "    </tr>\n",
       "    <tr>\n",
       "      <th>12336</th>\n",
       "      <td>7045</td>\n",
       "      <td>SOUTH CAROLINA</td>\n",
       "      <td>3520</td>\n",
       "      <td>TORONTO</td>\n",
       "      <td>37</td>\n",
       "      <td>Transportation Equipment N.E.C.</td>\n",
       "      <td>1</td>\n",
       "      <td>56,686</td>\n",
       "      <td>3,455</td>\n",
       "      <td>12337</td>\n",
       "    </tr>\n",
       "  </tbody>\n",
       "</table>\n",
       "<p>662 rows × 10 columns</p>\n",
       "</div>"
      ],
      "text/plain": [
       "       Origin_Zone      OriginName  Destination_Zone Destination_Name  \\\n",
       "10            1200    Nova Scotia               3520          TORONTO   \n",
       "11            1200    Nova Scotia               3520          TORONTO   \n",
       "12            1200    Nova Scotia               3520          TORONTO   \n",
       "28            1300  New Brunswick               3520          TORONTO   \n",
       "29            1300  New Brunswick               3520          TORONTO   \n",
       "...            ...             ...               ...              ...   \n",
       "12268         7048           TEXAS              3520          TORONTO   \n",
       "12318         7055       WISCONSIN              3520          TORONTO   \n",
       "12319         7055       WISCONSIN              3520          TORONTO   \n",
       "12323         7044    RHODE ISLAND              3520          TORONTO   \n",
       "12336         7045  SOUTH CAROLINA              3520          TORONTO   \n",
       "\n",
       "       Commodity_Group_Code  \\\n",
       "10                       46   \n",
       "11                        5   \n",
       "12                        4   \n",
       "28                       27   \n",
       "29                       26   \n",
       "...                     ...   \n",
       "12268                     3   \n",
       "12318                    29   \n",
       "12319                    32   \n",
       "12323                    24   \n",
       "12336                    37   \n",
       "\n",
       "                                         Commodity_Group  Daily_Trips  \\\n",
       "10     Privately-Owned Goods Being Transported Or Ser...            2   \n",
       "11                 Meat, Fish, Seafood, And Preparations            2   \n",
       "12     Animal Feed And Feed Ingredients, Cereal Straw...            5   \n",
       "28                Pulp, Newsprint, Paper, And Paperboard            2   \n",
       "29                                         Wood Products            3   \n",
       "...                                                  ...          ...   \n",
       "12268  Agricultural Products (Excludes Live Animals, ...            7   \n",
       "12318                                   Printed Products            1   \n",
       "12319  Base Metal In Primary Or Semi-Finished Forms A...            1   \n",
       "12323                                Plastics And Rubber            1   \n",
       "12336                    Transportation Equipment N.E.C.            1   \n",
       "\n",
       "      Commodity_Value Commodity_Weight  ObjectId  \n",
       "10               -             46,140         11  \n",
       "11           318,854           34,328         12  \n",
       "12           360,135           98,322         13  \n",
       "28            25,154           33,365         29  \n",
       "29            55,452           70,613         30  \n",
       "...               ...              ...       ...  \n",
       "12268        201,173          124,563      12269  \n",
       "12318         39,716           16,168      12319  \n",
       "12319          7,465           16,072      12320  \n",
       "12323         59,741           14,857      12324  \n",
       "12336         56,686            3,455      12337  \n",
       "\n",
       "[662 rows x 10 columns]"
      ]
     },
     "execution_count": 3,
     "metadata": {},
     "output_type": "execute_result"
    }
   ],
   "source": [
    "data_frame[data_frame['Destination_Name']=='TORONTO']"
   ]
  },
  {
   "cell_type": "code",
   "execution_count": 4,
   "id": "1b06b63f",
   "metadata": {},
   "outputs": [],
   "source": [
    "# Drop rows with Nan values\n",
    "data_frame = data_frame.dropna() # removes rows with any NaN values\n",
    "data_frame = data_frame.reset_index() # reset's row indexes in case any rows were dropped"
   ]
  },
  {
   "cell_type": "code",
   "execution_count": 5,
   "id": "f3d1dbbc",
   "metadata": {},
   "outputs": [],
   "source": [
    "data_frame = data_frame[data_frame['Destination_Name']=='TORONTO']"
   ]
  },
  {
   "cell_type": "code",
   "execution_count": 6,
   "id": "e661ed97",
   "metadata": {},
   "outputs": [
    {
     "data": {
      "text/html": [
       "<div>\n",
       "<style scoped>\n",
       "    .dataframe tbody tr th:only-of-type {\n",
       "        vertical-align: middle;\n",
       "    }\n",
       "\n",
       "    .dataframe tbody tr th {\n",
       "        vertical-align: top;\n",
       "    }\n",
       "\n",
       "    .dataframe thead th {\n",
       "        text-align: right;\n",
       "    }\n",
       "</style>\n",
       "<table border=\"1\" class=\"dataframe\">\n",
       "  <thead>\n",
       "    <tr style=\"text-align: right;\">\n",
       "      <th></th>\n",
       "      <th>index</th>\n",
       "      <th>Origin_Zone</th>\n",
       "      <th>OriginName</th>\n",
       "      <th>Destination_Zone</th>\n",
       "      <th>Destination_Name</th>\n",
       "      <th>Commodity_Group_Code</th>\n",
       "      <th>Commodity_Group</th>\n",
       "      <th>Daily_Trips</th>\n",
       "      <th>Commodity_Value</th>\n",
       "      <th>Commodity_Weight</th>\n",
       "      <th>ObjectId</th>\n",
       "    </tr>\n",
       "  </thead>\n",
       "  <tbody>\n",
       "    <tr>\n",
       "      <th>1988</th>\n",
       "      <td>2015</td>\n",
       "      <td>3514</td>\n",
       "      <td>NORTHUMBERLAND</td>\n",
       "      <td>3520</td>\n",
       "      <td>TORONTO</td>\n",
       "      <td>0</td>\n",
       "      <td>Empty</td>\n",
       "      <td>58</td>\n",
       "      <td>-</td>\n",
       "      <td>-</td>\n",
       "      <td>2016</td>\n",
       "    </tr>\n",
       "    <tr>\n",
       "      <th>6249</th>\n",
       "      <td>6362</td>\n",
       "      <td>3525</td>\n",
       "      <td>HAMILTON-WENTWORTH</td>\n",
       "      <td>3520</td>\n",
       "      <td>TORONTO</td>\n",
       "      <td>0</td>\n",
       "      <td>Empty</td>\n",
       "      <td>296</td>\n",
       "      <td>-</td>\n",
       "      <td>-</td>\n",
       "      <td>6363</td>\n",
       "    </tr>\n",
       "    <tr>\n",
       "      <th>2332</th>\n",
       "      <td>2370</td>\n",
       "      <td>3516</td>\n",
       "      <td>VICTORIA</td>\n",
       "      <td>3520</td>\n",
       "      <td>TORONTO</td>\n",
       "      <td>0</td>\n",
       "      <td>Empty</td>\n",
       "      <td>9</td>\n",
       "      <td>-</td>\n",
       "      <td>-</td>\n",
       "      <td>2371</td>\n",
       "    </tr>\n",
       "    <tr>\n",
       "      <th>8069</th>\n",
       "      <td>8248</td>\n",
       "      <td>3537</td>\n",
       "      <td>ESSEX</td>\n",
       "      <td>3520</td>\n",
       "      <td>TORONTO</td>\n",
       "      <td>0</td>\n",
       "      <td>Empty</td>\n",
       "      <td>18</td>\n",
       "      <td>-</td>\n",
       "      <td>-</td>\n",
       "      <td>8249</td>\n",
       "    </tr>\n",
       "    <tr>\n",
       "      <th>8809</th>\n",
       "      <td>9033</td>\n",
       "      <td>3543</td>\n",
       "      <td>SIMCOE</td>\n",
       "      <td>3520</td>\n",
       "      <td>TORONTO</td>\n",
       "      <td>0</td>\n",
       "      <td>Empty</td>\n",
       "      <td>343</td>\n",
       "      <td>-</td>\n",
       "      <td>-</td>\n",
       "      <td>9034</td>\n",
       "    </tr>\n",
       "  </tbody>\n",
       "</table>\n",
       "</div>"
      ],
      "text/plain": [
       "      index  Origin_Zone          OriginName  Destination_Zone  \\\n",
       "1988   2015         3514      NORTHUMBERLAND              3520   \n",
       "6249   6362         3525  HAMILTON-WENTWORTH              3520   \n",
       "2332   2370         3516            VICTORIA              3520   \n",
       "8069   8248         3537               ESSEX              3520   \n",
       "8809   9033         3543              SIMCOE              3520   \n",
       "\n",
       "     Destination_Name  Commodity_Group_Code Commodity_Group  Daily_Trips  \\\n",
       "1988          TORONTO                     0           Empty           58   \n",
       "6249          TORONTO                     0           Empty          296   \n",
       "2332          TORONTO                     0           Empty            9   \n",
       "8069          TORONTO                     0           Empty           18   \n",
       "8809          TORONTO                     0           Empty          343   \n",
       "\n",
       "     Commodity_Value Commodity_Weight  ObjectId  \n",
       "1988            -                -         2016  \n",
       "6249            -                -         6363  \n",
       "2332            -                -         2371  \n",
       "8069            -                -         8249  \n",
       "8809            -                -         9034  "
      ]
     },
     "execution_count": 6,
     "metadata": {},
     "output_type": "execute_result"
    }
   ],
   "source": [
    "data_frame = data_frame.sort_values(\"Commodity_Group_Code\", ascending=True)\n",
    "data_frame.head()"
   ]
  },
  {
   "cell_type": "code",
   "execution_count": 7,
   "id": "17ad34a4",
   "metadata": {},
   "outputs": [
    {
     "name": "stdout",
     "output_type": "stream",
     "text": [
      "      Origin_Zone          OriginName  Commodity_Group_Code  \\\n",
      "1988         3514      NORTHUMBERLAND                     0   \n",
      "6249         3525  HAMILTON-WENTWORTH                     0   \n",
      "2332         3516            VICTORIA                     0   \n",
      "8069         3537               ESSEX                     0   \n",
      "8809         3543              SIMCOE                     0   \n",
      "...           ...                 ...                   ...   \n",
      "5021         3522            DUFFERIN                    98   \n",
      "5496         3523          WELLINGTON                    98   \n",
      "9404         3549         PARRY SOUND                    98   \n",
      "4181         3521                PEEL                    99   \n",
      "9206         3548           NIPISSING                    99   \n",
      "\n",
      "                                        Commodity_Group Commodity_Weight  \n",
      "1988                                              Empty             -     \n",
      "6249                                              Empty             -     \n",
      "2332                                              Empty             -     \n",
      "8069                                              Empty             -     \n",
      "8809                                              Empty             -     \n",
      "...                                                 ...              ...  \n",
      "5021  Vehicle Not Intended To Carry Cargo (Non Cargo...             -     \n",
      "5496  Vehicle Not Intended To Carry Cargo (Non Cargo...             -     \n",
      "9404  Vehicle Not Intended To Carry Cargo (Non Cargo...             -     \n",
      "4181                                              Other         120,184   \n",
      "9206                                              Other             -     \n",
      "\n",
      "[662 rows x 5 columns]\n"
     ]
    }
   ],
   "source": [
    "df1 = pd.DataFrame(data_frame, columns=['Origin_Zone', 'OriginName', 'Commodity_Group_Code', 'Commodity_Group', 'Commodity_Weight'])\n",
    "print(df1)"
   ]
  },
  {
   "cell_type": "code",
   "execution_count": 8,
   "id": "10352cbd",
   "metadata": {},
   "outputs": [
    {
     "data": {
      "image/png": "[encoded data removed]",
      "text/plain": [
       "<Figure size 432x288 with 1 Axes>"
      ]
     },
     "metadata": {},
     "output_type": "display_data"
    }
   ],
   "source": [
    "import seaborn as sns\n",
    "sns.set()\n",
    "\n",
    "graph = sns.scatterplot(x='Commodity_Group_Code', y='Origin_Zone', data=df1)"
   ]
  },
  {
   "cell_type": "code",
   "execution_count": 20,
   "id": "517f4431",
   "metadata": {},
   "outputs": [
    {
     "data": {
      "text/html": [
       "\n",
       "    <div class=\"bk-root\">\n",
       "        <a href=\"https://bokeh.org\" target=\"_blank\" class=\"bk-logo bk-logo-small bk-logo-notebook\"></a>\n",
       "        <span id=\"2040\">Loading BokehJS ...</span>\n",
       "    </div>"
      ]
     },
     "metadata": {},
     "output_type": "display_data"
    },
    {
     "data": {
      "application/javascript": [
       "\n",
       "(function(root) {\n",
       "  function now() {\n",
       "    return new Date();\n",
       "  }\n",
       "\n",
       "  const force = true;\n",
       "\n",
       "  if (typeof root._bokeh_onload_callbacks === \"undefined\" || force === true) {\n",
       "    root._bokeh_onload_callbacks = [];\n",
       "    root._bokeh_is_loading = undefined;\n",
       "  }\n",
       "\n",
       "  const JS_MIME_TYPE = 'application/javascript';\n",
       "  const HTML_MIME_TYPE = 'text/html';\n",
       "  const EXEC_MIME_TYPE = 'application/vnd.bokehjs_exec.v0+json';\n",
       "  const CLASS_NAME = 'output_bokeh rendered_html';\n",
       "\n",
       "  /**\n",
       "   * Render data to the DOM node\n",
       "   */\n",
       "  function render(props, node) {\n",
       "    const script = document.createElement(\"script\");\n",
       "    node.appendChild(script);\n",
       "  }\n",
       "\n",
       "  /**\n",
       "   * Handle when an output is cleared or removed\n",
       "   */\n",
       "  function handleClearOutput(event, handle) {\n",
       "    const cell = handle.cell;\n",
       "\n",
       "    const id = cell.output_area._bokeh_element_id;\n",
       "    const server_id = cell.output_area._bokeh_server_id;\n",
       "    // Clean up Bokeh references\n",
       "    if (id != null && id in Bokeh.index) {\n",
       "      Bokeh.index[id].model.document.clear();\n",
       "      delete Bokeh.index[id];\n",
       "    }\n",
       "\n",
       "    if (server_id !== undefined) {\n",
       "      // Clean up Bokeh references\n",
       "      const cmd_clean = \"from bokeh.io.state import curstate; print(curstate().uuid_to_server['\" + server_id + \"'].get_sessions()[0].document.roots[0]._id)\";\n",
       "      cell.notebook.kernel.execute(cmd_clean, {\n",
       "        iopub: {\n",
       "          output: function(msg) {\n",
       "            const id = msg.content.text.trim();\n",
       "            if (id in Bokeh.index) {\n",
       "              Bokeh.index[id].model.document.clear();\n",
       "              delete Bokeh.index[id];\n",
       "            }\n",
       "          }\n",
       "        }\n",
       "      });\n",
       "      // Destroy server and session\n",
       "      const cmd_destroy = \"import bokeh.io.notebook as ion; ion.destroy_server('\" + server_id + \"')\";\n",
       "      cell.notebook.kernel.execute(cmd_destroy);\n",
       "    }\n",
       "  }\n",
       "\n",
       "  /**\n",
       "   * Handle when a new output is added\n",
       "   */\n",
       "  function handleAddOutput(event, handle) {\n",
       "    const output_area = handle.output_area;\n",
       "    const output = handle.output;\n",
       "\n",
       "    // limit handleAddOutput to display_data with EXEC_MIME_TYPE content only\n",
       "    if ((output.output_type != \"display_data\") || (!Object.prototype.hasOwnProperty.call(output.data, EXEC_MIME_TYPE))) {\n",
       "      return\n",
       "    }\n",
       "\n",
       "    const toinsert = output_area.element.find(\".\" + CLASS_NAME.split(' ')[0]);\n",
       "\n",
       "    if (output.metadata[EXEC_MIME_TYPE][\"id\"] !== undefined) {\n",
       "      toinsert[toinsert.length - 1].firstChild.textContent = output.data[JS_MIME_TYPE];\n",
       "      // store reference to embed id on output_area\n",
       "      output_area._bokeh_element_id = output.metadata[EXEC_MIME_TYPE][\"id\"];\n",
       "    }\n",
       "    if (output.metadata[EXEC_MIME_TYPE][\"server_id\"] !== undefined) {\n",
       "      const bk_div = document.createElement(\"div\");\n",
       "      bk_div.innerHTML = output.data[HTML_MIME_TYPE];\n",
       "      const script_attrs = bk_div.children[0].attributes;\n",
       "      for (let i = 0; i < script_attrs.length; i++) {\n",
       "        toinsert[toinsert.length - 1].firstChild.setAttribute(script_attrs[i].name, script_attrs[i].value);\n",
       "        toinsert[toinsert.length - 1].firstChild.textContent = bk_div.children[0].textContent\n",
       "      }\n",
       "      // store reference to server id on output_area\n",
       "      output_area._bokeh_server_id = output.metadata[EXEC_MIME_TYPE][\"server_id\"];\n",
       "    }\n",
       "  }\n",
       "\n",
       "  function register_renderer(events, OutputArea) {\n",
       "\n",
       "    function append_mime(data, metadata, element) {\n",
       "      // create a DOM node to render to\n",
       "      const toinsert = this.create_output_subarea(\n",
       "        metadata,\n",
       "        CLASS_NAME,\n",
       "        EXEC_MIME_TYPE\n",
       "      );\n",
       "      this.keyboard_manager.register_events(toinsert);\n",
       "      // Render to node\n",
       "      const props = {data: data, metadata: metadata[EXEC_MIME_TYPE]};\n",
       "      render(props, toinsert[toinsert.length - 1]);\n",
       "      element.append(toinsert);\n",
       "      return toinsert\n",
       "    }\n",
       "\n",
       "    /* Handle when an output is cleared or removed */\n",
       "    events.on('clear_output.CodeCell', handleClearOutput);\n",
       "    events.on('delete.Cell', handleClearOutput);\n",
       "\n",
       "    /* Handle when a new output is added */\n",
       "    events.on('output_added.OutputArea', handleAddOutput);\n",
       "\n",
       "    /**\n",
       "     * Register the mime type and append_mime function with output_area\n",
       "     */\n",
       "    OutputArea.prototype.register_mime_type(EXEC_MIME_TYPE, append_mime, {\n",
       "      /* Is output safe? */\n",
       "      safe: true,\n",
       "      /* Index of renderer in `output_area.display_order` */\n",
       "      index: 0\n",
       "    });\n",
       "  }\n",
       "\n",
       "  // register the mime type if in Jupyter Notebook environment and previously unregistered\n",
       "  if (root.Jupyter !== undefined) {\n",
       "    const events = require('base/js/events');\n",
       "    const OutputArea = require('notebook/js/outputarea').OutputArea;\n",
       "\n",
       "    if (OutputArea.prototype.mime_types().indexOf(EXEC_MIME_TYPE) == -1) {\n",
       "      register_renderer(events, OutputArea);\n",
       "    }\n",
       "  }\n",
       "\n",
       "  \n",
       "  if (typeof (root._bokeh_timeout) === \"undefined\" || force === true) {\n",
       "    root._bokeh_timeout = Date.now() + 5000;\n",
       "    root._bokeh_failed_load = false;\n",
       "  }\n",
       "\n",
       "  const NB_LOAD_WARNING = {'data': {'text/html':\n",
       "     \"<div style='background-color: #fdd'>\\n\"+\n",
       "     \"<p>\\n\"+\n",
       "     \"BokehJS does not appear to have successfully loaded. If loading BokehJS from CDN, this \\n\"+\n",
       "     \"may be due to a slow or bad network connection. Possible fixes:\\n\"+\n",
       "     \"</p>\\n\"+\n",
       "     \"<ul>\\n\"+\n",
       "     \"<li>re-rerun `output_notebook()` to attempt to load from CDN again, or</li>\\n\"+\n",
       "     \"<li>use INLINE resources instead, as so:</li>\\n\"+\n",
       "     \"</ul>\\n\"+\n",
       "     \"<code>\\n\"+\n",
       "     \"from bokeh.resources import INLINE\\n\"+\n",
       "     \"output_notebook(resources=INLINE)\\n\"+\n",
       "     \"</code>\\n\"+\n",
       "     \"</div>\"}};\n",
       "\n",
       "  function display_loaded() {\n",
       "    const el = document.getElementById(\"2040\");\n",
       "    if (el != null) {\n",
       "      el.textContent = \"BokehJS is loading...\";\n",
       "    }\n",
       "    if (root.Bokeh !== undefined) {\n",
       "      if (el != null) {\n",
       "        el.textContent = \"BokehJS \" + root.Bokeh.version + \" successfully loaded.\";\n",
       "      }\n",
       "    } else if (Date.now() < root._bokeh_timeout) {\n",
       "      setTimeout(display_loaded, 100)\n",
       "    }\n",
       "  }\n",
       "\n",
       "\n",
       "  function run_callbacks() {\n",
       "    try {\n",
       "      root._bokeh_onload_callbacks.forEach(function(callback) {\n",
       "        if (callback != null)\n",
       "          callback();\n",
       "      });\n",
       "    } finally {\n",
       "      delete root._bokeh_onload_callbacks\n",
       "    }\n",
       "    console.debug(\"Bokeh: all callbacks have finished\");\n",
       "  }\n",
       "\n",
       "  function load_libs(css_urls, js_urls, callback) {\n",
       "    if (css_urls == null) css_urls = [];\n",
       "    if (js_urls == null) js_urls = [];\n",
       "\n",
       "    root._bokeh_onload_callbacks.push(callback);\n",
       "    if (root._bokeh_is_loading > 0) {\n",
       "      console.debug(\"Bokeh: BokehJS is being loaded, scheduling callback at\", now());\n",
       "      return null;\n",
       "    }\n",
       "    if (js_urls == null || js_urls.length === 0) {\n",
       "      run_callbacks();\n",
       "      return null;\n",
       "    }\n",
       "    console.debug(\"Bokeh: BokehJS not loaded, scheduling load and callback at\", now());\n",
       "    root._bokeh_is_loading = css_urls.length + js_urls.length;\n",
       "\n",
       "    function on_load() {\n",
       "      root._bokeh_is_loading--;\n",
       "      if (root._bokeh_is_loading === 0) {\n",
       "        console.debug(\"Bokeh: all BokehJS libraries/stylesheets loaded\");\n",
       "        run_callbacks()\n",
       "      }\n",
       "    }\n",
       "\n",
       "    function on_error(url) {\n",
       "      console.error(\"failed to load \" + url);\n",
       "    }\n",
       "\n",
       "    for (let i = 0; i < css_urls.length; i++) {\n",
       "      const url = css_urls[i];\n",
       "      const element = document.createElement(\"link\");\n",
       "      element.onload = on_load;\n",
       "      element.onerror = on_error.bind(null, url);\n",
       "      element.rel = \"stylesheet\";\n",
       "      element.type = \"text/css\";\n",
       "      element.href = url;\n",
       "      console.debug(\"Bokeh: injecting link tag for BokehJS stylesheet: \", url);\n",
       "      document.body.appendChild(element);\n",
       "    }\n",
       "\n",
       "    for (let i = 0; i < js_urls.length; i++) {\n",
       "      const url = js_urls[i];\n",
       "      const element = document.createElement('script');\n",
       "      element.onload = on_load;\n",
       "      element.onerror = on_error.bind(null, url);\n",
       "      element.async = false;\n",
       "      element.src = url;\n",
       "      console.debug(\"Bokeh: injecting script tag for BokehJS library: \", url);\n",
       "      document.head.appendChild(element);\n",
       "    }\n",
       "  };\n",
       "\n",
       "  function inject_raw_css(css) {\n",
       "    const element = document.createElement(\"style\");\n",
       "    element.appendChild(document.createTextNode(css));\n",
       "    document.body.appendChild(element);\n",
       "  }\n",
       "\n",
       "  \n",
       "  const js_urls = [\"https://cdn.bokeh.org/bokeh/release/bokeh-2.4.1.min.js\", \"https://cdn.bokeh.org/bokeh/release/bokeh-gl-2.4.1.min.js\", \"https://cdn.bokeh.org/bokeh/release/bokeh-widgets-2.4.1.min.js\", \"https://cdn.bokeh.org/bokeh/release/bokeh-tables-2.4.1.min.js\", \"https://cdn.bokeh.org/bokeh/release/bokeh-mathjax-2.4.1.min.js\"];\n",
       "  const css_urls = [];\n",
       "  \n",
       "\n",
       "  const inline_js = [\n",
       "    function(Bokeh) {\n",
       "      Bokeh.set_log_level(\"info\");\n",
       "    },\n",
       "    function(Bokeh) {\n",
       "    \n",
       "    \n",
       "    }\n",
       "  ];\n",
       "\n",
       "  function run_inline_js() {\n",
       "    \n",
       "    if (root.Bokeh !== undefined || force === true) {\n",
       "      \n",
       "    for (let i = 0; i < inline_js.length; i++) {\n",
       "      inline_js[i].call(root, root.Bokeh);\n",
       "    }\n",
       "    if (force === true) {\n",
       "        display_loaded();\n",
       "      }} else if (Date.now() < root._bokeh_timeout) {\n",
       "      setTimeout(run_inline_js, 100);\n",
       "    } else if (!root._bokeh_failed_load) {\n",
       "      console.log(\"Bokeh: BokehJS failed to load within specified timeout.\");\n",
       "      root._bokeh_failed_load = true;\n",
       "    } else if (force !== true) {\n",
       "      const cell = $(document.getElementById(\"2040\")).parents('.cell').data().cell;\n",
       "      cell.output_area.append_execute_result(NB_LOAD_WARNING)\n",
       "    }\n",
       "\n",
       "  }\n",
       "\n",
       "  if (root._bokeh_is_loading === 0) {\n",
       "    console.debug(\"Bokeh: BokehJS loaded, going straight to plotting\");\n",
       "    run_inline_js();\n",
       "  } else {\n",
       "    load_libs(css_urls, js_urls, function() {\n",
       "      console.debug(\"Bokeh: BokehJS plotting callback run at\", now());\n",
       "      run_inline_js();\n",
       "    });\n",
       "  }\n",
       "}(window));"
      ],
      "application/vnd.bokehjs_load.v0+json": "\n(function(root) {\n  function now() {\n    return new Date();\n  }\n\n  const force = true;\n\n  if (typeof root._bokeh_onload_callbacks === \"undefined\" || force === true) {\n    root._bokeh_onload_callbacks = [];\n    root._bokeh_is_loading = undefined;\n  }\n\n  \n\n  \n  if (typeof (root._bokeh_timeout) === \"undefined\" || force === true) {\n    root._bokeh_timeout = Date.now() + 5000;\n    root._bokeh_failed_load = false;\n  }\n\n  const NB_LOAD_WARNING = {'data': {'text/html':\n     \"<div style='background-color: #fdd'>\\n\"+\n     \"<p>\\n\"+\n     \"BokehJS does not appear to have successfully loaded. If loading BokehJS from CDN, this \\n\"+\n     \"may be due to a slow or bad network connection. Possible fixes:\\n\"+\n     \"</p>\\n\"+\n     \"<ul>\\n\"+\n     \"<li>re-rerun `output_notebook()` to attempt to load from CDN again, or</li>\\n\"+\n     \"<li>use INLINE resources instead, as so:</li>\\n\"+\n     \"</ul>\\n\"+\n     \"<code>\\n\"+\n     \"from bokeh.resources import INLINE\\n\"+\n     \"output_notebook(resources=INLINE)\\n\"+\n     \"</code>\\n\"+\n     \"</div>\"}};\n\n  function display_loaded() {\n    const el = document.getElementById(\"2040\");\n    if (el != null) {\n      el.textContent = \"BokehJS is loading...\";\n    }\n    if (root.Bokeh !== undefined) {\n      if (el != null) {\n        el.textContent = \"BokehJS \" + root.Bokeh.version + \" successfully loaded.\";\n      }\n    } else if (Date.now() < root._bokeh_timeout) {\n      setTimeout(display_loaded, 100)\n    }\n  }\n\n\n  function run_callbacks() {\n    try {\n      root._bokeh_onload_callbacks.forEach(function(callback) {\n        if (callback != null)\n          callback();\n      });\n    } finally {\n      delete root._bokeh_onload_callbacks\n    }\n    console.debug(\"Bokeh: all callbacks have finished\");\n  }\n\n  function load_libs(css_urls, js_urls, callback) {\n    if (css_urls == null) css_urls = [];\n    if (js_urls == null) js_urls = [];\n\n    root._bokeh_onload_callbacks.push(callback);\n    if (root._bokeh_is_loading > 0) {\n      console.debug(\"Bokeh: BokehJS is being loaded, scheduling callback at\", now());\n      return null;\n    }\n    if (js_urls == null || js_urls.length === 0) {\n      run_callbacks();\n      return null;\n    }\n    console.debug(\"Bokeh: BokehJS not loaded, scheduling load and callback at\", now());\n    root._bokeh_is_loading = css_urls.length + js_urls.length;\n\n    function on_load() {\n      root._bokeh_is_loading--;\n      if (root._bokeh_is_loading === 0) {\n        console.debug(\"Bokeh: all BokehJS libraries/stylesheets loaded\");\n        run_callbacks()\n      }\n    }\n\n    function on_error(url) {\n      console.error(\"failed to load \" + url);\n    }\n\n    for (let i = 0; i < css_urls.length; i++) {\n      const url = css_urls[i];\n      const element = document.createElement(\"link\");\n      element.onload = on_load;\n      element.onerror = on_error.bind(null, url);\n      element.rel = \"stylesheet\";\n      element.type = \"text/css\";\n      element.href = url;\n      console.debug(\"Bokeh: injecting link tag for BokehJS stylesheet: \", url);\n      document.body.appendChild(element);\n    }\n\n    for (let i = 0; i < js_urls.length; i++) {\n      const url = js_urls[i];\n      const element = document.createElement('script');\n      element.onload = on_load;\n      element.onerror = on_error.bind(null, url);\n      element.async = false;\n      element.src = url;\n      console.debug(\"Bokeh: injecting script tag for BokehJS library: \", url);\n      document.head.appendChild(element);\n    }\n  };\n\n  function inject_raw_css(css) {\n    const element = document.createElement(\"style\");\n    element.appendChild(document.createTextNode(css));\n    document.body.appendChild(element);\n  }\n\n  \n  const js_urls = [\"https://cdn.bokeh.org/bokeh/release/bokeh-2.4.1.min.js\", \"https://cdn.bokeh.org/bokeh/release/bokeh-gl-2.4.1.min.js\", \"https://cdn.bokeh.org/bokeh/release/bokeh-widgets-2.4.1.min.js\", \"https://cdn.bokeh.org/bokeh/release/bokeh-tables-2.4.1.min.js\", \"https://cdn.bokeh.org/bokeh/release/bokeh-mathjax-2.4.1.min.js\"];\n  const css_urls = [];\n  \n\n  const inline_js = [\n    function(Bokeh) {\n      Bokeh.set_log_level(\"info\");\n    },\n    function(Bokeh) {\n    \n    \n    }\n  ];\n\n  function run_inline_js() {\n    \n    if (root.Bokeh !== undefined || force === true) {\n      \n    for (let i = 0; i < inline_js.length; i++) {\n      inline_js[i].call(root, root.Bokeh);\n    }\n    if (force === true) {\n        display_loaded();\n      }} else if (Date.now() < root._bokeh_timeout) {\n      setTimeout(run_inline_js, 100);\n    } else if (!root._bokeh_failed_load) {\n      console.log(\"Bokeh: BokehJS failed to load within specified timeout.\");\n      root._bokeh_failed_load = true;\n    } else if (force !== true) {\n      const cell = $(document.getElementById(\"2040\")).parents('.cell').data().cell;\n      cell.output_area.append_execute_result(NB_LOAD_WARNING)\n    }\n\n  }\n\n  if (root._bokeh_is_loading === 0) {\n    console.debug(\"Bokeh: BokehJS loaded, going straight to plotting\");\n    run_inline_js();\n  } else {\n    load_libs(css_urls, js_urls, function() {\n      console.debug(\"Bokeh: BokehJS plotting callback run at\", now());\n      run_inline_js();\n    });\n  }\n}(window));"
     },
     "metadata": {},
     "output_type": "display_data"
    },
    {
     "data": {
      "text/html": [
       "\n",
       "\n",
       "\n",
       "\n",
       "\n",
       "\n",
       "  <div class=\"bk-root\" id=\"10203b2a-4c3b-4b68-87d9-04305b36884a\" data-root-id=\"2042\"></div>\n"
      ]
     },
     "metadata": {},
     "output_type": "display_data"
    },
    {
     "data": {
      "application/javascript": [
       "(function(root) {\n",
       "  function embed_document(root) {\n",
       "    \n",
       "  const docs_json = {\"dcfb99ab-480f-41ce-bd6b-4f29c9b288b4\":{\"defs\":[],\"roots\":{\"references\":[{\"attributes\":{\"below\":[{\"id\":\"2053\"}],\"center\":[{\"id\":\"2056\"},{\"id\":\"2060\"}],\"height\":500,\"left\":[{\"id\":\"2057\"}],\"renderers\":[{\"id\":\"2077\"}],\"title\":{\"id\":\"2043\"},\"toolbar\":{\"id\":\"2066\"},\"width\":500,\"x_range\":{\"id\":\"2045\"},\"x_scale\":{\"id\":\"2049\"},\"y_range\":{\"id\":\"2047\"},\"y_scale\":{\"id\":\"2051\"}},\"id\":\"2042\",\"subtype\":\"Figure\",\"type\":\"Plot\"},{\"attributes\":{},\"id\":\"2097\",\"type\":\"BasicTickFormatter\"},{\"attributes\":{},\"id\":\"2100\",\"type\":\"Selection\"},{\"attributes\":{\"fill_alpha\":{\"value\":0.2},\"fill_color\":{\"value\":\"#1f77b4\"},\"hatch_alpha\":{\"value\":0.2},\"line_alpha\":{\"value\":0.2},\"line_color\":{\"value\":\"#1f77b4\"},\"size\":{\"value\":10},\"x\":{\"field\":\"Commodity_Group_Code\"},\"y\":{\"field\":\"Origin_Zone\"}},\"id\":\"2076\",\"type\":\"Circle\"},{\"attributes\":{},\"id\":\"2095\",\"type\":\"AllLabels\"},{\"attributes\":{\"axis\":{\"id\":\"2057\"},\"coordinates\":null,\"dimension\":1,\"group\":null,\"ticker\":null},\"id\":\"2060\",\"type\":\"Grid\"},{\"attributes\":{},\"id\":\"2098\",\"type\":\"AllLabels\"},{\"attributes\":{},\"id\":\"2099\",\"type\":\"UnionRenderers\"},{\"attributes\":{\"axis\":{\"id\":\"2053\"},\"coordinates\":null,\"group\":null,\"ticker\":null},\"id\":\"2056\",\"type\":\"Grid\"},{\"attributes\":{},\"id\":\"2047\",\"type\":\"DataRange1d\"},{\"attributes\":{},\"id\":\"2051\",\"type\":\"LinearScale\"},{\"attributes\":{},\"id\":\"2062\",\"type\":\"WheelZoomTool\"},{\"attributes\":{\"dimensions\":\"width\",\"overlay\":{\"id\":\"2102\"}},\"id\":\"2079\",\"type\":\"BoxSelectTool\"},{\"attributes\":{\"bottom_units\":\"screen\",\"coordinates\":null,\"fill_alpha\":0.5,\"fill_color\":\"lightgrey\",\"group\":null,\"left_units\":\"screen\",\"level\":\"overlay\",\"line_alpha\":1.0,\"line_color\":\"black\",\"line_dash\":[4,4],\"line_width\":2,\"right_units\":\"screen\",\"syncable\":false,\"top_units\":\"screen\"},\"id\":\"2102\",\"type\":\"BoxAnnotation\"},{\"attributes\":{},\"id\":\"2058\",\"type\":\"BasicTicker\"},{\"attributes\":{},\"id\":\"2094\",\"type\":\"BasicTickFormatter\"},{\"attributes\":{\"fill_alpha\":{\"value\":0.1},\"fill_color\":{\"value\":\"#1f77b4\"},\"hatch_alpha\":{\"value\":0.1},\"line_alpha\":{\"value\":0.1},\"line_color\":{\"value\":\"#1f77b4\"},\"size\":{\"value\":10},\"x\":{\"field\":\"Commodity_Group_Code\"},\"y\":{\"field\":\"Origin_Zone\"}},\"id\":\"2075\",\"type\":\"Circle\"},{\"attributes\":{},\"id\":\"2064\",\"type\":\"ResetTool\"},{\"attributes\":{},\"id\":\"2061\",\"type\":\"PanTool\"},{\"attributes\":{\"data\":{\"Commodity_Group\":[\"Empty\",\"Empty\",\"Empty\",\"Empty\",\"Empty\",\"Empty\",\"Empty\",\"Empty\",\"Empty\",\"Empty\",\"Empty\",\"Empty\",\"Empty\",\"Empty\",\"Empty\",\"Empty\",\"Empty\",\"Empty\",\"Empty\",\"Empty\",\"Empty\",\"Empty\",\"Empty\",\"Empty\",\"Empty\",\"Empty\",\"Empty\",\"Empty\",\"Empty\",\"Empty\",\"Empty\",\"Empty\",\"Empty\",\"Empty\",\"Empty\",\"Empty\",\"Empty\",\"Empty\",\"Empty\",\"Empty\",\"Empty\",\"Empty\",\"Empty\",\"Empty\",\"Empty\",\"Empty\",\"Empty\",\"Empty\",\"Empty\",\"Empty\",\"Empty\",\"Live Animals And Fish\",\"Live Animals And Fish\",\"Live Animals And Fish\",\"Live Animals And Fish\",\"Live Animals And Fish\",\"Live Animals And Fish\",\"Agricultural Products (Excludes Live Animals, Cereal Grains, And Forage Products)\",\"Agricultural Products (Excludes Live Animals, Cereal Grains, And Forage Products)\",\"Agricultural Products (Excludes Live Animals, Cereal Grains, And Forage Products)\",\"Agricultural Products (Excludes Live Animals, Cereal Grains, And Forage Products)\",\"Agricultural Products (Excludes Live Animals, Cereal Grains, And Forage Products)\",\"Agricultural Products (Excludes Live Animals, Cereal Grains, And Forage Products)\",\"Agricultural Products (Excludes Live Animals, Cereal Grains, And Forage Products)\",\"Agricultural Products (Excludes Live Animals, Cereal Grains, And Forage Products)\",\"Agricultural Products (Excludes Live Animals, Cereal Grains, And Forage Products)\",\"Agricultural Products (Excludes Live Animals, Cereal Grains, And Forage Products)\",\"Agricultural Products (Excludes Live Animals, Cereal Grains, And Forage Products)\",\"Agricultural Products (Excludes Live Animals, Cereal Grains, And Forage Products)\",\"Agricultural Products (Excludes Live Animals, Cereal Grains, And Forage Products)\",\"Agricultural Products (Excludes Live Animals, Cereal Grains, And Forage Products)\",\"Agricultural Products (Excludes Live Animals, Cereal Grains, And Forage Products)\",\"Agricultural Products (Excludes Live Animals, Cereal Grains, And Forage Products)\",\"Agricultural Products (Excludes Live Animals, Cereal Grains, And Forage Products)\",\"Agricultural Products (Excludes Live Animals, Cereal Grains, And Forage Products)\",\"Agricultural Products (Excludes Live Animals, Cereal Grains, And Forage Products)\",\"Agricultural Products (Excludes Live Animals, Cereal Grains, And Forage Products)\",\"Agricultural Products (Excludes Live Animals, Cereal Grains, And Forage Products)\",\"Agricultural Products (Excludes Live Animals, Cereal Grains, And Forage Products)\",\"Agricultural Products (Excludes Live Animals, Cereal Grains, And Forage Products)\",\"Agricultural Products (Excludes Live Animals, Cereal Grains, And Forage Products)\",\"Agricultural Products (Excludes Live Animals, Cereal Grains, And Forage Products)\",\"Agricultural Products (Excludes Live Animals, Cereal Grains, And Forage Products)\",\"Agricultural Products (Excludes Live Animals, Cereal Grains, And Forage Products)\",\"Agricultural Products (Excludes Live Animals, Cereal Grains, And Forage Products)\",\"Agricultural Products (Excludes Live Animals, Cereal Grains, And Forage Products)\",\"Agricultural Products (Excludes Live Animals, Cereal Grains, And Forage Products)\",\"Agricultural Products (Excludes Live Animals, Cereal Grains, And Forage Products)\",\"Agricultural Products (Excludes Live Animals, Cereal Grains, And Forage Products)\",\"Agricultural Products (Excludes Live Animals, Cereal Grains, And Forage Products)\",\"Agricultural Products (Excludes Live Animals, Cereal Grains, And Forage Products)\",\"Agricultural Products (Excludes Live Animals, Cereal Grains, And Forage Products)\",\"Agricultural Products (Excludes Live Animals, Cereal Grains, And Forage Products)\",\"Agricultural Products (Excludes Live Animals, Cereal Grains, And Forage Products)\",\"Animal Feed And Feed Ingredients, Cereal Straw, And Eggs, Honey And Other Products Of Animal Origin N.E.C.\",\"Animal Feed And Feed Ingredients, Cereal Straw, And Eggs, Honey And Other Products Of Animal Origin N.E.C.\",\"Animal Feed And Feed Ingredients, Cereal Straw, And Eggs, Honey And Other Products Of Animal Origin N.E.C.\",\"Animal Feed And Feed Ingredients, Cereal Straw, And Eggs, Honey And Other Products Of Animal Origin N.E.C.\",\"Animal Feed And Feed Ingredients, Cereal Straw, And Eggs, Honey And Other Products Of Animal Origin N.E.C.\",\"Animal Feed And Feed Ingredients, Cereal Straw, And Eggs, Honey And Other Products Of Animal Origin N.E.C.\",\"Animal Feed And Feed Ingredients, Cereal Straw, And Eggs, Honey And Other Products Of Animal Origin N.E.C.\",\"Animal Feed And Feed Ingredients, Cereal Straw, And Eggs, Honey And Other Products Of Animal Origin N.E.C.\",\"Animal Feed And Feed Ingredients, Cereal Straw, And Eggs, Honey And Other Products Of Animal Origin N.E.C.\",\"Animal Feed And Feed Ingredients, Cereal Straw, And Eggs, Honey And Other Products Of Animal Origin N.E.C.\",\"Meat, Fish, Seafood, And Preparations\",\"Meat, Fish, Seafood, And Preparations\",\"Meat, Fish, Seafood, And Preparations\",\"Meat, Fish, Seafood, And Preparations\",\"Meat, Fish, Seafood, And Preparations\",\"Meat, Fish, Seafood, And Preparations\",\"Meat, Fish, Seafood, And Preparations\",\"Meat, Fish, Seafood, And Preparations\",\"Meat, Fish, Seafood, And Preparations\",\"Meat, Fish, Seafood, And Preparations\",\"Meat, Fish, Seafood, And Preparations\",\"Meat, Fish, Seafood, And Preparations\",\"Meat, Fish, Seafood, And Preparations\",\"Meat, Fish, Seafood, And Preparations\",\"Meat, Fish, Seafood, And Preparations\",\"Meat, Fish, Seafood, And Preparations\",\"Meat, Fish, Seafood, And Preparations\",\"Meat, Fish, Seafood, And Preparations\",\"Meat, Fish, Seafood, And Preparations\",\"Meat, Fish, Seafood, And Preparations\",\"Meat, Fish, Seafood, And Preparations\",\"Meat, Fish, Seafood, And Preparations\",\"Milled Grain Products And Preparations, And Bakery Products\",\"Milled Grain Products And Preparations, And Bakery Products\",\"Milled Grain Products And Preparations, And Bakery Products\",\"Milled Grain Products And Preparations, And Bakery Products\",\"Milled Grain Products And Preparations, And Bakery Products\",\"Milled Grain Products And Preparations, And Bakery Products\",\"Milled Grain Products And Preparations, And Bakery Products\",\"Milled Grain Products And Preparations, And Bakery Products\",\"Milled Grain Products And Preparations, And Bakery Products\",\"Milled Grain Products And Preparations, And Bakery Products\",\"Milled Grain Products And Preparations, And Bakery Products\",\"Milled Grain Products And Preparations, And Bakery Products\",\"Milled Grain Products And Preparations, And Bakery Products\",\"Milled Grain Products And Preparations, And Bakery Products\",\"Milled Grain Products And Preparations, And Bakery Products\",\"Milled Grain Products And Preparations, And Bakery Products\",\"Milled Grain Products And Preparations, And Bakery Products\",\"Milled Grain Products And Preparations, And Bakery Products\",\"Milled Grain Products And Preparations, And Bakery Products\",\"Milled Grain Products And Preparations, And Bakery Products\",\"Milled Grain Products And Preparations, And Bakery Products\",\"Milled Grain Products And Preparations, And Bakery Products\",\"Prepared Foodstuffs N.E.C. And Fats And Oils\",\"Prepared Foodstuffs N.E.C. And Fats And Oils\",\"Prepared Foodstuffs N.E.C. And Fats And Oils\",\"Prepared Foodstuffs N.E.C. And Fats And Oils\",\"Prepared Foodstuffs N.E.C. And Fats And Oils\",\"Prepared Foodstuffs N.E.C. And Fats And Oils\",\"Prepared Foodstuffs N.E.C. And Fats And Oils\",\"Prepared Foodstuffs N.E.C. And Fats And Oils\",\"Prepared Foodstuffs N.E.C. And Fats And Oils\",\"Prepared Foodstuffs N.E.C. And Fats And Oils\",\"Prepared Foodstuffs N.E.C. And Fats And Oils\",\"Prepared Foodstuffs N.E.C. And Fats And Oils\",\"Prepared Foodstuffs N.E.C. And Fats And Oils\",\"Prepared Foodstuffs N.E.C. And Fats And Oils\",\"Prepared Foodstuffs N.E.C. And Fats And Oils\",\"Prepared Foodstuffs N.E.C. And Fats And Oils\",\"Prepared Foodstuffs N.E.C. And Fats And Oils\",\"Prepared Foodstuffs N.E.C. And Fats And Oils\",\"Prepared Foodstuffs N.E.C. And Fats And Oils\",\"Prepared Foodstuffs N.E.C. And Fats And Oils\",\"Prepared Foodstuffs N.E.C. And Fats And Oils\",\"Prepared Foodstuffs N.E.C. And Fats And Oils\",\"Prepared Foodstuffs N.E.C. And Fats And Oils\",\"Prepared Foodstuffs N.E.C. And Fats And Oils\",\"Prepared Foodstuffs N.E.C. And Fats And Oils\",\"Prepared Foodstuffs N.E.C. And Fats And Oils\",\"Prepared Foodstuffs N.E.C. And Fats And Oils\",\"Prepared Foodstuffs N.E.C. And Fats And Oils\",\"Prepared Foodstuffs N.E.C. And Fats And Oils\",\"Prepared Foodstuffs N.E.C. And Fats And Oils\",\"Prepared Foodstuffs N.E.C. And Fats And Oils\",\"Prepared Foodstuffs N.E.C. And Fats And Oils\",\"Prepared Foodstuffs N.E.C. And Fats And Oils\",\"Prepared Foodstuffs N.E.C. And Fats And Oils\",\"Prepared Foodstuffs N.E.C. And Fats And Oils\",\"Prepared Foodstuffs N.E.C. And Fats And Oils\",\"Alcoholic Beverages And Denatured Alcohol\",\"Alcoholic Beverages And Denatured Alcohol\",\"Alcoholic Beverages And Denatured Alcohol\",\"Alcoholic Beverages And Denatured Alcohol\",\"Alcoholic Beverages And Denatured Alcohol\",\"Alcoholic Beverages And Denatured Alcohol\",\"Monumental Or Building Stone Except Dolomite\",\"Natural Sands Except Metal-Bearing\",\"Natural Sands Except Metal-Bearing\",\"Natural Sands Except Metal-Bearing\",\"Natural Sands Except Metal-Bearing\",\"Natural Sands Except Metal-Bearing\",\"Natural Sands Except Metal-Bearing\",\"Natural Sands Except Metal-Bearing\",\"Natural Sands Except Metal-Bearing\",\"Natural Sands Except Metal-Bearing\",\"Gravel And Crushed Stone Except Dolomite And Slate\",\"Gravel And Crushed Stone Except Dolomite And Slate\",\"Gravel And Crushed Stone Except Dolomite And Slate\",\"Gravel And Crushed Stone Except Dolomite And Slate\",\"Gravel And Crushed Stone Except Dolomite And Slate\",\"Gravel And Crushed Stone Except Dolomite And Slate\",\"Gravel And Crushed Stone Except Dolomite And Slate\",\"Gravel And Crushed Stone Except Dolomite And Slate\",\"Gravel And Crushed Stone Except Dolomite And Slate\",\"Gravel And Crushed Stone Except Dolomite And Slate\",\"Gravel And Crushed Stone Except Dolomite And Slate\",\"Gravel And Crushed Stone Except Dolomite And Slate\",\"Gravel And Crushed Stone Except Dolomite And Slate\",\"Gravel And Crushed Stone Except Dolomite And Slate\",\"Non-Metallic Minerals N.E.C.\",\"Non-Metallic Minerals N.E.C.\",\"Non-Metallic Minerals N.E.C.\",\"Non-Metallic Minerals N.E.C.\",\"Non-Metallic Minerals N.E.C.\",\"Non-Metallic Minerals N.E.C.\",\"Non-Metallic Minerals N.E.C.\",\"Gasoline And Aviation Turbine Fuel And Ethanol (Includes Kerosene, And Fuel Alcohols)\",\"Gasoline And Aviation Turbine Fuel And Ethanol (Includes Kerosene, And Fuel Alcohols)\",\"Gasoline And Aviation Turbine Fuel And Ethanol (Includes Kerosene, And Fuel Alcohols)\",\"Gasoline And Aviation Turbine Fuel And Ethanol (Includes Kerosene, And Fuel Alcohols)\",\"Gasoline And Aviation Turbine Fuel And Ethanol (Includes Kerosene, And Fuel Alcohols)\",\"Products Of Petroleum Refining N.E.C. And Coal Products\",\"Products Of Petroleum Refining N.E.C. And Coal Products\",\"Products Of Petroleum Refining N.E.C. And Coal Products\",\"Products Of Petroleum Refining N.E.C. And Coal Products\",\"Products Of Petroleum Refining N.E.C. And Coal Products\",\"Products Of Petroleum Refining N.E.C. And Coal Products\",\"Basic Chemicals\",\"Basic Chemicals\",\"Basic Chemicals\",\"Basic Chemicals\",\"Basic Chemicals\",\"Basic Chemicals\",\"Basic Chemicals\",\"Basic Chemicals\",\"Pharmaceutical Products\",\"Pharmaceutical Products\",\"Pharmaceutical Products\",\"Pharmaceutical Products\",\"Pharmaceutical Products\",\"Pharmaceutical Products\",\"Fertilizers And Fertilizer Materials\",\"Fertilizers And Fertilizer Materials\",\"Fertilizers And Fertilizer Materials\",\"Chemical Products And Preparations N.E.C.\",\"Chemical Products And Preparations N.E.C.\",\"Chemical Products And Preparations N.E.C.\",\"Chemical Products And Preparations N.E.C.\",\"Chemical Products And Preparations N.E.C.\",\"Chemical Products And Preparations N.E.C.\",\"Chemical Products And Preparations N.E.C.\",\"Chemical Products And Preparations N.E.C.\",\"Chemical Products And Preparations N.E.C.\",\"Chemical Products And Preparations N.E.C.\",\"Chemical Products And Preparations N.E.C.\",\"Chemical Products And Preparations N.E.C.\",\"Chemical Products And Preparations N.E.C.\",\"Chemical Products And Preparations N.E.C.\",\"Chemical Products And Preparations N.E.C.\",\"Plastics And Rubber\",\"Plastics And Rubber\",\"Plastics And Rubber\",\"Plastics And Rubber\",\"Plastics And Rubber\",\"Plastics And Rubber\",\"Plastics And Rubber\",\"Plastics And Rubber\",\"Plastics And Rubber\",\"Plastics And Rubber\",\"Plastics And Rubber\",\"Plastics And Rubber\",\"Plastics And Rubber\",\"Plastics And Rubber\",\"Plastics And Rubber\",\"Plastics And Rubber\",\"Plastics And Rubber\",\"Plastics And Rubber\",\"Plastics And Rubber\",\"Plastics And Rubber\",\"Plastics And Rubber\",\"Plastics And Rubber\",\"Plastics And Rubber\",\"Plastics And Rubber\",\"Wood Products\",\"Wood Products\",\"Wood Products\",\"Wood Products\",\"Wood Products\",\"Wood Products\",\"Wood Products\",\"Wood Products\",\"Wood Products\",\"Wood Products\",\"Wood Products\",\"Wood Products\",\"Wood Products\",\"Wood Products\",\"Wood Products\",\"Wood Products\",\"Pulp, Newsprint, Paper, And Paperboard\",\"Pulp, Newsprint, Paper, And Paperboard\",\"Pulp, Newsprint, Paper, And Paperboard\",\"Pulp, Newsprint, Paper, And Paperboard\",\"Pulp, Newsprint, Paper, And Paperboard\",\"Pulp, Newsprint, Paper, And Paperboard\",\"Pulp, Newsprint, Paper, And Paperboard\",\"Pulp, Newsprint, Paper, And Paperboard\",\"Pulp, Newsprint, Paper, And Paperboard\",\"Pulp, Newsprint, Paper, And Paperboard\",\"Pulp, Newsprint, Paper, And Paperboard\",\"Pulp, Newsprint, Paper, And Paperboard\",\"Pulp, Newsprint, Paper, And Paperboard\",\"Pulp, Newsprint, Paper, And Paperboard\",\"Pulp, Newsprint, Paper, And Paperboard\",\"Pulp, Newsprint, Paper, And Paperboard\",\"Pulp, Newsprint, Paper, And Paperboard\",\"Pulp, Newsprint, Paper, And Paperboard\",\"Paper Or Paperboard Articles\",\"Paper Or Paperboard Articles\",\"Paper Or Paperboard Articles\",\"Paper Or Paperboard Articles\",\"Paper Or Paperboard Articles\",\"Paper Or Paperboard Articles\",\"Paper Or Paperboard Articles\",\"Paper Or Paperboard Articles\",\"Paper Or Paperboard Articles\",\"Paper Or Paperboard Articles\",\"Paper Or Paperboard Articles\",\"Paper Or Paperboard Articles\",\"Paper Or Paperboard Articles\",\"Paper Or Paperboard Articles\",\"Paper Or Paperboard Articles\",\"Paper Or Paperboard Articles\",\"Printed Products\",\"Printed Products\",\"Printed Products\",\"Printed Products\",\"Printed Products\",\"Printed Products\",\"Printed Products\",\"Printed Products\",\"Printed Products\",\"Printed Products\",\"Textiles, Leather, And Articles\",\"Textiles, Leather, And Articles\",\"Textiles, Leather, And Articles\",\"Textiles, Leather, And Articles\",\"Textiles, Leather, And Articles\",\"Textiles, Leather, And Articles\",\"Textiles, Leather, And Articles\",\"Textiles, Leather, And Articles\",\"Textiles, Leather, And Articles\",\"Textiles, Leather, And Articles\",\"Textiles, Leather, And Articles\",\"Textiles, Leather, And Articles\",\"Non-Metallic Mineral Products\",\"Non-Metallic Mineral Products\",\"Non-Metallic Mineral Products\",\"Non-Metallic Mineral Products\",\"Non-Metallic Mineral Products\",\"Non-Metallic Mineral Products\",\"Non-Metallic Mineral Products\",\"Non-Metallic Mineral Products\",\"Non-Metallic Mineral Products\",\"Non-Metallic Mineral Products\",\"Non-Metallic Mineral Products\",\"Non-Metallic Mineral Products\",\"Non-Metallic Mineral Products\",\"Non-Metallic Mineral Products\",\"Non-Metallic Mineral Products\",\"Non-Metallic Mineral Products\",\"Non-Metallic Mineral Products\",\"Non-Metallic Mineral Products\",\"Non-Metallic Mineral Products\",\"Non-Metallic Mineral Products\",\"Non-Metallic Mineral Products\",\"Non-Metallic Mineral Products\",\"Non-Metallic Mineral Products\",\"Base Metal In Primary Or Semi-Finished Forms And In Finished Basic Shapes\",\"Base Metal In Primary Or Semi-Finished Forms And In Finished Basic Shapes\",\"Base Metal In Primary Or Semi-Finished Forms And In Finished Basic Shapes\",\"Base Metal In Primary Or Semi-Finished Forms And In Finished Basic Shapes\",\"Base Metal In Primary Or Semi-Finished Forms And In Finished Basic Shapes\",\"Base Metal In Primary Or Semi-Finished Forms And In Finished Basic Shapes\",\"Base Metal In Primary Or Semi-Finished Forms And In Finished Basic Shapes\",\"Base Metal In Primary Or Semi-Finished Forms And In Finished Basic Shapes\",\"Base Metal In Primary Or Semi-Finished Forms And In Finished Basic Shapes\",\"Base Metal In Primary Or Semi-Finished Forms And In Finished Basic Shapes\",\"Base Metal In Primary Or Semi-Finished Forms And In Finished Basic Shapes\",\"Base Metal In Primary Or Semi-Finished Forms And In Finished Basic Shapes\",\"Base Metal In Primary Or Semi-Finished Forms And In Finished Basic Shapes\",\"Base Metal In Primary Or Semi-Finished Forms And In Finished Basic Shapes\",\"Base Metal In Primary Or Semi-Finished Forms And In Finished Basic Shapes\",\"Base Metal In Primary Or Semi-Finished Forms And In Finished Basic Shapes\",\"Base Metal In Primary Or Semi-Finished Forms And In Finished Basic Shapes\",\"Base Metal In Primary Or Semi-Finished Forms And In Finished Basic Shapes\",\"Base Metal In Primary Or Semi-Finished Forms And In Finished Basic Shapes\",\"Base Metal In Primary Or Semi-Finished Forms And In Finished Basic Shapes\",\"Articles Of Base Metal\",\"Articles Of Base Metal\",\"Articles Of Base Metal\",\"Articles Of Base Metal\",\"Articles Of Base Metal\",\"Articles Of Base Metal\",\"Articles Of Base Metal\",\"Articles Of Base Metal\",\"Articles Of Base Metal\",\"Articles Of Base Metal\",\"Articles Of Base Metal\",\"Articles Of Base Metal\",\"Articles Of Base Metal\",\"Articles Of Base Metal\",\"Articles Of Base Metal\",\"Articles Of Base Metal\",\"Articles Of Base Metal\",\"Machinery\",\"Machinery\",\"Machinery\",\"Machinery\",\"Machinery\",\"Machinery\",\"Machinery\",\"Machinery\",\"Machinery\",\"Machinery\",\"Machinery\",\"Machinery\",\"Machinery\",\"Machinery\",\"Machinery\",\"Machinery\",\"Electronic And Other Electrical Equipment And Components, And Office Equipment\",\"Electronic And Other Electrical Equipment And Components, And Office Equipment\",\"Electronic And Other Electrical Equipment And Components, And Office Equipment\",\"Electronic And Other Electrical Equipment And Components, And Office Equipment\",\"Electronic And Other Electrical Equipment And Components, And Office Equipment\",\"Electronic And Other Electrical Equipment And Components, And Office Equipment\",\"Electronic And Other Electrical Equipment And Components, And Office Equipment\",\"Electronic And Other Electrical Equipment And Components, And Office Equipment\",\"Electronic And Other Electrical Equipment And Components, And Office Equipment\",\"Electronic And Other Electrical Equipment And Components, And Office Equipment\",\"Electronic And Other Electrical Equipment And Components, And Office Equipment\",\"Electronic And Other Electrical Equipment And Components, And Office Equipment\",\"Electronic And Other Electrical Equipment And Components, And Office Equipment\",\"Electronic And Other Electrical Equipment And Components, And Office Equipment\",\"Electronic And Other Electrical Equipment And Components, And Office Equipment\",\"Electronic And Other Electrical Equipment And Components, And Office Equipment\",\"Electronic And Other Electrical Equipment And Components, And Office Equipment\",\"Electronic And Other Electrical Equipment And Components, And Office Equipment\",\"Electronic And Other Electrical Equipment And Components, And Office Equipment\",\"Electronic And Other Electrical Equipment And Components, And Office Equipment\",\"Motorized And Other Vehicles (Includes Parts)\",\"Motorized And Other Vehicles (Includes Parts)\",\"Motorized And Other Vehicles (Includes Parts)\",\"Motorized And Other Vehicles (Includes Parts)\",\"Motorized And Other Vehicles (Includes Parts)\",\"Motorized And Other Vehicles (Includes Parts)\",\"Motorized And Other Vehicles (Includes Parts)\",\"Motorized And Other Vehicles (Includes Parts)\",\"Motorized And Other Vehicles (Includes Parts)\",\"Motorized And Other Vehicles (Includes Parts)\",\"Motorized And Other Vehicles (Includes Parts)\",\"Motorized And Other Vehicles (Includes Parts)\",\"Motorized And Other Vehicles (Includes Parts)\",\"Motorized And Other Vehicles (Includes Parts)\",\"Motorized And Other Vehicles (Includes Parts)\",\"Motorized And Other Vehicles (Includes Parts)\",\"Motorized And Other Vehicles (Includes Parts)\",\"Motorized And Other Vehicles (Includes Parts)\",\"Motorized And Other Vehicles (Includes Parts)\",\"Motorized And Other Vehicles (Includes Parts)\",\"Motorized And Other Vehicles (Includes Parts)\",\"Motorized And Other Vehicles (Includes Parts)\",\"Motorized And Other Vehicles (Includes Parts)\",\"Motorized And Other Vehicles (Includes Parts)\",\"Motorized And Other Vehicles (Includes Parts)\",\"Transportation Equipment N.E.C.\",\"Transportation Equipment N.E.C.\",\"Transportation Equipment N.E.C.\",\"Transportation Equipment N.E.C.\",\"Precision Instruments And Apparatus\",\"Precision Instruments And Apparatus\",\"Precision Instruments And Apparatus\",\"Furniture, Mattresses And Mattress Supports, Lamps, Lighting Fittings, And Illuminated Signs\",\"Furniture, Mattresses And Mattress Supports, Lamps, Lighting Fittings, And Illuminated Signs\",\"Furniture, Mattresses And Mattress Supports, Lamps, Lighting Fittings, And Illuminated Signs\",\"Furniture, Mattresses And Mattress Supports, Lamps, Lighting Fittings, And Illuminated Signs\",\"Furniture, Mattresses And Mattress Supports, Lamps, Lighting Fittings, And Illuminated Signs\",\"Furniture, Mattresses And Mattress Supports, Lamps, Lighting Fittings, And Illuminated Signs\",\"Furniture, Mattresses And Mattress Supports, Lamps, Lighting Fittings, And Illuminated Signs\",\"Furniture, Mattresses And Mattress Supports, Lamps, Lighting Fittings, And Illuminated Signs\",\"Furniture, Mattresses And Mattress Supports, Lamps, Lighting Fittings, And Illuminated Signs\",\"Furniture, Mattresses And Mattress Supports, Lamps, Lighting Fittings, And Illuminated Signs\",\"Furniture, Mattresses And Mattress Supports, Lamps, Lighting Fittings, And Illuminated Signs\",\"Furniture, Mattresses And Mattress Supports, Lamps, Lighting Fittings, And Illuminated Signs\",\"Furniture, Mattresses And Mattress Supports, Lamps, Lighting Fittings, And Illuminated Signs\",\"Furniture, Mattresses And Mattress Supports, Lamps, Lighting Fittings, And Illuminated Signs\",\"Furniture, Mattresses And Mattress Supports, Lamps, Lighting Fittings, And Illuminated Signs\",\"Furniture, Mattresses And Mattress Supports, Lamps, Lighting Fittings, And Illuminated Signs\",\"Furniture, Mattresses And Mattress Supports, Lamps, Lighting Fittings, And Illuminated Signs\",\"Furniture, Mattresses And Mattress Supports, Lamps, Lighting Fittings, And Illuminated Signs\",\"Furniture, Mattresses And Mattress Supports, Lamps, Lighting Fittings, And Illuminated Signs\",\"Furniture, Mattresses And Mattress Supports, Lamps, Lighting Fittings, And Illuminated Signs\",\"Miscellaneous Manufactured Products\",\"Miscellaneous Manufactured Products\",\"Miscellaneous Manufactured Products\",\"Miscellaneous Manufactured Products\",\"Miscellaneous Manufactured Products\",\"Miscellaneous Manufactured Products\",\"Miscellaneous Manufactured Products\",\"Miscellaneous Manufactured Products\",\"Miscellaneous Manufactured Products\",\"Waste And Scrap (Excludes Of Agricultural Or Food)\",\"Waste And Scrap (Excludes Of Agricultural Or Food)\",\"Waste And Scrap (Excludes Of Agricultural Or Food)\",\"Waste And Scrap (Excludes Of Agricultural Or Food)\",\"Waste And Scrap (Excludes Of Agricultural Or Food)\",\"Waste And Scrap (Excludes Of Agricultural Or Food)\",\"Waste And Scrap (Excludes Of Agricultural Or Food)\",\"Waste And Scrap (Excludes Of Agricultural Or Food)\",\"Waste And Scrap (Excludes Of Agricultural Or Food)\",\"Waste And Scrap (Excludes Of Agricultural Or Food)\",\"Waste And Scrap (Excludes Of Agricultural Or Food)\",\"Waste And Scrap (Excludes Of Agricultural Or Food)\",\"Waste And Scrap (Excludes Of Agricultural Or Food)\",\"Waste And Scrap (Excludes Of Agricultural Or Food)\",\"Waste And Scrap (Excludes Of Agricultural Or Food)\",\"Waste And Scrap (Excludes Of Agricultural Or Food)\",\"Waste And Scrap (Excludes Of Agricultural Or Food)\",\"Waste And Scrap (Excludes Of Agricultural Or Food)\",\"Waste And Scrap (Excludes Of Agricultural Or Food)\",\"Waste And Scrap (Excludes Of Agricultural Or Food)\",\"Waste And Scrap (Excludes Of Agricultural Or Food)\",\"Waste And Scrap (Excludes Of Agricultural Or Food)\",\"Waste And Scrap (Excludes Of Agricultural Or Food)\",\"Waste And Scrap (Excludes Of Agricultural Or Food)\",\"Waste And Scrap (Excludes Of Agricultural Or Food)\",\"Waste And Scrap (Excludes Of Agricultural Or Food)\",\"Waste And Scrap (Excludes Of Agricultural Or Food)\",\"Waste And Scrap (Excludes Of Agricultural Or Food)\",\"Waste And Scrap (Excludes Of Agricultural Or Food)\",\"Waste And Scrap (Excludes Of Agricultural Or Food)\",\"Waste And Scrap (Excludes Of Agricultural Or Food)\",\"Mail And Parcels\",\"Mail And Parcels\",\"Mail And Parcels\",\"Mail And Parcels\",\"Mail And Parcels\",\"Mail And Parcels\",\"Mail And Parcels\",\"Mail And Parcels\",\"Mail And Parcels\",\"Mail And Parcels\",\"Mail And Parcels\",\"Mail And Parcels\",\"Mail And Parcels\",\"Mail And Parcels\",\"Mail And Parcels\",\"Mail And Parcels\",\"Mail And Parcels\",\"Mail And Parcels\",\"Mail And Parcels\",\"Mail And Parcels\",\"Mail And Parcels\",\"Mail And Parcels\",\"Mixed Freight\",\"Mixed Freight\",\"Mixed Freight\",\"Mixed Freight\",\"Mixed Freight\",\"Mixed Freight\",\"Mixed Freight\",\"Mixed Freight\",\"Mixed Freight\",\"Mixed Freight\",\"Mixed Freight\",\"Mixed Freight\",\"Mixed Freight\",\"Mixed Freight\",\"Mixed Freight\",\"Mixed Freight\",\"Mixed Freight\",\"Mixed Freight\",\"Mixed Freight\",\"Mixed Freight\",\"Mixed Freight\",\"Mixed Freight\",\"Mixed Freight\",\"Mixed Freight\",\"Mixed Freight\",\"Mixed Freight\",\"Mixed Freight\",\"Mixed Freight\",\"Mixed Freight\",\"Mixed Freight\",\"Mixed Freight\",\"Shipping Containers Returned Empty\",\"Shipping Containers Returned Empty\",\"Shipping Containers Returned Empty\",\"Shipping Containers Returned Empty\",\"Shipping Containers Returned Empty\",\"Shipping Containers Returned Empty\",\"Shipping Containers Returned Empty\",\"Shipping Containers Returned Empty\",\"Shipping Containers Returned Empty\",\"Shipping Containers Returned Empty\",\"Shipping Containers Returned Empty\",\"Shipping Containers Returned Empty\",\"Shipping Containers Returned Empty\",\"Shipping Containers Returned Empty\",\"Shipping Containers Returned Empty\",\"Shipping Containers Returned Empty\",\"Shipping Containers Returned Empty\",\"Shipping Containers Returned Empty\",\"Shipping Containers Returned Empty\",\"Shipping Containers Returned Empty\",\"Shipping Containers Returned Empty\",\"Shipping Containers Returned Empty\",\"Shipping Containers Returned Empty\",\"Shipping Containers Returned Empty\",\"Shipping Containers Returned Empty\",\"Shipping Containers Returned Empty\",\"Shipping Containers Returned Empty\",\"Shipping Containers Returned Empty\",\"Tools, Equipment Or Other Goods On Company Service, Being Transported But Not For Sale\",\"Tools, Equipment Or Other Goods On Company Service, Being Transported But Not For Sale\",\"Tools, Equipment Or Other Goods On Company Service, Being Transported But Not For Sale\",\"Tools, Equipment Or Other Goods On Company Service, Being Transported But Not For Sale\",\"Tools, Equipment Or Other Goods On Company Service, Being Transported But Not For Sale\",\"Tools, Equipment Or Other Goods On Company Service, Being Transported But Not For Sale\",\"Tools, Equipment Or Other Goods On Company Service, Being Transported But Not For Sale\",\"Tools, Equipment Or Other Goods On Company Service, Being Transported But Not For Sale\",\"Tools, Equipment Or Other Goods On Company Service, Being Transported But Not For Sale\",\"Tools, Equipment Or Other Goods On Company Service, Being Transported But Not For Sale\",\"Privately-Owned Goods Being Transported Or Serviced\",\"Privately-Owned Goods Being Transported Or Serviced\",\"Privately-Owned Goods Being Transported Or Serviced\",\"Privately-Owned Goods Being Transported Or Serviced\",\"Privately-Owned Goods Being Transported Or Serviced\",\"Privately-Owned Goods Being Transported Or Serviced\",\"Privately-Owned Goods Being Transported Or Serviced\",\"Privately-Owned Goods Being Transported Or Serviced\",\"Privately-Owned Goods Being Transported Or Serviced\",\"Nature Of Freight Not Known To Driver\",\"Nature Of Freight Not Known To Driver\",\"Nature Of Freight Not Known To Driver\",\"Nature Of Freight Not Known To Driver\",\"Nature Of Freight Not Known To Driver\",\"Nature Of Freight Not Known To Driver\",\"Vehicle Not Intended To Carry Cargo (Non Cargo-Carrying Vehicle)\",\"Vehicle Not Intended To Carry Cargo (Non Cargo-Carrying Vehicle)\",\"Vehicle Not Intended To Carry Cargo (Non Cargo-Carrying Vehicle)\",\"Vehicle Not Intended To Carry Cargo (Non Cargo-Carrying Vehicle)\",\"Vehicle Not Intended To Carry Cargo (Non Cargo-Carrying Vehicle)\",\"Vehicle Not Intended To Carry Cargo (Non Cargo-Carrying Vehicle)\",\"Other\",\"Other\"],\"Commodity_Group_Code\":[0,0,0,0,0,0,0,0,0,0,0,0,0,0,0,0,0,0,0,0,0,0,0,0,0,0,0,0,0,0,0,0,0,0,0,0,0,0,0,0,0,0,0,0,0,0,0,0,0,0,0,1,1,1,1,1,1,3,3,3,3,3,3,3,3,3,3,3,3,3,3,3,3,3,3,3,3,3,3,3,3,3,3,3,3,3,3,3,3,3,3,3,3,3,4,4,4,4,4,4,4,4,4,4,5,5,5,5,5,5,5,5,5,5,5,5,5,5,5,5,5,5,5,5,5,5,6,6,6,6,6,6,6,6,6,6,6,6,6,6,6,6,6,6,6,6,6,6,7,7,7,7,7,7,7,7,7,7,7,7,7,7,7,7,7,7,7,7,7,7,7,7,7,7,7,7,7,7,7,7,7,7,7,7,8,8,8,8,8,8,10,11,11,11,11,11,11,11,11,11,12,12,12,12,12,12,12,12,12,12,12,12,12,12,13,13,13,13,13,13,13,17,17,17,17,17,19,19,19,19,19,19,20,20,20,20,20,20,20,20,21,21,21,21,21,21,22,22,22,23,23,23,23,23,23,23,23,23,23,23,23,23,23,23,24,24,24,24,24,24,24,24,24,24,24,24,24,24,24,24,24,24,24,24,24,24,24,24,26,26,26,26,26,26,26,26,26,26,26,26,26,26,26,26,27,27,27,27,27,27,27,27,27,27,27,27,27,27,27,27,27,27,28,28,28,28,28,28,28,28,28,28,28,28,28,28,28,28,29,29,29,29,29,29,29,29,29,29,30,30,30,30,30,30,30,30,30,30,30,30,31,31,31,31,31,31,31,31,31,31,31,31,31,31,31,31,31,31,31,31,31,31,31,32,32,32,32,32,32,32,32,32,32,32,32,32,32,32,32,32,32,32,32,33,33,33,33,33,33,33,33,33,33,33,33,33,33,33,33,33,34,34,34,34,34,34,34,34,34,34,34,34,34,34,34,34,35,35,35,35,35,35,35,35,35,35,35,35,35,35,35,35,35,35,35,35,36,36,36,36,36,36,36,36,36,36,36,36,36,36,36,36,36,36,36,36,36,36,36,36,36,37,37,37,37,38,38,38,39,39,39,39,39,39,39,39,39,39,39,39,39,39,39,39,39,39,39,39,40,40,40,40,40,40,40,40,40,41,41,41,41,41,41,41,41,41,41,41,41,41,41,41,41,41,41,41,41,41,41,41,41,41,41,41,41,41,41,41,42,42,42,42,42,42,42,42,42,42,42,42,42,42,42,42,42,42,42,42,42,42,43,43,43,43,43,43,43,43,43,43,43,43,43,43,43,43,43,43,43,43,43,43,43,43,43,43,43,43,43,43,43,44,44,44,44,44,44,44,44,44,44,44,44,44,44,44,44,44,44,44,44,44,44,44,44,44,44,44,44,45,45,45,45,45,45,45,45,45,45,46,46,46,46,46,46,46,46,46,97,97,97,97,97,97,98,98,98,98,98,98,99,99],\"Commodity_Weight\":[\" -   \",\" -   \",\" -   \",\" -   \",\" -   \",\" -   \",\" -   \",\" -   \",\" -   \",\" -   \",\" -   \",\" -   \",\" -   \",\" -   \",\" -   \",\" -   \",\" -   \",\" -   \",\" -   \",\" -   \",\" -   \",\" -   \",\" -   \",\" -   \",\" -   \",\" -   \",\" -   \",\" -   \",\" -   \",\" -   \",\" -   \",\" -   \",\" -   \",\" -   \",\" -   \",\" -   \",\" -   \",\" -   \",\" -   \",\" -   \",\" -   \",\" -   \",\" -   \",\" -   \",\" -   \",\" -   \",\" -   \",\" -   \",\" -   \",\" -   \",\" -   \",\" 82,745 \",\" 156,705 \",\" 69,776 \",\" 167,006 \",\" 1,668 \",\" 26,952 \",\" 152,334 \",\" 120,799 \",\" 119,948 \",\" 44,183 \",\" 103,016 \",\" 25,949 \",\" 125,912 \",\" 80,290 \",\" 126,244 \",\" 17,638 \",\" 6,763 \",\" 43,326 \",\" 1,630 \",\" 60,795 \",\" 21,404 \",\" 42,352 \",\" 45,359 \",\" 898,797 \",\" 293,165 \",\" 268,716 \",\" 73,638 \",\" 124,563 \",\" 59,126 \",\" 142,757 \",\" 2,661 \",\" 42,889 \",\" 47,446 \",\" 11,318 \",\" 106,084 \",\" 710,528 \",\" 81,641 \",\" 31,663 \",\" 227,585 \",\" 96,685 \",\" 59,983 \",\" 27,685 \",\" 233,224 \",\" 16,416 \",\" 715 \",\" 32,225 \",\" 98,322 \",\" 23,024 \",\" 12,182 \",\" 24,995 \",\" 25,368 \",\" 40,686 \",\" 9,357 \",\" 195,325 \",\" 98,248 \",\" 69,577 \",\" 76,018 \",\" 43,754 \",\" 102,346 \",\" 5,688 \",\" 19,017 \",\" 26,184 \",\" 23,546 \",\" 8,506 \",\" 94,650 \",\" 24,681 \",\" 156,716 \",\" 34,328 \",\" 40,752 \",\" 106,533 \",\" 30,053 \",\" 1,639 \",\" 17,218 \",\" 38,913 \",\" 59,187 \",\" 36,399 \",\" 29,304 \",\" 47,889 \",\" 8,452 \",\" 61,083 \",\" 68,854 \",\" 21,592 \",\" 53,056 \",\" 60,048 \",\" 33,469 \",\" 24,123 \",\" 328,818 \",\" 275,791 \",\" 69,313 \",\" 3,881 \",\" 82,319 \",\" 68,430 \",\" 1,370 \",\" 19,427 \",\" 3,794 \",\" 368,351 \",\" 11,146 \",\" 421,503 \",\" 36,141 \",\" 53,062 \",\" 247,078 \",\" 52,967 \",\" 46,329 \",\" 83,415 \",\" 26,728 \",\" 87,913 \",\" 65,520 \",\" 31,185 \",\" 52,761 \",\" 24,584 \",\" 265,986 \",\" 2,457 \",\" 76,637 \",\" 68,518 \",\" 19,634 \",\" 139,893 \",\" 5,463 \",\" 116,379 \",\" 14,826 \",\" 24,124 \",\" 43,673 \",\" 44,199 \",\" 68,196 \",\" 321,429 \",\" 1,377,673 \",\" 30,844 \",\" 21,076 \",\" 608,403 \",\" 184,467 \",\" 21,606 \",\" 195,389 \",\" 1,228,159 \",\" 8,293 \",\" 27,518 \",\" 35,268 \",\" 132,468 \",\" 4,488 \",\" 55,031 \",\" 46,397 \",\" 40,069 \",\" 179,728 \",\" 131,514 \",\" 73,382 \",\" 187,895 \",\" 578,271 \",\" 182,246 \",\" 1,058,986 \",\" 481,999 \",\" 26,209 \",\" 44,106 \",\" 638,933 \",\" 1,482,157 \",\" 1,889,666 \",\" 715,971 \",\" 95,075 \",\" 3,135,685 \",\" 774,294 \",\" 472,456 \",\" 145,532 \",\" 455,877 \",\" 218,283 \",\" 913,560 \",\" 285,548 \",\" 439,812 \",\" 51,871 \",\" 24,988 \",\" 1,000,000 \",\" 41,494 \",\" 31,746 \",\" 85,460 \",\" 204,205 \",\" 263,513 \",\" 717,907 \",\" 511,061 \",\" 57,084 \",\" 103,223 \",\" 49,924 \",\" 200,396 \",\" 83,399 \",\" 32,892 \",\" 23,500 \",\" 91,650 \",\" 42,779 \",\" 57,859 \",\" 35,650 \",\" 40,618 \",\" 52,476 \",\" 115,415 \",\" 27,844 \",\" 667 \",\" 10,907 \",\" 6,210 \",\" 80,424 \",\" 38,019 \",\" 10,417 \",\" 31,977 \",\" 143,740 \",\" 46,280 \",\" 49,895 \",\" 48,574 \",\" 26,372 \",\" 6,221 \",\" 122,796 \",\" 24,571 \",\" 286,752 \",\" 51,045 \",\" 39,687 \",\" 41,746 \",\" 118,828 \",\" 30,758 \",\" 11,424 \",\" 28,792 \",\" 54,968 \",\" 19,805 \",\" 19,010 \",\" 17,820 \",\" 10,854 \",\" 15,515 \",\" 15,909 \",\" 7,556 \",\" 34,400 \",\" 8,157 \",\" 42,712 \",\" 854 \",\" 14,857 \",\" 181,593 \",\" 33,952 \",\" 200,026 \",\" 2,142 \",\" 64,033 \",\" 55,410 \",\" 2,486 \",\" 67,475 \",\" 20,579 \",\" 28,534 \",\" 34,816 \",\" 28,639 \",\" 13,282 \",\" 70,613 \",\" 8,596 \",\" 14,916 \",\" 43,687 \",\" 57,200 \",\" 16,146 \",\" 21,330 \",\" 86,479 \",\" 29,093 \",\" 197,283 \",\" 71,819 \",\" 79,396 \",\" 7,476 \",\" 68,571 \",\" 42,672 \",\" 33,365 \",\" 33,394 \",\" 23,473 \",\" 58,220 \",\" 24,130 \",\" 41,807 \",\" 35,419 \",\" 92,047 \",\" 104,294 \",\" 101,936 \",\" 80,289 \",\" 26,202 \",\" 33,992 \",\" 194,454 \",\" 219,058 \",\" 33,522 \",\" 239,888 \",\" 58,858 \",\" 129 \",\" 21,187 \",\" 5,310 \",\" 58,364 \",\" 96,735 \",\" 6,440 \",\" 32,400 \",\" 70,373 \",\" 29,685 \",\" 17,225 \",\" 90,925 \",\" 44,818 \",\" 27,939 \",\" 7,251 \",\" 11,890 \",\" 9,742 \",\" 13,907 \",\" 16,168 \",\" 19,756 \",\" 52,105 \",\" 24,710 \",\" 36,675 \",\" 102,912 \",\" 21,460 \",\" 31,289 \",\" 24,541 \",\" 7,245 \",\" 18,749 \",\" 22,691 \",\" 69,106 \",\" 41,231 \",\" 6,650 \",\" 7,175 \",\" 335 \",\" 91,032 \",\" 12,295 \",\" 17,654 \",\" 19,021 \",\" 41,395 \",\" 122,299 \",\" 21,555 \",\" 27,765 \",\" 365,179 \",\" 4,615 \",\" 1,371,513 \",\" 165,061 \",\" 34,783 \",\" 121,062 \",\" 16,793 \",\" 186,145 \",\" 9,617 \",\" 25,642 \",\" 37,076 \",\" 754,068 \",\" 22,224 \",\" 73,569 \",\" 1,201,351 \",\" 8,000 \",\" 227,275 \",\" 502,632 \",\" 51,147 \",\" 16,072 \",\" 213,525 \",\" 149,214 \",\" 19,968 \",\" 184,928 \",\" 110,790 \",\" 97,501 \",\" 164,758 \",\" 47,161 \",\" 38,552 \",\" 92,875 \",\" 81,294 \",\" 8,747 \",\" 59,909 \",\" 190,224 \",\" 1,223,003 \",\" 44,607 \",\" 25,174 \",\" 99,038 \",\" 52,756 \",\" 11,635 \",\" 82,031 \",\" 237,030 \",\" 137,363 \",\" 14,480 \",\" 25,095 \",\" 3,382 \",\" 143,547 \",\" 33,395 \",\" 7,782 \",\" 15,840 \",\" 4,887 \",\" 890 \",\" 12,897 \",\" 14,067 \",\" 8,524 \",\" 46,183 \",\" 1,339 \",\" 4,783 \",\" 75,114 \",\" 44,564 \",\" 6,184 \",\" 21,481 \",\" 9,488 \",\" 88,666 \",\" 3,098 \",\" 10,469 \",\" 13,701 \",\" 3,174 \",\" 9,912 \",\" 51,902 \",\" 8,649 \",\" 87,516 \",\" 14,886 \",\" 8,108 \",\" 5,519 \",\" 5,306 \",\" 17,708 \",\" 11,707 \",\" 902 \",\" 8,296 \",\" 21,293 \",\" 145,813 \",\" 536,743 \",\" 12,943 \",\" 23,652 \",\" 80,575 \",\" 41,433 \",\" 1,439 \",\" 4,018 \",\" 1,071 \",\" 35,506 \",\" 16,462 \",\" 24,882 \",\" 29,070 \",\" 133,077 \",\" 6,359 \",\" 108,700 \",\" 7,086 \",\" 117,249 \",\" 15,374 \",\" 156,233 \",\" 12,062 \",\" 37,171 \",\" 78,657 \",\" 6,815 \",\" 92,516 \",\" 11,859 \",\" 86,488 \",\" 114,991 \",\" 28,140 \",\" 5,387 \",\" 41,251 \",\" 25,713 \",\" 39,066 \",\" 16,300 \",\" 148,003 \",\" 62,355 \",\" 3,695 \",\" 54,596 \",\" 3,455 \",\" 5,116 \",\" 3,546 \",\" 4,300 \",\" 18,049 \",\" 6,950 \",\" 123,773 \",\" 4,219 \",\" 39,659 \",\" 2,096 \",\" 147,343 \",\" 9,289 \",\" 46,553 \",\" 11,313 \",\" 5,033 \",\" 510 \",\" 11,890 \",\" 11,248 \",\" 5,485 \",\" 22,011 \",\" 1,852 \",\" 1,590 \",\" 42,409 \",\" 28,528 \",\" 37,403 \",\" 113,677 \",\" 20,913 \",\" 53,680 \",\" 161,356 \",\" 2,325 \",\" 14,866 \",\" 1,724 \",\" 367 \",\" 7,046 \",\" 156,846 \",\" 4,160 \",\" 72,304 \",\" 27,241 \",\" 106,601 \",\" 8,627 \",\" 73,278 \",\" 53,031 \",\" 560,170 \",\" 94,226 \",\" 71,913 \",\" 50,000 \",\" 46,130 \",\" 17,241 \",\" 16,619 \",\" 88,949 \",\" 1,013,670 \",\" 167,196 \",\" 175,685 \",\" 326,894 \",\" 218,407 \",\" 67,146 \",\" 17,477 \",\" 250,949 \",\" 9,650 \",\" 6,774 \",\" 223,646 \",\" 31,165 \",\" 9,971 \",\" 21,369 \",\" 55,975 \",\" 10,917 \",\" 5,935 \",\" 2,681 \",\" 22,086 \",\" 10,256 \",\" 8,538 \",\" 82,578 \",\" 24,201 \",\" 6,157 \",\" 20,479 \",\" 7,774 \",\" 11,582 \",\" 89,843 \",\" 16,612 \",\" 81,000 \",\" 5,499 \",\" 12,798 \",\" 17,497 \",\" 26,281 \",\" 37,566 \",\" 36,237 \",\" 45,506 \",\" 138,594 \",\" 3,624 \",\" 89,564 \",\" 21,701 \",\" 37,420 \",\" 6,032 \",\" 95,303 \",\" 11,324 \",\" 32,953 \",\" 24,932 \",\" 55,834 \",\" 2,724 \",\" 114,115 \",\" 25,017 \",\" 926,662 \",\" 5,342 \",\" 27,020 \",\" 5,835 \",\" 42,441 \",\" 23,579 \",\" 15,008 \",\" 54,788 \",\" 913 \",\" 15,646 \",\" 42,105 \",\" 26,025 \",\" 128,152 \",\" 21,552 \",\" 66,996 \",\" 52,151 \",\" 9,462 \",\" -   \",\" -   \",\" -   \",\" 33,144 \",\" 11,982 \",\" 8,215 \",\" -   \",\" -   \",\" 11,010 \",\" -   \",\" 887 \",\" 5,082 \",\" 3,963 \",\" -   \",\" 162,687 \",\" -   \",\" -   \",\" 20,116 \",\" -   \",\" 40,666 \",\" -   \",\" 1,332 \",\" 58,138 \",\" -   \",\" -   \",\" -   \",\" 13,689 \",\" -   \",\" 29,033 \",\" 79,800 \",\" 56,911 \",\" -   \",\" -   \",\" -   \",\" -   \",\" 4,639 \",\" -   \",\" 1,768 \",\" 146,013 \",\" 869 \",\" 648 \",\" 1,753 \",\" 3,120 \",\" 18,471 \",\" 137,401 \",\" 29,942 \",\" 46,140 \",\" 12,735 \",\" 294,482 \",\" 351,188 \",\" 36,276 \",\" 9,630 \",\" 9,607 \",\" -   \",\" -   \",\" -   \",\" -   \",\" -   \",\" -   \",\" 120,184 \",\" -   \"],\"OriginName\":[\"NORTHUMBERLAND\",\"HAMILTON-WENTWORTH\",\"VICTORIA\",\"ESSEX\",\"SIMCOE\",\"OHIO\",\"Quebec \",\"KENT\",\"LANARK\",\"TIMISKAMING\",\"GREY\",\"HALTON\",\"LAMBTON\",\"YORK\",\"MUSKOKA\",\"WELLINGTON\",\"DUFFERIN\",\"NEW YORK\",\"LEEDS AND GRENVILLE UNITED COUNTIES\",\"STORMONT, DUNDAS & GLENGARRY\",\"TORONTO\",\"OTTAWA-CARLETON\",\"NIPISSING\",\"RENFREW\",\"OXFORD\",\"WATERLOO\",\"HURON\",\"HALIBURTON\",\"DURHAM\",\"MIDDLESEX\",\"Quebec \",\"PEEL\",\"FRONTENAC\",\"MANITOULIN\",\"BRUCE\",\"PENNSYLVANIA\",\"PETERBOROUGH\",\"BRANT\",\"New Brunswick \",\"ALGOMA\",\"SUDBURY\",\"Michigan\",\"PERTH\",\"HALDIMAND-NORFOLK\",\"NIAGARA\",\"Quebec \",\"SUDBURY\",\"Quebec \",\"ELGIN\",\"COCHRANE\",\"HASTINGS\",\"WELLINGTON\",\"HURON\",\"PERTH\",\"OXFORD\",\"PEEL\",\"BRUCE\",\"Michigan\",\"BRANT\",\"OXFORD\",\"BRUCE\",\"HAMILTON-WENTWORTH\",\"MONTANA\",\"PENNSYLVANIA\",\"HURON\",\"FLORIDA\",\"DURHAM\",\"NORTHUMBERLAND\",\"ELGIN\",\"TORONTO\",\"WASHINGTON\",\"NORTH CAROLINA\",\"OREGON\",\"Quebec \",\"PEEL\",\"CALIFORNIA\",\"SIMCOE\",\"ILLINOIS\",\"TEXAS\",\"LAMBTON\",\"KENT\",\"HALDIMAND-NORFOLK\",\"DELAWARE\",\"MICHIGAN\",\"NEW YORK\",\"Quebec \",\"HALTON\",\"MIDDLESEX\",\"GEORGIA\",\"ESSEX\",\"NEW JERSEY\",\"YORK\",\"Quebec \",\"NIAGARA\",\"GREY\",\"ELGIN\",\"HAMILTON-WENTWORTH\",\"Nova Scotia \",\"KENTUCKY\",\"NEW YORK\",\"OHIO\",\"HALTON\",\"MIDDLESEX\",\"WISCONSIN\",\"HALTON\",\"HAMILTON-WENTWORTH\",\"ESSEX\",\"Manitoba\",\"NEBRASKA\",\"NIAGARA\",\"WELLINGTON\",\"HALDIMAND-NORFOLK\",\"MAINE\",\"Michigan\",\"KENT\",\"PEEL\",\"WATERLOO\",\"FRONTENAC\",\"Nova Scotia \",\"Quebec \",\"Quebec \",\"WEST VIRGINIA\",\"Quebec \",\"Quebec \",\"Quebec \",\"KANSAS\",\"Quebec \",\"TENNESSEE\",\"FRONTENAC\",\"Quebec \",\"HAMILTON-WENTWORTH\",\"HALTON\",\"VIRGINIA\",\"KENT\",\"NIAGARA\",\"OHIO\",\"NEW YORK\",\"WATERLOO\",\"GREY\",\"MIDDLESEX\",\"YORK\",\"SUDBURY\",\"INDIANA\",\"OTTAWA-CARLETON\",\"ILLINOIS\",\"GEORGIA\",\"PEEL\",\"MINNESOTA\",\"WELLINGTON\",\"OHIO\",\"ILLINOIS\",\"MIDDLESEX\",\"Quebec \",\"Quebec \",\"HALTON\",\"DUFFERIN\",\"NEW JERSEY\",\"NEW YORK\",\"HURON\",\"Quebec \",\"CALIFORNIA\",\"RENFREW\",\"WISCONSIN\",\"KENT\",\"WATERLOO\",\"BRANT\",\"HASTINGS\",\"Quebec \",\"PERTH\",\"HALDIMAND-NORFOLK\",\"INDIANA\",\"VIRGINIA\",\"GREY\",\"OXFORD\",\"YORK\",\"PEEL\",\"PENNSYLVANIA\",\"NIAGARA\",\"HAMILTON-WENTWORTH\",\"LEEDS AND GRENVILLE UNITED COUNTIES\",\"MISSOURI\",\"ESSEX\",\"SIMCOE\",\"NEBRASKA\",\"Michigan\",\"NEW YORK\",\"WELLINGTON\",\"MUSKOKA\",\"NIAGARA\",\"OTTAWA-CARLETON\",\"PETERBOROUGH\",\"WATERLOO\",\"HAMILTON-WENTWORTH\",\"HALTON\",\"DUFFERIN\",\"WELLINGTON\",\"SIMCOE\",\"PEEL\",\"VICTORIA\",\"MUSKOKA\",\"LANARK\",\"PEEL\",\"WELLINGTON\",\"HAMILTON-WENTWORTH\",\"YORK\",\"NIAGARA\",\"HALTON\",\"SIMCOE\",\"VICTORIA\",\"HASTINGS\",\"NORTHUMBERLAND\",\"PETERBOROUGH\",\"WATERLOO\",\"OXFORD\",\"HALTON\",\"Quebec \",\"HALDIMAND-NORFOLK\",\"YORK\",\"WYOMING\",\"LANARK\",\"PEEL\",\"HALTON\",\"ELGIN\",\"LAMBTON\",\"KENT\",\"PETERBOROUGH\",\"LAMBTON\",\"PENNSYLVANIA\",\"HALTON\",\"WATERLOO\",\"TEXAS\",\"ILLINOIS\",\"HALTON\",\"OHIO\",\"NIAGARA\",\"NEW YORK\",\"HALDIMAND-NORFOLK\",\"PEEL\",\"ILLINOIS\",\"MIDDLESEX\",\"WELLINGTON\",\"KENTUCKY\",\"HALTON\",\"YORK\",\"Quebec \",\"PEEL\",\"OHIO\",\"STORMONT, DUNDAS & GLENGARRY\",\"WELLINGTON\",\"NEW YORK\",\"ILLINOIS\",\"WELLINGTON\",\"MICHIGAN\",\"PEEL\",\"PERTH\",\"HALTON\",\"Quebec \",\"KENTUCKY\",\"YORK\",\"PENNSYLVANIA\",\"NORTHUMBERLAND\",\"NIAGARA\",\"OHIO\",\"WEST VIRGINIA\",\"NEW JERSEY\",\"PENNSYLVANIA\",\"GEORGIA\",\"CONNECTICUT\",\"Quebec \",\"Quebec \",\"NORTHUMBERLAND\",\"NEW YORK\",\"WELLINGTON\",\"WEST VIRGINIA\",\"MIDDLESEX\",\"RHODE ISLAND\",\"HALTON\",\"BRANT\",\"PEEL\",\"OTTAWA-CARLETON\",\"OHIO\",\"MARYLAND\",\"HAMILTON-WENTWORTH\",\"WATERLOO\",\"DUFFERIN\",\"INDIANA\",\"KENTUCKY\",\"BRUCE\",\"MISSOURI\",\"New Brunswick \",\"DUFFERIN\",\"PETERBOROUGH\",\"Quebec \",\"MIDDLESEX\",\"TEXAS\",\"NEW YORK\",\"Quebec \",\"Quebec \",\"YORK\",\"PEEL\",\"Quebec \",\"TORONTO\",\"TIMISKAMING\",\"GREY\",\"New Brunswick \",\"TORONTO\",\"Michigan\",\"HALTON\",\"OHIO\",\"PEEL\",\"NIPISSING\",\"Quebec \",\"Quebec \",\"Quebec \",\"HASTINGS\",\"WISCONSIN\",\"NEW YORK\",\"Quebec \",\"Quebec \",\"Quebec \",\"COCHRANE\",\"Quebec \",\"HAMILTON-WENTWORTH\",\"WELLINGTON\",\"OHIO\",\"Quebec \",\"PEEL\",\"WISCONSIN\",\"YORK\",\"NIAGARA\",\"WATERLOO\",\"PENNSYLVANIA\",\"Quebec \",\"NEW YORK\",\"New Brunswick \",\"Quebec \",\"STORMONT, DUNDAS & GLENGARRY\",\"Quebec \",\"MISSOURI\",\"WISCONSIN\",\"KENTUCKY\",\"PEEL\",\"HAMILTON-WENTWORTH\",\"ESSEX\",\"WATERLOO\",\"NEW YORK\",\"INDIANA\",\"NIAGARA\",\"ILLINOIS\",\"SIMCOE\",\"NEW YORK\",\"PEEL\",\"OHIO\",\"HAMILTON-WENTWORTH\",\"NORTH CAROLINA\",\"TORONTO\",\"WELLINGTON\",\"OKLAHOMA\",\"OTTAWA-CARLETON\",\"Michigan\",\"OHIO\",\"Quebec \",\"VIRGINIA\",\"INDIANA\",\"HALTON\",\"HAMILTON-WENTWORTH\",\"PEEL\",\"PARRY SOUND\",\"ESSEX\",\"PRESCOTT & RUSSELL\",\"OTTAWA-CARLETON\",\"WELLINGTON\",\"Quebec \",\"NEW YORK\",\"SUDBURY\",\"SIMCOE\",\"WISCONSIN\",\"HALDIMAND-NORFOLK\",\"YORK\",\"WATERLOO\",\"Quebec \",\"OXFORD\",\"PENNSYLVANIA\",\"WISCONSIN\",\"Michigan\",\"Quebec \",\"WELLINGTON\",\"HASTINGS\",\"WATERLOO\",\"PENNSYLVANIA\",\"FRONTENAC\",\"PEEL\",\"INDIANA\",\"NIAGARA\",\"Quebec \",\"TORONTO\",\"Quebec \",\"ESSEX\",\"HAMILTON-WENTWORTH\",\"SUDBURY\",\"OHIO\",\"Quebec \",\"HALTON\",\"BRUCE\",\"WATERLOO\",\"YORK\",\"PEEL\",\"SIMCOE\",\"Alberta\",\"FRONTENAC\",\"HAMILTON-WENTWORTH\",\"OXFORD\",\"MICHIGAN\",\"HALTON\",\"NIAGARA\",\"OTTAWA-CARLETON\",\"NEW YORK\",\"ELGIN\",\"WELLINGTON\",\"SUDBURY\",\"WATERLOO\",\"OHIO\",\"SIMCOE\",\"YORK\",\"KENTUCKY\",\"CALIFORNIA\",\"NIAGARA\",\"WELLINGTON\",\"DELAWARE\",\"NEW YORK\",\"TORONTO\",\"NIPISSING\",\"MISSOURI\",\"PEEL\",\"TENNESSEE\",\"OXFORD\",\"TEXAS\",\"Quebec \",\"STORMONT, DUNDAS & GLENGARRY\",\"THUNDER BAY\",\"TENNESSEE\",\"ELGIN\",\"BRUCE\",\"PENNSYLVANIA\",\"Michigan\",\"OHIO\",\"YORK\",\"HAMILTON-WENTWORTH\",\"ILLINOIS\",\"PEEL\",\"CONNECTICUT\",\"DUFFERIN\",\"MISSISSIPPI\",\"NIAGARA\",\"WELLINGTON\",\"NEW YORK\",\"TEXAS\",\"NIAGARA\",\"OXFORD\",\"WATERLOO\",\"Quebec \",\"BRANT\",\"Michigan\",\"NEBRASKA\",\"ESSEX\",\"PENNSYLVANIA\",\"Quebec \",\"SIMCOE\",\"OHIO\",\"PEEL\",\"MISSOURI\",\"INDIANA\",\"HAMILTON-WENTWORTH\",\"MIDDLESEX\",\"MUSKOKA\",\"OTTAWA-CARLETON\",\"NEW YORK\",\"KENT\",\"IOWA\",\"WELLINGTON\",\"HALTON\",\"CALIFORNIA\",\"THUNDER BAY\",\"SOUTH CAROLINA\",\"Quebec \",\"INDIANA\",\"PEEL\",\"TEXAS\",\"YORK\",\"TORONTO\",\"KANSAS\",\"SIMCOE\",\"NORTH CAROLINA\",\"PEEL\",\"OHIO\",\"Quebec \",\"OXFORD\",\"TENNESSEE\",\"HALTON\",\"HAMILTON-WENTWORTH\",\"NIAGARA\",\"HALDIMAND-NORFOLK\",\"MARYLAND\",\"BRANT\",\"Quebec \",\"WATERLOO\",\"PENNSYLVANIA\",\"Michigan\",\"PEEL\",\"HAMILTON-WENTWORTH\",\"Quebec \",\"Quebec \",\"Quebec \",\"WISCONSIN\",\"OTTAWA-CARLETON\",\"PETERBOROUGH\",\"WATERLOO\",\"TORONTO\",\"BRANT\",\"Quebec \",\"NORTH CAROLINA\",\"Quebec \",\"OTTAWA-CARLETON\",\"Quebec \",\"NIAGARA\",\"HAMILTON-WENTWORTH\",\"PETERBOROUGH\",\"OHIO\",\"YORK\",\"NEW YORK\",\"VICTORIA\",\"WELLINGTON\",\"STORMONT, DUNDAS & GLENGARRY\",\"PEEL\",\"LANARK\",\"FRONTENAC\",\"HALTON\",\"HASTINGS\",\"Quebec \",\"RENFREW\",\"MIDDLESEX\",\"SIMCOE\",\"MUSKOKA\",\"WATERLOO\",\"ESSEX\",\"INDIANA\",\"Michigan\",\"SUDBURY\",\"MINNESOTA\",\"HAMILTON-WENTWORTH\",\"NIPISSING\",\"HALTON\",\"Alberta\",\"PENNSYLVANIA\",\"WELLINGTON\",\"KENT\",\"Quebec \",\"PEEL\",\"GREY\",\"DURHAM\",\"HASTINGS\",\"ESSEX\",\"YORK\",\"NIAGARA\",\"ELGIN\",\"Michigan\",\"Manitoba\",\"BRANT\",\"WATERLOO\",\"British Columbia \",\"HAMILTON-WENTWORTH\",\"SIMCOE\",\"WATERLOO\",\"VICTORIA\",\"OKLAHOMA\",\"ELGIN\",\"TORONTO\",\"Quebec \",\"MIDDLESEX\",\"Quebec \",\"British Columbia \",\"GREY\",\"YORK\",\"ILLINOIS\",\"PEEL\",\"MISSOURI\",\"Michigan\",\"NIPISSING\",\"OHIO\",\"LEEDS AND GRENVILLE UNITED COUNTIES\",\"OTTAWA-CARLETON\",\"WELLINGTON\",\"NIAGARA\",\"NORTHUMBERLAND\",\"CALIFORNIA\",\"NEW JERSEY\",\"HALTON\",\"Quebec \",\"NEW YORK\",\"Quebec \",\"OXFORD\",\"OTTAWA-CARLETON\",\"LANARK\",\"PETERBOROUGH\",\"SUDBURY\",\"SIMCOE\",\"PENNSYLVANIA\",\"PARRY SOUND\",\"HASTINGS\",\"OHIO\",\"MIDDLESEX\",\"ILLINOIS\",\"HAMILTON-WENTWORTH\",\"BRANT\",\"HALDIMAND-NORFOLK\",\"OXFORD\",\"NEW YORK\",\"WELLINGTON\",\"Michigan\",\"HALTON\",\"PEEL\",\"ELGIN\",\"TEXAS\",\"NIAGARA\",\"Quebec \",\"KENT\",\"TORONTO\",\"ESSEX\",\"PERTH\",\"NIAGARA\",\"ELGIN\",\"HALTON\",\"DISTRICT OF COLUMBIA\",\"DUFFERIN\",\"SIMCOE\",\"WATERLOO\",\"PEEL\",\"HAMILTON-WENTWORTH\",\"SUDBURY\",\"WATERLOO\",\"ALGOMA\",\"Quebec \",\"NIAGARA\",\"HALTON\",\"SIMCOE\",\"PEEL\",\"MICHIGAN\",\"Nova Scotia \",\"British Columbia \",\"YORK\",\"PEEL\",\"SUDBURY\",\"WISCONSIN\",\"HALTON\",\"FRONTENAC\",\"YORK\",\"PEEL\",\"DUFFERIN\",\"WELLINGTON\",\"PARRY SOUND\",\"PEEL\",\"NIPISSING\"],\"Origin_Zone\":[3514,3525,3516,3537,3543,7039,2400,3536,3509,3554,3542,3524,3538,3519,3544,3523,3522,7036,3507,3501,3520,3506,3548,3547,3532,3530,3540,3546,3518,3539,2400,3521,3510,3551,3541,7042,3515,3529,1300,3557,3553,7026,3531,3528,3526,2400,3552,2400,3534,3556,3512,3523,3540,3531,3532,3521,3541,7026,3529,3532,3541,3525,7030,7042,3540,7012,3518,3514,3534,3520,7053,7037,7041,2400,3521,7006,3543,7017,7048,3538,3536,3528,7010,7025,7036,2400,3524,3539,7013,3537,7034,3519,2400,3526,3542,3534,3525,1200,7021,7036,7039,3524,3539,7055,3524,3525,3537,4600,7031,3526,3523,3528,7023,7026,3536,3521,3530,3510,1200,2400,2400,7054,2400,2400,2400,7020,2400,7047,3510,2400,3525,3524,7051,3536,3526,7039,7036,3530,3542,3539,3519,3553,7018,3506,7017,7013,3521,7027,3523,7039,7017,3539,2400,2400,3524,3522,7034,7036,3540,2400,7006,3547,7055,3536,3530,3529,3512,2400,3531,3528,7018,7051,3542,3532,3519,3521,7042,3526,3525,3507,7029,3537,3543,7031,7026,7036,3523,3544,3526,3506,3515,3530,3525,3524,3522,3523,3543,3521,3516,3544,3509,3521,3523,3525,3519,3526,3524,3543,3516,3512,3514,3515,3530,3532,3524,2400,3528,3519,7056,3509,3521,3524,3534,3538,3536,3515,3538,7042,3524,3530,7048,7017,3524,7039,3526,7036,3528,3521,7017,3539,3523,7021,3524,3519,2400,3521,7039,3501,3523,7036,7017,3523,7025,3521,3531,3524,2400,7021,3519,7042,3514,3526,7039,7054,7034,7042,7013,7009,2400,2400,3514,7036,3523,7054,3539,7044,3524,3529,3521,3506,7039,7024,3525,3530,3522,7018,7021,3541,7029,1300,3522,3515,2400,3539,7048,7036,2400,2400,3519,3521,2400,3520,3554,3542,1300,3520,7026,3524,7039,3521,3548,2400,2400,2400,3512,7055,7036,2400,2400,2400,3556,2400,3525,3523,7039,2400,3521,7055,3519,3526,3530,7042,2400,7036,1300,2400,3501,2400,7029,7055,7021,3521,3525,3537,3530,7036,7018,3526,7017,3543,7036,3521,7039,3525,7037,3520,3523,7040,3506,7026,7039,2400,7051,7018,3524,3525,3521,3549,3537,3502,3506,3523,2400,7036,3553,3543,7055,3528,3519,3530,2400,3532,7042,7055,7026,2400,3523,3512,3530,7042,3510,3521,7018,3526,2400,3520,2400,3537,3525,3553,7039,2400,3524,3541,3530,3519,3521,3543,4800,3510,3525,3532,7025,3524,3526,3506,7036,3534,3523,3553,3530,7039,3543,3519,7021,7006,3526,3523,7010,7036,3520,3548,7029,3521,7047,3532,7048,2400,3501,3558,7047,3534,3541,7042,7026,7039,3519,3525,7017,3521,7009,3522,7028,3526,3523,7036,7048,3526,3532,3530,2400,3529,7026,7031,3537,7042,2400,3543,7039,3521,7029,7018,3525,3539,3544,3506,7036,3536,7019,3523,3524,7006,3558,7045,2400,7018,3521,7048,3519,3520,7020,3543,7037,3521,7039,2400,3532,7047,3524,3525,3526,3528,7024,3529,2400,3530,7042,7026,3521,3525,2400,2400,2400,7055,3506,3515,3530,3520,3529,2400,7037,2400,3506,2400,3526,3525,3515,7039,3519,7036,3516,3523,3501,3521,3509,3510,3524,3512,2400,3547,3539,3543,3544,3530,3537,7018,7026,3553,7027,3525,3548,3524,4800,7042,3523,3536,2400,3521,3542,3518,3512,3537,3519,3526,3534,7026,4600,3529,3530,5900,3525,3543,3530,3516,7040,3534,3520,2400,3539,2400,5900,3542,3519,7017,3521,7029,7026,3548,7039,3507,3506,3523,3526,3514,7006,7034,3524,2400,7036,2400,3532,3506,3509,3515,3553,3543,7042,3549,3512,7039,3539,7017,3525,3529,3528,3532,7036,3523,7026,3524,3521,3534,7048,3526,2400,3536,3520,3537,3531,3526,3534,3524,7011,3522,3543,3530,3521,3525,3553,3530,3557,2400,3526,3524,3543,3521,7025,1200,5900,3519,3521,3553,7055,3524,3510,3519,3521,3522,3523,3549,3521,3548],\"index\":[1988,6249,2332,8069,8809,11362,777,8197,1814,9370,8754,5532,8322,2633,9344,5296,5024,11303,1575,1409,3420,1227,9214,9278,7727,7320,8669,9297,2673,8511,795,4271,1807,9425,8707,11436,2126,6967,29,9775,9618,10725,7582,6515,6494,557,9440,565,7603,9553,2204,5499,8662,7580,7673,4164,8685,10722,6963,7670,8679,6239,11052,11501,8645,10208,2677,1985,7550,3346,11756,11438,11419,767,4267,10246,8797,10505,12015,8311,8191,6485,10544,10867,11218,561,5882,8493,10359,8075,10961,2615,796,6489,8727,7545,6229,11,10623,11179,11353,5822,8465,11816,5873,6205,8057,9926,11095,6480,5492,6490,10697,10675,8194,4212,7130,1795,10,771,551,11917,445,757,784,10326,787,11773,1839,765,6208,5855,11862,8187,6295,11356,11212,7318,8747,8485,2614,9617,10169,1215,10491,10358,4260,10660,5201,11355,10497,8510,778,779,5846,5018,11297,11272,8655,790,10225,9279,11844,8189,7142,6913,1970,446,7581,6495,10158,11863,8740,7667,2623,4269,11589,6387,6243,1576,11315,8051,8808,11088,10684,11200,5497,9342,6396,1221,2122,7136,6172,5831,5023,5207,8791,4254,2335,9336,1811,4232,5291,6247,2626,6394,5527,8804,2334,1969,1986,2123,7316,7665,5879,756,6500,2630,11959,1812,4201,5834,7553,8323,8196,2116,8317,11371,5876,6817,12012,10488,5858,11358,6390,11206,6478,4206,10507,8497,5491,10672,5825,2624,759,4159,11350,1402,5494,11224,10500,5505,10864,4258,7579,5880,780,10682,2622,11489,1984,6386,11348,11925,11285,11479,10360,10526,754,753,1987,11278,5493,11921,8460,12070,5875,6893,4266,1224,11357,10846,6182,7240,5020,10166,10694,8693,11324,27,5022,2125,758,8501,12007,11185,772,774,2631,4237,764,3355,9369,8733,26,3369,10696,5837,11354,4169,9101,793,786,782,1968,11826,11290,563,567,634,9552,752,6186,5495,11351,792,4196,11832,2621,6397,7148,11457,794,11296,28,444,1364,762,11318,12065,10688,4265,6176,8031,7190,11263,10167,6383,10485,8749,11248,4263,11360,6169,11383,3331,5500,11410,1220,10690,11352,789,11861,10168,5877,6167,4261,9412,8045,1309,1225,5498,559,11190,9616,8803,11757,6481,2632,7175,555,7725,11471,12066,10721,791,5503,2119,7229,11495,1840,4167,10160,6427,761,3338,755,8039,6245,9599,11359,781,5840,8700,7314,2628,4242,8725,10025,1801,6241,7659,10865,5849,6391,1219,11260,7549,5502,9614,7123,11688,8763,2618,10676,10232,6395,5171,10543,11192,3383,9202,11327,4257,11771,7676,12009,447,1370,10055,11774,7547,8672,11587,10720,11364,2625,6231,10501,4264,10528,5019,11208,6393,5506,11265,12014,6421,7721,6818,553,6903,10723,11102,8063,11588,776,8756,11347,4255,11321,10170,6214,8489,9338,1218,11242,8195,10250,5174,5874,10165,10057,12083,769,10157,4186,12013,2616,3410,10325,8806,11461,4256,11687,768,7663,11772,5843,6220,6433,6505,10845,6898,785,7248,11379,10714,4259,6211,500,788,443,11813,1222,2120,7185,3376,6918,775,11454,797,1217,763,6415,6235,2124,11361,2629,11254,2331,5504,1406,4268,1815,1838,5881,2199,770,9277,8509,8728,9340,7252,8033,10159,10671,9608,10661,6217,9210,5828,10024,11586,5279,8192,751,4247,8717,2669,1972,8029,2620,6384,7548,10708,9925,6908,7244,10046,6237,8735,7232,2333,11411,7546,3415,783,8482,766,10045,8710,2627,10503,4270,11312,10702,9153,11363,1577,1223,5501,6392,1983,10239,11291,5878,773,11302,700,7661,1226,1813,2121,9603,8807,11464,9420,1971,11349,8505,10494,6233,6923,6510,7729,11284,5490,10724,5852,4262,7551,12011,6484,760,8193,3362,8036,7578,6388,7552,5522,10550,5017,8805,7180,4191,6223,9615,7235,9763,669,6385,5819,8742,4252,10866,9,10044,2617,4253,9613,11838,5826,1789,2619,4209,5021,5496,9404,4181,9206]},\"selected\":{\"id\":\"2100\"},\"selection_policy\":{\"id\":\"2099\"}},\"id\":\"2072\",\"type\":\"ColumnDataSource\"},{\"attributes\":{\"overlay\":{\"id\":\"2065\"}},\"id\":\"2063\",\"type\":\"BoxZoomTool\"},{\"attributes\":{\"bottom_units\":\"screen\",\"coordinates\":null,\"fill_alpha\":0.5,\"fill_color\":\"lightgrey\",\"group\":null,\"left_units\":\"screen\",\"level\":\"overlay\",\"line_alpha\":1.0,\"line_color\":\"black\",\"line_dash\":[4,4],\"line_width\":2,\"right_units\":\"screen\",\"syncable\":false,\"top_units\":\"screen\"},\"id\":\"2065\",\"type\":\"BoxAnnotation\"},{\"attributes\":{},\"id\":\"2049\",\"type\":\"LinearScale\"},{\"attributes\":{\"tools\":[{\"id\":\"2041\"},{\"id\":\"2061\"},{\"id\":\"2062\"},{\"id\":\"2063\"},{\"id\":\"2064\"},{\"id\":\"2079\"}]},\"id\":\"2066\",\"type\":\"Toolbar\"},{\"attributes\":{\"coordinates\":null,\"data_source\":{\"id\":\"2072\"},\"glyph\":{\"id\":\"2074\"},\"group\":null,\"hover_glyph\":null,\"muted_glyph\":{\"id\":\"2076\"},\"nonselection_glyph\":{\"id\":\"2075\"},\"view\":{\"id\":\"2078\"}},\"id\":\"2077\",\"type\":\"GlyphRenderer\"},{\"attributes\":{\"coordinates\":null,\"group\":null,\"text\":\"Cargo by Commodity and Origin Zone To Toronto (2012 Data)\"},\"id\":\"2043\",\"type\":\"Title\"},{\"attributes\":{\"axis_label\":\"Origin Zone\",\"coordinates\":null,\"formatter\":{\"id\":\"2094\"},\"group\":null,\"major_label_policy\":{\"id\":\"2095\"},\"ticker\":{\"id\":\"2058\"}},\"id\":\"2057\",\"type\":\"LinearAxis\"},{\"attributes\":{\"source\":{\"id\":\"2072\"}},\"id\":\"2078\",\"type\":\"CDSView\"},{\"attributes\":{},\"id\":\"2054\",\"type\":\"BasicTicker\"},{\"attributes\":{\"fill_color\":{\"value\":\"#1f77b4\"},\"line_color\":{\"value\":\"#1f77b4\"},\"size\":{\"value\":10},\"x\":{\"field\":\"Commodity_Group_Code\"},\"y\":{\"field\":\"Origin_Zone\"}},\"id\":\"2074\",\"type\":\"Circle\"},{\"attributes\":{},\"id\":\"2045\",\"type\":\"DataRange1d\"},{\"attributes\":{\"axis_label\":\"Commodity\",\"coordinates\":null,\"formatter\":{\"id\":\"2097\"},\"group\":null,\"major_label_policy\":{\"id\":\"2098\"},\"ticker\":{\"id\":\"2054\"}},\"id\":\"2053\",\"type\":\"LinearAxis\"},{\"attributes\":{\"callback\":null,\"tooltips\":[[\"index\",\"$index\"],[\"(Commodity_Group_Code, Origin_Zone)\",\"(@Commodity_Group, @OriginName)\"]]},\"id\":\"2041\",\"type\":\"HoverTool\"}],\"root_ids\":[\"2042\"]},\"title\":\"Bokeh Application\",\"version\":\"2.4.1\"}};\n",
       "  const render_items = [{\"docid\":\"dcfb99ab-480f-41ce-bd6b-4f29c9b288b4\",\"root_ids\":[\"2042\"],\"roots\":{\"2042\":\"10203b2a-4c3b-4b68-87d9-04305b36884a\"}}];\n",
       "  root.Bokeh.embed.embed_items_notebook(docs_json, render_items);\n",
       "\n",
       "  }\n",
       "  if (root.Bokeh !== undefined) {\n",
       "    embed_document(root);\n",
       "  } else {\n",
       "    let attempts = 0;\n",
       "    const timer = setInterval(function(root) {\n",
       "      if (root.Bokeh !== undefined) {\n",
       "        clearInterval(timer);\n",
       "        embed_document(root);\n",
       "      } else {\n",
       "        attempts++;\n",
       "        if (attempts > 100) {\n",
       "          clearInterval(timer);\n",
       "          console.log(\"Bokeh: ERROR: Unable to run BokehJS code because BokehJS library is missing\");\n",
       "        }\n",
       "      }\n",
       "    }, 10, root)\n",
       "  }\n",
       "})(window);"
      ],
      "application/vnd.bokehjs_exec.v0+json": ""
     },
     "metadata": {
      "application/vnd.bokehjs_exec.v0+json": {
       "id": "2042"
      }
     },
     "output_type": "display_data"
    }
   ],
   "source": [
    "from bokeh.plotting import figure, show\n",
    "from bokeh.models import HoverTool, BoxSelectTool\n",
    "from bokeh.io import output_notebook\n",
    "\n",
    "p = figure(width=400, height=400)\n",
    "p.add_tools(BoxSelectTool(dimensions=\"width\"))\n",
    "\n",
    "output_notebook()\n",
    "\n",
    "TOOLTIPS = HoverTool(tooltips=[\n",
    "    (\"index\", '$index'),\n",
    "    ('(Commodity_Group_Code, Origin_Zone)', '(@Commodity_Group, @OriginName)')\n",
    "  \n",
    "])\n",
    "\n",
    "p = figure(title=\"Cargo by Commodity and Origin Zone To Toronto (2012 Data)\", x_axis_label='Commodity', y_axis_label='Origin Zone', plot_width=500, plot_height=500, tools=[TOOLTIPS, \"pan,wheel_zoom,box_zoom,reset\"])\n",
    "p.circle('Commodity_Group_Code', 'Origin_Zone', size=10, source=df1)\n",
    "p.add_tools(BoxSelectTool(dimensions=\"width\"))\n",
    "show(p)\n"
   ]
  },
  {
   "cell_type": "code",
   "execution_count": 21,
   "id": "619aeb28",
   "metadata": {},
   "outputs": [
    {
     "name": "stdout",
     "output_type": "stream",
     "text": [
      "Counter({'Quebec ': 65, 'PEEL': 36, 'HALTON': 28, 'HAMILTON-WENTWORTH': 24, 'WELLINGTON': 24, 'NIAGARA': 23, 'NEW YORK': 22, 'WATERLOO': 22, 'OHIO': 20, 'YORK': 20, 'SIMCOE': 16, 'PENNSYLVANIA': 14, 'Michigan': 14, 'OTTAWA-CARLETON': 12, 'OXFORD': 12, 'MIDDLESEX': 12, 'ESSEX': 11, 'TORONTO': 11, 'SUDBURY': 10, 'ELGIN': 10, 'ILLINOIS': 10, 'KENT': 9, 'BRANT': 9, 'HALDIMAND-NORFOLK': 9, 'WISCONSIN': 9, 'INDIANA': 9, 'DUFFERIN': 8, 'PETERBOROUGH': 8, 'HASTINGS': 8, 'GREY': 7, 'FRONTENAC': 7, 'TEXAS': 7, 'NORTHUMBERLAND': 6, 'NIPISSING': 6, 'BRUCE': 6, 'KENTUCKY': 6, 'MISSOURI': 6, 'VICTORIA': 5, 'LANARK': 5, 'MUSKOKA': 5, 'STORMONT, DUNDAS & GLENGARRY': 5, 'PERTH': 5, 'CALIFORNIA': 5, 'LAMBTON': 4, 'HURON': 4, 'New Brunswick ': 4, 'NORTH CAROLINA': 4, 'MICHIGAN': 4, 'NEW JERSEY': 4, 'TENNESSEE': 4, 'LEEDS AND GRENVILLE UNITED COUNTIES': 3, 'RENFREW': 3, 'DURHAM': 3, 'GEORGIA': 3, 'Nova Scotia ': 3, 'NEBRASKA': 3, 'WEST VIRGINIA': 3, 'VIRGINIA': 3, 'PARRY SOUND': 3, 'British Columbia ': 3, 'TIMISKAMING': 2, 'ALGOMA': 2, 'COCHRANE': 2, 'DELAWARE': 2, 'Manitoba': 2, 'KANSAS': 2, 'MINNESOTA': 2, 'CONNECTICUT': 2, 'MARYLAND': 2, 'OKLAHOMA': 2, 'Alberta': 2, 'THUNDER BAY': 2, 'HALIBURTON': 1, 'MANITOULIN': 1, 'MONTANA': 1, 'FLORIDA': 1, 'WASHINGTON': 1, 'OREGON': 1, 'MAINE': 1, 'WYOMING': 1, 'RHODE ISLAND': 1, 'PRESCOTT & RUSSELL': 1, 'MISSISSIPPI': 1, 'IOWA': 1, 'SOUTH CAROLINA': 1, 'DISTRICT OF COLUMBIA': 1})\n"
     ]
    },
    {
     "data": {
      "application/vnd.plotly.v1+json": {
       "config": {
        "plotlyServerURL": "https://plot.ly"
       },
       "data": [
        {
         "labels": [
          "NORTHUMBERLAND",
          "HAMILTON-WENTWORTH",
          "VICTORIA",
          "ESSEX",
          "SIMCOE",
          "OHIO",
          "Quebec ",
          "KENT",
          "LANARK",
          "TIMISKAMING"
         ],
         "pull": [
          0,
          0,
          0.2,
          0
         ],
         "type": "pie",
         "values": [
          6,
          24,
          5,
          11,
          16,
          20,
          65,
          9,
          5,
          2
         ]
        }
       ],
       "layout": {
        "template": {
         "data": {
          "bar": [
           {
            "error_x": {
             "color": "#2a3f5f"
            },
            "error_y": {
             "color": "#2a3f5f"
            },
            "marker": {
             "line": {
              "color": "#E5ECF6",
              "width": 0.5
             },
             "pattern": {
              "fillmode": "overlay",
              "size": 10,
              "solidity": 0.2
             }
            },
            "type": "bar"
           }
          ],
          "barpolar": [
           {
            "marker": {
             "line": {
              "color": "#E5ECF6",
              "width": 0.5
             },
             "pattern": {
              "fillmode": "overlay",
              "size": 10,
              "solidity": 0.2
             }
            },
            "type": "barpolar"
           }
          ],
          "carpet": [
           {
            "aaxis": {
             "endlinecolor": "#2a3f5f",
             "gridcolor": "white",
             "linecolor": "white",
             "minorgridcolor": "white",
             "startlinecolor": "#2a3f5f"
            },
            "baxis": {
             "endlinecolor": "#2a3f5f",
             "gridcolor": "white",
             "linecolor": "white",
             "minorgridcolor": "white",
             "startlinecolor": "#2a3f5f"
            },
            "type": "carpet"
           }
          ],
          "choropleth": [
           {
            "colorbar": {
             "outlinewidth": 0,
             "ticks": ""
            },
            "type": "choropleth"
           }
          ],
          "contour": [
           {
            "colorbar": {
             "outlinewidth": 0,
             "ticks": ""
            },
            "colorscale": [
             [
              0,
              "#0d0887"
             ],
             [
              0.1111111111111111,
              "#46039f"
             ],
             [
              0.2222222222222222,
              "#7201a8"
             ],
             [
              0.3333333333333333,
              "#9c179e"
             ],
             [
              0.4444444444444444,
              "#bd3786"
             ],
             [
              0.5555555555555556,
              "#d8576b"
             ],
             [
              0.6666666666666666,
              "#ed7953"
             ],
             [
              0.7777777777777778,
              "#fb9f3a"
             ],
             [
              0.8888888888888888,
              "#fdca26"
             ],
             [
              1,
              "#f0f921"
             ]
            ],
            "type": "contour"
           }
          ],
          "contourcarpet": [
           {
            "colorbar": {
             "outlinewidth": 0,
             "ticks": ""
            },
            "type": "contourcarpet"
           }
          ],
          "heatmap": [
           {
            "colorbar": {
             "outlinewidth": 0,
             "ticks": ""
            },
            "colorscale": [
             [
              0,
              "#0d0887"
             ],
             [
              0.1111111111111111,
              "#46039f"
             ],
             [
              0.2222222222222222,
              "#7201a8"
             ],
             [
              0.3333333333333333,
              "#9c179e"
             ],
             [
              0.4444444444444444,
              "#bd3786"
             ],
             [
              0.5555555555555556,
              "#d8576b"
             ],
             [
              0.6666666666666666,
              "#ed7953"
             ],
             [
              0.7777777777777778,
              "#fb9f3a"
             ],
             [
              0.8888888888888888,
              "#fdca26"
             ],
             [
              1,
              "#f0f921"
             ]
            ],
            "type": "heatmap"
           }
          ],
          "heatmapgl": [
           {
            "colorbar": {
             "outlinewidth": 0,
             "ticks": ""
            },
            "colorscale": [
             [
              0,
              "#0d0887"
             ],
             [
              0.1111111111111111,
              "#46039f"
             ],
             [
              0.2222222222222222,
              "#7201a8"
             ],
             [
              0.3333333333333333,
              "#9c179e"
             ],
             [
              0.4444444444444444,
              "#bd3786"
             ],
             [
              0.5555555555555556,
              "#d8576b"
             ],
             [
              0.6666666666666666,
              "#ed7953"
             ],
             [
              0.7777777777777778,
              "#fb9f3a"
             ],
             [
              0.8888888888888888,
              "#fdca26"
             ],
             [
              1,
              "#f0f921"
             ]
            ],
            "type": "heatmapgl"
           }
          ],
          "histogram": [
           {
            "marker": {
             "pattern": {
              "fillmode": "overlay",
              "size": 10,
              "solidity": 0.2
             }
            },
            "type": "histogram"
           }
          ],
          "histogram2d": [
           {
            "colorbar": {
             "outlinewidth": 0,
             "ticks": ""
            },
            "colorscale": [
             [
              0,
              "#0d0887"
             ],
             [
              0.1111111111111111,
              "#46039f"
             ],
             [
              0.2222222222222222,
              "#7201a8"
             ],
             [
              0.3333333333333333,
              "#9c179e"
             ],
             [
              0.4444444444444444,
              "#bd3786"
             ],
             [
              0.5555555555555556,
              "#d8576b"
             ],
             [
              0.6666666666666666,
              "#ed7953"
             ],
             [
              0.7777777777777778,
              "#fb9f3a"
             ],
             [
              0.8888888888888888,
              "#fdca26"
             ],
             [
              1,
              "#f0f921"
             ]
            ],
            "type": "histogram2d"
           }
          ],
          "histogram2dcontour": [
           {
            "colorbar": {
             "outlinewidth": 0,
             "ticks": ""
            },
            "colorscale": [
             [
              0,
              "#0d0887"
             ],
             [
              0.1111111111111111,
              "#46039f"
             ],
             [
              0.2222222222222222,
              "#7201a8"
             ],
             [
              0.3333333333333333,
              "#9c179e"
             ],
             [
              0.4444444444444444,
              "#bd3786"
             ],
             [
              0.5555555555555556,
              "#d8576b"
             ],
             [
              0.6666666666666666,
              "#ed7953"
             ],
             [
              0.7777777777777778,
              "#fb9f3a"
             ],
             [
              0.8888888888888888,
              "#fdca26"
             ],
             [
              1,
              "#f0f921"
             ]
            ],
            "type": "histogram2dcontour"
           }
          ],
          "mesh3d": [
           {
            "colorbar": {
             "outlinewidth": 0,
             "ticks": ""
            },
            "type": "mesh3d"
           }
          ],
          "parcoords": [
           {
            "line": {
             "colorbar": {
              "outlinewidth": 0,
              "ticks": ""
             }
            },
            "type": "parcoords"
           }
          ],
          "pie": [
           {
            "automargin": true,
            "type": "pie"
           }
          ],
          "scatter": [
           {
            "marker": {
             "colorbar": {
              "outlinewidth": 0,
              "ticks": ""
             }
            },
            "type": "scatter"
           }
          ],
          "scatter3d": [
           {
            "line": {
             "colorbar": {
              "outlinewidth": 0,
              "ticks": ""
             }
            },
            "marker": {
             "colorbar": {
              "outlinewidth": 0,
              "ticks": ""
             }
            },
            "type": "scatter3d"
           }
          ],
          "scattercarpet": [
           {
            "marker": {
             "colorbar": {
              "outlinewidth": 0,
              "ticks": ""
             }
            },
            "type": "scattercarpet"
           }
          ],
          "scattergeo": [
           {
            "marker": {
             "colorbar": {
              "outlinewidth": 0,
              "ticks": ""
             }
            },
            "type": "scattergeo"
           }
          ],
          "scattergl": [
           {
            "marker": {
             "colorbar": {
              "outlinewidth": 0,
              "ticks": ""
             }
            },
            "type": "scattergl"
           }
          ],
          "scattermapbox": [
           {
            "marker": {
             "colorbar": {
              "outlinewidth": 0,
              "ticks": ""
             }
            },
            "type": "scattermapbox"
           }
          ],
          "scatterpolar": [
           {
            "marker": {
             "colorbar": {
              "outlinewidth": 0,
              "ticks": ""
             }
            },
            "type": "scatterpolar"
           }
          ],
          "scatterpolargl": [
           {
            "marker": {
             "colorbar": {
              "outlinewidth": 0,
              "ticks": ""
             }
            },
            "type": "scatterpolargl"
           }
          ],
          "scatterternary": [
           {
            "marker": {
             "colorbar": {
              "outlinewidth": 0,
              "ticks": ""
             }
            },
            "type": "scatterternary"
           }
          ],
          "surface": [
           {
            "colorbar": {
             "outlinewidth": 0,
             "ticks": ""
            },
            "colorscale": [
             [
              0,
              "#0d0887"
             ],
             [
              0.1111111111111111,
              "#46039f"
             ],
             [
              0.2222222222222222,
              "#7201a8"
             ],
             [
              0.3333333333333333,
              "#9c179e"
             ],
             [
              0.4444444444444444,
              "#bd3786"
             ],
             [
              0.5555555555555556,
              "#d8576b"
             ],
             [
              0.6666666666666666,
              "#ed7953"
             ],
             [
              0.7777777777777778,
              "#fb9f3a"
             ],
             [
              0.8888888888888888,
              "#fdca26"
             ],
             [
              1,
              "#f0f921"
             ]
            ],
            "type": "surface"
           }
          ],
          "table": [
           {
            "cells": {
             "fill": {
              "color": "#EBF0F8"
             },
             "line": {
              "color": "white"
             }
            },
            "header": {
             "fill": {
              "color": "#C8D4E3"
             },
             "line": {
              "color": "white"
             }
            },
            "type": "table"
           }
          ]
         },
         "layout": {
          "annotationdefaults": {
           "arrowcolor": "#2a3f5f",
           "arrowhead": 0,
           "arrowwidth": 1
          },
          "autotypenumbers": "strict",
          "coloraxis": {
           "colorbar": {
            "outlinewidth": 0,
            "ticks": ""
           }
          },
          "colorscale": {
           "diverging": [
            [
             0,
             "#8e0152"
            ],
            [
             0.1,
             "#c51b7d"
            ],
            [
             0.2,
             "#de77ae"
            ],
            [
             0.3,
             "#f1b6da"
            ],
            [
             0.4,
             "#fde0ef"
            ],
            [
             0.5,
             "#f7f7f7"
            ],
            [
             0.6,
             "#e6f5d0"
            ],
            [
             0.7,
             "#b8e186"
            ],
            [
             0.8,
             "#7fbc41"
            ],
            [
             0.9,
             "#4d9221"
            ],
            [
             1,
             "#276419"
            ]
           ],
           "sequential": [
            [
             0,
             "#0d0887"
            ],
            [
             0.1111111111111111,
             "#46039f"
            ],
            [
             0.2222222222222222,
             "#7201a8"
            ],
            [
             0.3333333333333333,
             "#9c179e"
            ],
            [
             0.4444444444444444,
             "#bd3786"
            ],
            [
             0.5555555555555556,
             "#d8576b"
            ],
            [
             0.6666666666666666,
             "#ed7953"
            ],
            [
             0.7777777777777778,
             "#fb9f3a"
            ],
            [
             0.8888888888888888,
             "#fdca26"
            ],
            [
             1,
             "#f0f921"
            ]
           ],
           "sequentialminus": [
            [
             0,
             "#0d0887"
            ],
            [
             0.1111111111111111,
             "#46039f"
            ],
            [
             0.2222222222222222,
             "#7201a8"
            ],
            [
             0.3333333333333333,
             "#9c179e"
            ],
            [
             0.4444444444444444,
             "#bd3786"
            ],
            [
             0.5555555555555556,
             "#d8576b"
            ],
            [
             0.6666666666666666,
             "#ed7953"
            ],
            [
             0.7777777777777778,
             "#fb9f3a"
            ],
            [
             0.8888888888888888,
             "#fdca26"
            ],
            [
             1,
             "#f0f921"
            ]
           ]
          },
          "colorway": [
           "#636efa",
           "#EF553B",
           "#00cc96",
           "#ab63fa",
           "#FFA15A",
           "#19d3f3",
           "#FF6692",
           "#B6E880",
           "#FF97FF",
           "#FECB52"
          ],
          "font": {
           "color": "#2a3f5f"
          },
          "geo": {
           "bgcolor": "white",
           "lakecolor": "white",
           "landcolor": "#E5ECF6",
           "showlakes": true,
           "showland": true,
           "subunitcolor": "white"
          },
          "hoverlabel": {
           "align": "left"
          },
          "hovermode": "closest",
          "mapbox": {
           "style": "light"
          },
          "paper_bgcolor": "white",
          "plot_bgcolor": "#E5ECF6",
          "polar": {
           "angularaxis": {
            "gridcolor": "white",
            "linecolor": "white",
            "ticks": ""
           },
           "bgcolor": "#E5ECF6",
           "radialaxis": {
            "gridcolor": "white",
            "linecolor": "white",
            "ticks": ""
           }
          },
          "scene": {
           "xaxis": {
            "backgroundcolor": "#E5ECF6",
            "gridcolor": "white",
            "gridwidth": 2,
            "linecolor": "white",
            "showbackground": true,
            "ticks": "",
            "zerolinecolor": "white"
           },
           "yaxis": {
            "backgroundcolor": "#E5ECF6",
            "gridcolor": "white",
            "gridwidth": 2,
            "linecolor": "white",
            "showbackground": true,
            "ticks": "",
            "zerolinecolor": "white"
           },
           "zaxis": {
            "backgroundcolor": "#E5ECF6",
            "gridcolor": "white",
            "gridwidth": 2,
            "linecolor": "white",
            "showbackground": true,
            "ticks": "",
            "zerolinecolor": "white"
           }
          },
          "shapedefaults": {
           "line": {
            "color": "#2a3f5f"
           }
          },
          "ternary": {
           "aaxis": {
            "gridcolor": "white",
            "linecolor": "white",
            "ticks": ""
           },
           "baxis": {
            "gridcolor": "white",
            "linecolor": "white",
            "ticks": ""
           },
           "bgcolor": "#E5ECF6",
           "caxis": {
            "gridcolor": "white",
            "linecolor": "white",
            "ticks": ""
           }
          },
          "title": {
           "x": 0.05
          },
          "xaxis": {
           "automargin": true,
           "gridcolor": "white",
           "linecolor": "white",
           "ticks": "",
           "title": {
            "standoff": 15
           },
           "zerolinecolor": "white",
           "zerolinewidth": 2
          },
          "yaxis": {
           "automargin": true,
           "gridcolor": "white",
           "linecolor": "white",
           "ticks": "",
           "title": {
            "standoff": 15
           },
           "zerolinecolor": "white",
           "zerolinewidth": 2
          }
         }
        }
       }
      },
      "text/html": [
       "<div>                            <div id=\"12deb619-c1c9-425f-b634-eea377849897\" class=\"plotly-graph-div\" style=\"height:525px; width:100%;\"></div>            <script type=\"text/javascript\">                require([\"plotly\"], function(Plotly) {                    window.PLOTLYENV=window.PLOTLYENV || {};                                    if (document.getElementById(\"12deb619-c1c9-425f-b634-eea377849897\")) {                    Plotly.newPlot(                        \"12deb619-c1c9-425f-b634-eea377849897\",                        [{\"labels\":[\"NORTHUMBERLAND\",\"HAMILTON-WENTWORTH\",\"VICTORIA\",\"ESSEX\",\"SIMCOE\",\"OHIO\",\"Quebec \",\"KENT\",\"LANARK\",\"TIMISKAMING\"],\"pull\":[0,0,0.2,0],\"values\":[6,24,5,11,16,20,65,9,5,2],\"type\":\"pie\"}],                        {\"template\":{\"data\":{\"bar\":[{\"error_x\":{\"color\":\"#2a3f5f\"},\"error_y\":{\"color\":\"#2a3f5f\"},\"marker\":{\"line\":{\"color\":\"#E5ECF6\",\"width\":0.5},\"pattern\":{\"fillmode\":\"overlay\",\"size\":10,\"solidity\":0.2}},\"type\":\"bar\"}],\"barpolar\":[{\"marker\":{\"line\":{\"color\":\"#E5ECF6\",\"width\":0.5},\"pattern\":{\"fillmode\":\"overlay\",\"size\":10,\"solidity\":0.2}},\"type\":\"barpolar\"}],\"carpet\":[{\"aaxis\":{\"endlinecolor\":\"#2a3f5f\",\"gridcolor\":\"white\",\"linecolor\":\"white\",\"minorgridcolor\":\"white\",\"startlinecolor\":\"#2a3f5f\"},\"baxis\":{\"endlinecolor\":\"#2a3f5f\",\"gridcolor\":\"white\",\"linecolor\":\"white\",\"minorgridcolor\":\"white\",\"startlinecolor\":\"#2a3f5f\"},\"type\":\"carpet\"}],\"choropleth\":[{\"colorbar\":{\"outlinewidth\":0,\"ticks\":\"\"},\"type\":\"choropleth\"}],\"contour\":[{\"colorbar\":{\"outlinewidth\":0,\"ticks\":\"\"},\"colorscale\":[[0.0,\"#0d0887\"],[0.1111111111111111,\"#46039f\"],[0.2222222222222222,\"#7201a8\"],[0.3333333333333333,\"#9c179e\"],[0.4444444444444444,\"#bd3786\"],[0.5555555555555556,\"#d8576b\"],[0.6666666666666666,\"#ed7953\"],[0.7777777777777778,\"#fb9f3a\"],[0.8888888888888888,\"#fdca26\"],[1.0,\"#f0f921\"]],\"type\":\"contour\"}],\"contourcarpet\":[{\"colorbar\":{\"outlinewidth\":0,\"ticks\":\"\"},\"type\":\"contourcarpet\"}],\"heatmap\":[{\"colorbar\":{\"outlinewidth\":0,\"ticks\":\"\"},\"colorscale\":[[0.0,\"#0d0887\"],[0.1111111111111111,\"#46039f\"],[0.2222222222222222,\"#7201a8\"],[0.3333333333333333,\"#9c179e\"],[0.4444444444444444,\"#bd3786\"],[0.5555555555555556,\"#d8576b\"],[0.6666666666666666,\"#ed7953\"],[0.7777777777777778,\"#fb9f3a\"],[0.8888888888888888,\"#fdca26\"],[1.0,\"#f0f921\"]],\"type\":\"heatmap\"}],\"heatmapgl\":[{\"colorbar\":{\"outlinewidth\":0,\"ticks\":\"\"},\"colorscale\":[[0.0,\"#0d0887\"],[0.1111111111111111,\"#46039f\"],[0.2222222222222222,\"#7201a8\"],[0.3333333333333333,\"#9c179e\"],[0.4444444444444444,\"#bd3786\"],[0.5555555555555556,\"#d8576b\"],[0.6666666666666666,\"#ed7953\"],[0.7777777777777778,\"#fb9f3a\"],[0.8888888888888888,\"#fdca26\"],[1.0,\"#f0f921\"]],\"type\":\"heatmapgl\"}],\"histogram\":[{\"marker\":{\"pattern\":{\"fillmode\":\"overlay\",\"size\":10,\"solidity\":0.2}},\"type\":\"histogram\"}],\"histogram2d\":[{\"colorbar\":{\"outlinewidth\":0,\"ticks\":\"\"},\"colorscale\":[[0.0,\"#0d0887\"],[0.1111111111111111,\"#46039f\"],[0.2222222222222222,\"#7201a8\"],[0.3333333333333333,\"#9c179e\"],[0.4444444444444444,\"#bd3786\"],[0.5555555555555556,\"#d8576b\"],[0.6666666666666666,\"#ed7953\"],[0.7777777777777778,\"#fb9f3a\"],[0.8888888888888888,\"#fdca26\"],[1.0,\"#f0f921\"]],\"type\":\"histogram2d\"}],\"histogram2dcontour\":[{\"colorbar\":{\"outlinewidth\":0,\"ticks\":\"\"},\"colorscale\":[[0.0,\"#0d0887\"],[0.1111111111111111,\"#46039f\"],[0.2222222222222222,\"#7201a8\"],[0.3333333333333333,\"#9c179e\"],[0.4444444444444444,\"#bd3786\"],[0.5555555555555556,\"#d8576b\"],[0.6666666666666666,\"#ed7953\"],[0.7777777777777778,\"#fb9f3a\"],[0.8888888888888888,\"#fdca26\"],[1.0,\"#f0f921\"]],\"type\":\"histogram2dcontour\"}],\"mesh3d\":[{\"colorbar\":{\"outlinewidth\":0,\"ticks\":\"\"},\"type\":\"mesh3d\"}],\"parcoords\":[{\"line\":{\"colorbar\":{\"outlinewidth\":0,\"ticks\":\"\"}},\"type\":\"parcoords\"}],\"pie\":[{\"automargin\":true,\"type\":\"pie\"}],\"scatter\":[{\"marker\":{\"colorbar\":{\"outlinewidth\":0,\"ticks\":\"\"}},\"type\":\"scatter\"}],\"scatter3d\":[{\"line\":{\"colorbar\":{\"outlinewidth\":0,\"ticks\":\"\"}},\"marker\":{\"colorbar\":{\"outlinewidth\":0,\"ticks\":\"\"}},\"type\":\"scatter3d\"}],\"scattercarpet\":[{\"marker\":{\"colorbar\":{\"outlinewidth\":0,\"ticks\":\"\"}},\"type\":\"scattercarpet\"}],\"scattergeo\":[{\"marker\":{\"colorbar\":{\"outlinewidth\":0,\"ticks\":\"\"}},\"type\":\"scattergeo\"}],\"scattergl\":[{\"marker\":{\"colorbar\":{\"outlinewidth\":0,\"ticks\":\"\"}},\"type\":\"scattergl\"}],\"scattermapbox\":[{\"marker\":{\"colorbar\":{\"outlinewidth\":0,\"ticks\":\"\"}},\"type\":\"scattermapbox\"}],\"scatterpolar\":[{\"marker\":{\"colorbar\":{\"outlinewidth\":0,\"ticks\":\"\"}},\"type\":\"scatterpolar\"}],\"scatterpolargl\":[{\"marker\":{\"colorbar\":{\"outlinewidth\":0,\"ticks\":\"\"}},\"type\":\"scatterpolargl\"}],\"scatterternary\":[{\"marker\":{\"colorbar\":{\"outlinewidth\":0,\"ticks\":\"\"}},\"type\":\"scatterternary\"}],\"surface\":[{\"colorbar\":{\"outlinewidth\":0,\"ticks\":\"\"},\"colorscale\":[[0.0,\"#0d0887\"],[0.1111111111111111,\"#46039f\"],[0.2222222222222222,\"#7201a8\"],[0.3333333333333333,\"#9c179e\"],[0.4444444444444444,\"#bd3786\"],[0.5555555555555556,\"#d8576b\"],[0.6666666666666666,\"#ed7953\"],[0.7777777777777778,\"#fb9f3a\"],[0.8888888888888888,\"#fdca26\"],[1.0,\"#f0f921\"]],\"type\":\"surface\"}],\"table\":[{\"cells\":{\"fill\":{\"color\":\"#EBF0F8\"},\"line\":{\"color\":\"white\"}},\"header\":{\"fill\":{\"color\":\"#C8D4E3\"},\"line\":{\"color\":\"white\"}},\"type\":\"table\"}]},\"layout\":{\"annotationdefaults\":{\"arrowcolor\":\"#2a3f5f\",\"arrowhead\":0,\"arrowwidth\":1},\"autotypenumbers\":\"strict\",\"coloraxis\":{\"colorbar\":{\"outlinewidth\":0,\"ticks\":\"\"}},\"colorscale\":{\"diverging\":[[0,\"#8e0152\"],[0.1,\"#c51b7d\"],[0.2,\"#de77ae\"],[0.3,\"#f1b6da\"],[0.4,\"#fde0ef\"],[0.5,\"#f7f7f7\"],[0.6,\"#e6f5d0\"],[0.7,\"#b8e186\"],[0.8,\"#7fbc41\"],[0.9,\"#4d9221\"],[1,\"#276419\"]],\"sequential\":[[0.0,\"#0d0887\"],[0.1111111111111111,\"#46039f\"],[0.2222222222222222,\"#7201a8\"],[0.3333333333333333,\"#9c179e\"],[0.4444444444444444,\"#bd3786\"],[0.5555555555555556,\"#d8576b\"],[0.6666666666666666,\"#ed7953\"],[0.7777777777777778,\"#fb9f3a\"],[0.8888888888888888,\"#fdca26\"],[1.0,\"#f0f921\"]],\"sequentialminus\":[[0.0,\"#0d0887\"],[0.1111111111111111,\"#46039f\"],[0.2222222222222222,\"#7201a8\"],[0.3333333333333333,\"#9c179e\"],[0.4444444444444444,\"#bd3786\"],[0.5555555555555556,\"#d8576b\"],[0.6666666666666666,\"#ed7953\"],[0.7777777777777778,\"#fb9f3a\"],[0.8888888888888888,\"#fdca26\"],[1.0,\"#f0f921\"]]},\"colorway\":[\"#636efa\",\"#EF553B\",\"#00cc96\",\"#ab63fa\",\"#FFA15A\",\"#19d3f3\",\"#FF6692\",\"#B6E880\",\"#FF97FF\",\"#FECB52\"],\"font\":{\"color\":\"#2a3f5f\"},\"geo\":{\"bgcolor\":\"white\",\"lakecolor\":\"white\",\"landcolor\":\"#E5ECF6\",\"showlakes\":true,\"showland\":true,\"subunitcolor\":\"white\"},\"hoverlabel\":{\"align\":\"left\"},\"hovermode\":\"closest\",\"mapbox\":{\"style\":\"light\"},\"paper_bgcolor\":\"white\",\"plot_bgcolor\":\"#E5ECF6\",\"polar\":{\"angularaxis\":{\"gridcolor\":\"white\",\"linecolor\":\"white\",\"ticks\":\"\"},\"bgcolor\":\"#E5ECF6\",\"radialaxis\":{\"gridcolor\":\"white\",\"linecolor\":\"white\",\"ticks\":\"\"}},\"scene\":{\"xaxis\":{\"backgroundcolor\":\"#E5ECF6\",\"gridcolor\":\"white\",\"gridwidth\":2,\"linecolor\":\"white\",\"showbackground\":true,\"ticks\":\"\",\"zerolinecolor\":\"white\"},\"yaxis\":{\"backgroundcolor\":\"#E5ECF6\",\"gridcolor\":\"white\",\"gridwidth\":2,\"linecolor\":\"white\",\"showbackground\":true,\"ticks\":\"\",\"zerolinecolor\":\"white\"},\"zaxis\":{\"backgroundcolor\":\"#E5ECF6\",\"gridcolor\":\"white\",\"gridwidth\":2,\"linecolor\":\"white\",\"showbackground\":true,\"ticks\":\"\",\"zerolinecolor\":\"white\"}},\"shapedefaults\":{\"line\":{\"color\":\"#2a3f5f\"}},\"ternary\":{\"aaxis\":{\"gridcolor\":\"white\",\"linecolor\":\"white\",\"ticks\":\"\"},\"baxis\":{\"gridcolor\":\"white\",\"linecolor\":\"white\",\"ticks\":\"\"},\"bgcolor\":\"#E5ECF6\",\"caxis\":{\"gridcolor\":\"white\",\"linecolor\":\"white\",\"ticks\":\"\"}},\"title\":{\"x\":0.05},\"xaxis\":{\"automargin\":true,\"gridcolor\":\"white\",\"linecolor\":\"white\",\"ticks\":\"\",\"title\":{\"standoff\":15},\"zerolinecolor\":\"white\",\"zerolinewidth\":2},\"yaxis\":{\"automargin\":true,\"gridcolor\":\"white\",\"linecolor\":\"white\",\"ticks\":\"\",\"title\":{\"standoff\":15},\"zerolinecolor\":\"white\",\"zerolinewidth\":2}}}},                        {\"responsive\": true}                    ).then(function(){\n",
       "                            \n",
       "var gd = document.getElementById('12deb619-c1c9-425f-b634-eea377849897');\n",
       "var x = new MutationObserver(function (mutations, observer) {{\n",
       "        var display = window.getComputedStyle(gd).display;\n",
       "        if (!display || display === 'none') {{\n",
       "            console.log([gd, 'removed!']);\n",
       "            Plotly.purge(gd);\n",
       "            observer.disconnect();\n",
       "        }}\n",
       "}});\n",
       "\n",
       "// Listen for the removal of the full notebook cells\n",
       "var notebookContainer = gd.closest('#notebook-container');\n",
       "if (notebookContainer) {{\n",
       "    x.observe(notebookContainer, {childList: true});\n",
       "}}\n",
       "\n",
       "// Listen for the clearing of the current output cell\n",
       "var outputEl = gd.closest('.output');\n",
       "if (outputEl) {{\n",
       "    x.observe(outputEl, {childList: true});\n",
       "}}\n",
       "\n",
       "                        })                };                });            </script>        </div>"
      ]
     },
     "metadata": {},
     "output_type": "display_data"
    },
    {
     "name": "stdout",
     "output_type": "stream",
     "text": [
      "Top 10 Origins of Shipments to Toronto by Ontario Counties and Outside Jurisdictions\n"
     ]
    }
   ],
   "source": [
    "from math import pi\n",
    "import pandas as pd\n",
    "import numpy as np\n",
    "import plotly.graph_objects as go\n",
    "from collections import Counter \n",
    "\n",
    "df2 = pd.DataFrame(df1, columns=['OriginName'])\n",
    "records = df2.to_records(index=False)\n",
    "\n",
    "new_list = []\n",
    "\n",
    "for i in records:\n",
    "    for j in i:\n",
    "        if j != '':\n",
    "            new_list.append(j)\n",
    "        \n",
    "#print(new_list)\n",
    "\n",
    "origin_data = Counter(new_list)\n",
    "print(origin_data)\n",
    "#print(len(origin_data))\n",
    "labels = list(origin_data.keys())[0:10]\n",
    "values = list(origin_data.values())[0:10]\n",
    "\n",
    "fig = go.Figure(data=[go.Pie(labels=labels, values=values, pull=[0, 0, 0.2, 0])])\n",
    "\n",
    "fig.show()\n",
    "\n",
    "print(\"Top 10 Origins of Shipments to Toronto by Ontario Counties and Outside Jurisdictions\")"
   ]
  },
  {
   "cell_type": "code",
   "execution_count": 22,
   "id": "92ff6184",
   "metadata": {},
   "outputs": [
    {
     "data": {
      "application/vnd.plotly.v1+json": {
       "config": {
        "plotlyServerURL": "https://plot.ly"
       },
       "data": [
        {
         "labels": [
          "Empty",
          "Live Animals And Fish",
          "Agricultural Products (Excludes Live Animals, Cereal Grains, And Forage Products)",
          "Animal Feed And Feed Ingredients, Cereal Straw, And Eggs, Honey And Other Products Of Animal Origin N.E.C.",
          "Meat, Fish, Seafood, And Preparations"
         ],
         "pull": [
          0,
          0,
          0,
          0
         ],
         "textinfo": "percent",
         "textposition": "inside",
         "type": "pie",
         "values": [
          51,
          6,
          37,
          10,
          22
         ]
        }
       ],
       "layout": {
        "margin": {
         "b": 0,
         "l": 300,
         "r": 300,
         "t": 0
        },
        "template": {
         "data": {
          "bar": [
           {
            "error_x": {
             "color": "#2a3f5f"
            },
            "error_y": {
             "color": "#2a3f5f"
            },
            "marker": {
             "line": {
              "color": "#E5ECF6",
              "width": 0.5
             },
             "pattern": {
              "fillmode": "overlay",
              "size": 10,
              "solidity": 0.2
             }
            },
            "type": "bar"
           }
          ],
          "barpolar": [
           {
            "marker": {
             "line": {
              "color": "#E5ECF6",
              "width": 0.5
             },
             "pattern": {
              "fillmode": "overlay",
              "size": 10,
              "solidity": 0.2
             }
            },
            "type": "barpolar"
           }
          ],
          "carpet": [
           {
            "aaxis": {
             "endlinecolor": "#2a3f5f",
             "gridcolor": "white",
             "linecolor": "white",
             "minorgridcolor": "white",
             "startlinecolor": "#2a3f5f"
            },
            "baxis": {
             "endlinecolor": "#2a3f5f",
             "gridcolor": "white",
             "linecolor": "white",
             "minorgridcolor": "white",
             "startlinecolor": "#2a3f5f"
            },
            "type": "carpet"
           }
          ],
          "choropleth": [
           {
            "colorbar": {
             "outlinewidth": 0,
             "ticks": ""
            },
            "type": "choropleth"
           }
          ],
          "contour": [
           {
            "colorbar": {
             "outlinewidth": 0,
             "ticks": ""
            },
            "colorscale": [
             [
              0,
              "#0d0887"
             ],
             [
              0.1111111111111111,
              "#46039f"
             ],
             [
              0.2222222222222222,
              "#7201a8"
             ],
             [
              0.3333333333333333,
              "#9c179e"
             ],
             [
              0.4444444444444444,
              "#bd3786"
             ],
             [
              0.5555555555555556,
              "#d8576b"
             ],
             [
              0.6666666666666666,
              "#ed7953"
             ],
             [
              0.7777777777777778,
              "#fb9f3a"
             ],
             [
              0.8888888888888888,
              "#fdca26"
             ],
             [
              1,
              "#f0f921"
             ]
            ],
            "type": "contour"
           }
          ],
          "contourcarpet": [
           {
            "colorbar": {
             "outlinewidth": 0,
             "ticks": ""
            },
            "type": "contourcarpet"
           }
          ],
          "heatmap": [
           {
            "colorbar": {
             "outlinewidth": 0,
             "ticks": ""
            },
            "colorscale": [
             [
              0,
              "#0d0887"
             ],
             [
              0.1111111111111111,
              "#46039f"
             ],
             [
              0.2222222222222222,
              "#7201a8"
             ],
             [
              0.3333333333333333,
              "#9c179e"
             ],
             [
              0.4444444444444444,
              "#bd3786"
             ],
             [
              0.5555555555555556,
              "#d8576b"
             ],
             [
              0.6666666666666666,
              "#ed7953"
             ],
             [
              0.7777777777777778,
              "#fb9f3a"
             ],
             [
              0.8888888888888888,
              "#fdca26"
             ],
             [
              1,
              "#f0f921"
             ]
            ],
            "type": "heatmap"
           }
          ],
          "heatmapgl": [
           {
            "colorbar": {
             "outlinewidth": 0,
             "ticks": ""
            },
            "colorscale": [
             [
              0,
              "#0d0887"
             ],
             [
              0.1111111111111111,
              "#46039f"
             ],
             [
              0.2222222222222222,
              "#7201a8"
             ],
             [
              0.3333333333333333,
              "#9c179e"
             ],
             [
              0.4444444444444444,
              "#bd3786"
             ],
             [
              0.5555555555555556,
              "#d8576b"
             ],
             [
              0.6666666666666666,
              "#ed7953"
             ],
             [
              0.7777777777777778,
              "#fb9f3a"
             ],
             [
              0.8888888888888888,
              "#fdca26"
             ],
             [
              1,
              "#f0f921"
             ]
            ],
            "type": "heatmapgl"
           }
          ],
          "histogram": [
           {
            "marker": {
             "pattern": {
              "fillmode": "overlay",
              "size": 10,
              "solidity": 0.2
             }
            },
            "type": "histogram"
           }
          ],
          "histogram2d": [
           {
            "colorbar": {
             "outlinewidth": 0,
             "ticks": ""
            },
            "colorscale": [
             [
              0,
              "#0d0887"
             ],
             [
              0.1111111111111111,
              "#46039f"
             ],
             [
              0.2222222222222222,
              "#7201a8"
             ],
             [
              0.3333333333333333,
              "#9c179e"
             ],
             [
              0.4444444444444444,
              "#bd3786"
             ],
             [
              0.5555555555555556,
              "#d8576b"
             ],
             [
              0.6666666666666666,
              "#ed7953"
             ],
             [
              0.7777777777777778,
              "#fb9f3a"
             ],
             [
              0.8888888888888888,
              "#fdca26"
             ],
             [
              1,
              "#f0f921"
             ]
            ],
            "type": "histogram2d"
           }
          ],
          "histogram2dcontour": [
           {
            "colorbar": {
             "outlinewidth": 0,
             "ticks": ""
            },
            "colorscale": [
             [
              0,
              "#0d0887"
             ],
             [
              0.1111111111111111,
              "#46039f"
             ],
             [
              0.2222222222222222,
              "#7201a8"
             ],
             [
              0.3333333333333333,
              "#9c179e"
             ],
             [
              0.4444444444444444,
              "#bd3786"
             ],
             [
              0.5555555555555556,
              "#d8576b"
             ],
             [
              0.6666666666666666,
              "#ed7953"
             ],
             [
              0.7777777777777778,
              "#fb9f3a"
             ],
             [
              0.8888888888888888,
              "#fdca26"
             ],
             [
              1,
              "#f0f921"
             ]
            ],
            "type": "histogram2dcontour"
           }
          ],
          "mesh3d": [
           {
            "colorbar": {
             "outlinewidth": 0,
             "ticks": ""
            },
            "type": "mesh3d"
           }
          ],
          "parcoords": [
           {
            "line": {
             "colorbar": {
              "outlinewidth": 0,
              "ticks": ""
             }
            },
            "type": "parcoords"
           }
          ],
          "pie": [
           {
            "automargin": true,
            "type": "pie"
           }
          ],
          "scatter": [
           {
            "marker": {
             "colorbar": {
              "outlinewidth": 0,
              "ticks": ""
             }
            },
            "type": "scatter"
           }
          ],
          "scatter3d": [
           {
            "line": {
             "colorbar": {
              "outlinewidth": 0,
              "ticks": ""
             }
            },
            "marker": {
             "colorbar": {
              "outlinewidth": 0,
              "ticks": ""
             }
            },
            "type": "scatter3d"
           }
          ],
          "scattercarpet": [
           {
            "marker": {
             "colorbar": {
              "outlinewidth": 0,
              "ticks": ""
             }
            },
            "type": "scattercarpet"
           }
          ],
          "scattergeo": [
           {
            "marker": {
             "colorbar": {
              "outlinewidth": 0,
              "ticks": ""
             }
            },
            "type": "scattergeo"
           }
          ],
          "scattergl": [
           {
            "marker": {
             "colorbar": {
              "outlinewidth": 0,
              "ticks": ""
             }
            },
            "type": "scattergl"
           }
          ],
          "scattermapbox": [
           {
            "marker": {
             "colorbar": {
              "outlinewidth": 0,
              "ticks": ""
             }
            },
            "type": "scattermapbox"
           }
          ],
          "scatterpolar": [
           {
            "marker": {
             "colorbar": {
              "outlinewidth": 0,
              "ticks": ""
             }
            },
            "type": "scatterpolar"
           }
          ],
          "scatterpolargl": [
           {
            "marker": {
             "colorbar": {
              "outlinewidth": 0,
              "ticks": ""
             }
            },
            "type": "scatterpolargl"
           }
          ],
          "scatterternary": [
           {
            "marker": {
             "colorbar": {
              "outlinewidth": 0,
              "ticks": ""
             }
            },
            "type": "scatterternary"
           }
          ],
          "surface": [
           {
            "colorbar": {
             "outlinewidth": 0,
             "ticks": ""
            },
            "colorscale": [
             [
              0,
              "#0d0887"
             ],
             [
              0.1111111111111111,
              "#46039f"
             ],
             [
              0.2222222222222222,
              "#7201a8"
             ],
             [
              0.3333333333333333,
              "#9c179e"
             ],
             [
              0.4444444444444444,
              "#bd3786"
             ],
             [
              0.5555555555555556,
              "#d8576b"
             ],
             [
              0.6666666666666666,
              "#ed7953"
             ],
             [
              0.7777777777777778,
              "#fb9f3a"
             ],
             [
              0.8888888888888888,
              "#fdca26"
             ],
             [
              1,
              "#f0f921"
             ]
            ],
            "type": "surface"
           }
          ],
          "table": [
           {
            "cells": {
             "fill": {
              "color": "#EBF0F8"
             },
             "line": {
              "color": "white"
             }
            },
            "header": {
             "fill": {
              "color": "#C8D4E3"
             },
             "line": {
              "color": "white"
             }
            },
            "type": "table"
           }
          ]
         },
         "layout": {
          "annotationdefaults": {
           "arrowcolor": "#2a3f5f",
           "arrowhead": 0,
           "arrowwidth": 1
          },
          "autotypenumbers": "strict",
          "coloraxis": {
           "colorbar": {
            "outlinewidth": 0,
            "ticks": ""
           }
          },
          "colorscale": {
           "diverging": [
            [
             0,
             "#8e0152"
            ],
            [
             0.1,
             "#c51b7d"
            ],
            [
             0.2,
             "#de77ae"
            ],
            [
             0.3,
             "#f1b6da"
            ],
            [
             0.4,
             "#fde0ef"
            ],
            [
             0.5,
             "#f7f7f7"
            ],
            [
             0.6,
             "#e6f5d0"
            ],
            [
             0.7,
             "#b8e186"
            ],
            [
             0.8,
             "#7fbc41"
            ],
            [
             0.9,
             "#4d9221"
            ],
            [
             1,
             "#276419"
            ]
           ],
           "sequential": [
            [
             0,
             "#0d0887"
            ],
            [
             0.1111111111111111,
             "#46039f"
            ],
            [
             0.2222222222222222,
             "#7201a8"
            ],
            [
             0.3333333333333333,
             "#9c179e"
            ],
            [
             0.4444444444444444,
             "#bd3786"
            ],
            [
             0.5555555555555556,
             "#d8576b"
            ],
            [
             0.6666666666666666,
             "#ed7953"
            ],
            [
             0.7777777777777778,
             "#fb9f3a"
            ],
            [
             0.8888888888888888,
             "#fdca26"
            ],
            [
             1,
             "#f0f921"
            ]
           ],
           "sequentialminus": [
            [
             0,
             "#0d0887"
            ],
            [
             0.1111111111111111,
             "#46039f"
            ],
            [
             0.2222222222222222,
             "#7201a8"
            ],
            [
             0.3333333333333333,
             "#9c179e"
            ],
            [
             0.4444444444444444,
             "#bd3786"
            ],
            [
             0.5555555555555556,
             "#d8576b"
            ],
            [
             0.6666666666666666,
             "#ed7953"
            ],
            [
             0.7777777777777778,
             "#fb9f3a"
            ],
            [
             0.8888888888888888,
             "#fdca26"
            ],
            [
             1,
             "#f0f921"
            ]
           ]
          },
          "colorway": [
           "#636efa",
           "#EF553B",
           "#00cc96",
           "#ab63fa",
           "#FFA15A",
           "#19d3f3",
           "#FF6692",
           "#B6E880",
           "#FF97FF",
           "#FECB52"
          ],
          "font": {
           "color": "#2a3f5f"
          },
          "geo": {
           "bgcolor": "white",
           "lakecolor": "white",
           "landcolor": "#E5ECF6",
           "showlakes": true,
           "showland": true,
           "subunitcolor": "white"
          },
          "hoverlabel": {
           "align": "left"
          },
          "hovermode": "closest",
          "mapbox": {
           "style": "light"
          },
          "paper_bgcolor": "white",
          "plot_bgcolor": "#E5ECF6",
          "polar": {
           "angularaxis": {
            "gridcolor": "white",
            "linecolor": "white",
            "ticks": ""
           },
           "bgcolor": "#E5ECF6",
           "radialaxis": {
            "gridcolor": "white",
            "linecolor": "white",
            "ticks": ""
           }
          },
          "scene": {
           "xaxis": {
            "backgroundcolor": "#E5ECF6",
            "gridcolor": "white",
            "gridwidth": 2,
            "linecolor": "white",
            "showbackground": true,
            "ticks": "",
            "zerolinecolor": "white"
           },
           "yaxis": {
            "backgroundcolor": "#E5ECF6",
            "gridcolor": "white",
            "gridwidth": 2,
            "linecolor": "white",
            "showbackground": true,
            "ticks": "",
            "zerolinecolor": "white"
           },
           "zaxis": {
            "backgroundcolor": "#E5ECF6",
            "gridcolor": "white",
            "gridwidth": 2,
            "linecolor": "white",
            "showbackground": true,
            "ticks": "",
            "zerolinecolor": "white"
           }
          },
          "shapedefaults": {
           "line": {
            "color": "#2a3f5f"
           }
          },
          "ternary": {
           "aaxis": {
            "gridcolor": "white",
            "linecolor": "white",
            "ticks": ""
           },
           "baxis": {
            "gridcolor": "white",
            "linecolor": "white",
            "ticks": ""
           },
           "bgcolor": "#E5ECF6",
           "caxis": {
            "gridcolor": "white",
            "linecolor": "white",
            "ticks": ""
           }
          },
          "title": {
           "x": 0.05
          },
          "xaxis": {
           "automargin": true,
           "gridcolor": "white",
           "linecolor": "white",
           "ticks": "",
           "title": {
            "standoff": 15
           },
           "zerolinecolor": "white",
           "zerolinewidth": 2
          },
          "yaxis": {
           "automargin": true,
           "gridcolor": "white",
           "linecolor": "white",
           "ticks": "",
           "title": {
            "standoff": 15
           },
           "zerolinecolor": "white",
           "zerolinewidth": 2
          }
         }
        },
        "uniformtext": {
         "minsize": 8,
         "mode": "hide"
        }
       }
      },
      "text/html": [
       "<div>                            <div id=\"98335579-2f10-4748-afd2-c211eaf3d939\" class=\"plotly-graph-div\" style=\"height:525px; width:100%;\"></div>            <script type=\"text/javascript\">                require([\"plotly\"], function(Plotly) {                    window.PLOTLYENV=window.PLOTLYENV || {};                                    if (document.getElementById(\"98335579-2f10-4748-afd2-c211eaf3d939\")) {                    Plotly.newPlot(                        \"98335579-2f10-4748-afd2-c211eaf3d939\",                        [{\"labels\":[\"Empty\",\"Live Animals And Fish\",\"Agricultural Products (Excludes Live Animals, Cereal Grains, And Forage Products)\",\"Animal Feed And Feed Ingredients, Cereal Straw, And Eggs, Honey And Other Products Of Animal Origin N.E.C.\",\"Meat, Fish, Seafood, And Preparations\"],\"pull\":[0,0,0,0],\"values\":[51,6,37,10,22],\"type\":\"pie\",\"textinfo\":\"percent\",\"textposition\":\"inside\"}],                        {\"template\":{\"data\":{\"bar\":[{\"error_x\":{\"color\":\"#2a3f5f\"},\"error_y\":{\"color\":\"#2a3f5f\"},\"marker\":{\"line\":{\"color\":\"#E5ECF6\",\"width\":0.5},\"pattern\":{\"fillmode\":\"overlay\",\"size\":10,\"solidity\":0.2}},\"type\":\"bar\"}],\"barpolar\":[{\"marker\":{\"line\":{\"color\":\"#E5ECF6\",\"width\":0.5},\"pattern\":{\"fillmode\":\"overlay\",\"size\":10,\"solidity\":0.2}},\"type\":\"barpolar\"}],\"carpet\":[{\"aaxis\":{\"endlinecolor\":\"#2a3f5f\",\"gridcolor\":\"white\",\"linecolor\":\"white\",\"minorgridcolor\":\"white\",\"startlinecolor\":\"#2a3f5f\"},\"baxis\":{\"endlinecolor\":\"#2a3f5f\",\"gridcolor\":\"white\",\"linecolor\":\"white\",\"minorgridcolor\":\"white\",\"startlinecolor\":\"#2a3f5f\"},\"type\":\"carpet\"}],\"choropleth\":[{\"colorbar\":{\"outlinewidth\":0,\"ticks\":\"\"},\"type\":\"choropleth\"}],\"contour\":[{\"colorbar\":{\"outlinewidth\":0,\"ticks\":\"\"},\"colorscale\":[[0.0,\"#0d0887\"],[0.1111111111111111,\"#46039f\"],[0.2222222222222222,\"#7201a8\"],[0.3333333333333333,\"#9c179e\"],[0.4444444444444444,\"#bd3786\"],[0.5555555555555556,\"#d8576b\"],[0.6666666666666666,\"#ed7953\"],[0.7777777777777778,\"#fb9f3a\"],[0.8888888888888888,\"#fdca26\"],[1.0,\"#f0f921\"]],\"type\":\"contour\"}],\"contourcarpet\":[{\"colorbar\":{\"outlinewidth\":0,\"ticks\":\"\"},\"type\":\"contourcarpet\"}],\"heatmap\":[{\"colorbar\":{\"outlinewidth\":0,\"ticks\":\"\"},\"colorscale\":[[0.0,\"#0d0887\"],[0.1111111111111111,\"#46039f\"],[0.2222222222222222,\"#7201a8\"],[0.3333333333333333,\"#9c179e\"],[0.4444444444444444,\"#bd3786\"],[0.5555555555555556,\"#d8576b\"],[0.6666666666666666,\"#ed7953\"],[0.7777777777777778,\"#fb9f3a\"],[0.8888888888888888,\"#fdca26\"],[1.0,\"#f0f921\"]],\"type\":\"heatmap\"}],\"heatmapgl\":[{\"colorbar\":{\"outlinewidth\":0,\"ticks\":\"\"},\"colorscale\":[[0.0,\"#0d0887\"],[0.1111111111111111,\"#46039f\"],[0.2222222222222222,\"#7201a8\"],[0.3333333333333333,\"#9c179e\"],[0.4444444444444444,\"#bd3786\"],[0.5555555555555556,\"#d8576b\"],[0.6666666666666666,\"#ed7953\"],[0.7777777777777778,\"#fb9f3a\"],[0.8888888888888888,\"#fdca26\"],[1.0,\"#f0f921\"]],\"type\":\"heatmapgl\"}],\"histogram\":[{\"marker\":{\"pattern\":{\"fillmode\":\"overlay\",\"size\":10,\"solidity\":0.2}},\"type\":\"histogram\"}],\"histogram2d\":[{\"colorbar\":{\"outlinewidth\":0,\"ticks\":\"\"},\"colorscale\":[[0.0,\"#0d0887\"],[0.1111111111111111,\"#46039f\"],[0.2222222222222222,\"#7201a8\"],[0.3333333333333333,\"#9c179e\"],[0.4444444444444444,\"#bd3786\"],[0.5555555555555556,\"#d8576b\"],[0.6666666666666666,\"#ed7953\"],[0.7777777777777778,\"#fb9f3a\"],[0.8888888888888888,\"#fdca26\"],[1.0,\"#f0f921\"]],\"type\":\"histogram2d\"}],\"histogram2dcontour\":[{\"colorbar\":{\"outlinewidth\":0,\"ticks\":\"\"},\"colorscale\":[[0.0,\"#0d0887\"],[0.1111111111111111,\"#46039f\"],[0.2222222222222222,\"#7201a8\"],[0.3333333333333333,\"#9c179e\"],[0.4444444444444444,\"#bd3786\"],[0.5555555555555556,\"#d8576b\"],[0.6666666666666666,\"#ed7953\"],[0.7777777777777778,\"#fb9f3a\"],[0.8888888888888888,\"#fdca26\"],[1.0,\"#f0f921\"]],\"type\":\"histogram2dcontour\"}],\"mesh3d\":[{\"colorbar\":{\"outlinewidth\":0,\"ticks\":\"\"},\"type\":\"mesh3d\"}],\"parcoords\":[{\"line\":{\"colorbar\":{\"outlinewidth\":0,\"ticks\":\"\"}},\"type\":\"parcoords\"}],\"pie\":[{\"automargin\":true,\"type\":\"pie\"}],\"scatter\":[{\"marker\":{\"colorbar\":{\"outlinewidth\":0,\"ticks\":\"\"}},\"type\":\"scatter\"}],\"scatter3d\":[{\"line\":{\"colorbar\":{\"outlinewidth\":0,\"ticks\":\"\"}},\"marker\":{\"colorbar\":{\"outlinewidth\":0,\"ticks\":\"\"}},\"type\":\"scatter3d\"}],\"scattercarpet\":[{\"marker\":{\"colorbar\":{\"outlinewidth\":0,\"ticks\":\"\"}},\"type\":\"scattercarpet\"}],\"scattergeo\":[{\"marker\":{\"colorbar\":{\"outlinewidth\":0,\"ticks\":\"\"}},\"type\":\"scattergeo\"}],\"scattergl\":[{\"marker\":{\"colorbar\":{\"outlinewidth\":0,\"ticks\":\"\"}},\"type\":\"scattergl\"}],\"scattermapbox\":[{\"marker\":{\"colorbar\":{\"outlinewidth\":0,\"ticks\":\"\"}},\"type\":\"scattermapbox\"}],\"scatterpolar\":[{\"marker\":{\"colorbar\":{\"outlinewidth\":0,\"ticks\":\"\"}},\"type\":\"scatterpolar\"}],\"scatterpolargl\":[{\"marker\":{\"colorbar\":{\"outlinewidth\":0,\"ticks\":\"\"}},\"type\":\"scatterpolargl\"}],\"scatterternary\":[{\"marker\":{\"colorbar\":{\"outlinewidth\":0,\"ticks\":\"\"}},\"type\":\"scatterternary\"}],\"surface\":[{\"colorbar\":{\"outlinewidth\":0,\"ticks\":\"\"},\"colorscale\":[[0.0,\"#0d0887\"],[0.1111111111111111,\"#46039f\"],[0.2222222222222222,\"#7201a8\"],[0.3333333333333333,\"#9c179e\"],[0.4444444444444444,\"#bd3786\"],[0.5555555555555556,\"#d8576b\"],[0.6666666666666666,\"#ed7953\"],[0.7777777777777778,\"#fb9f3a\"],[0.8888888888888888,\"#fdca26\"],[1.0,\"#f0f921\"]],\"type\":\"surface\"}],\"table\":[{\"cells\":{\"fill\":{\"color\":\"#EBF0F8\"},\"line\":{\"color\":\"white\"}},\"header\":{\"fill\":{\"color\":\"#C8D4E3\"},\"line\":{\"color\":\"white\"}},\"type\":\"table\"}]},\"layout\":{\"annotationdefaults\":{\"arrowcolor\":\"#2a3f5f\",\"arrowhead\":0,\"arrowwidth\":1},\"autotypenumbers\":\"strict\",\"coloraxis\":{\"colorbar\":{\"outlinewidth\":0,\"ticks\":\"\"}},\"colorscale\":{\"diverging\":[[0,\"#8e0152\"],[0.1,\"#c51b7d\"],[0.2,\"#de77ae\"],[0.3,\"#f1b6da\"],[0.4,\"#fde0ef\"],[0.5,\"#f7f7f7\"],[0.6,\"#e6f5d0\"],[0.7,\"#b8e186\"],[0.8,\"#7fbc41\"],[0.9,\"#4d9221\"],[1,\"#276419\"]],\"sequential\":[[0.0,\"#0d0887\"],[0.1111111111111111,\"#46039f\"],[0.2222222222222222,\"#7201a8\"],[0.3333333333333333,\"#9c179e\"],[0.4444444444444444,\"#bd3786\"],[0.5555555555555556,\"#d8576b\"],[0.6666666666666666,\"#ed7953\"],[0.7777777777777778,\"#fb9f3a\"],[0.8888888888888888,\"#fdca26\"],[1.0,\"#f0f921\"]],\"sequentialminus\":[[0.0,\"#0d0887\"],[0.1111111111111111,\"#46039f\"],[0.2222222222222222,\"#7201a8\"],[0.3333333333333333,\"#9c179e\"],[0.4444444444444444,\"#bd3786\"],[0.5555555555555556,\"#d8576b\"],[0.6666666666666666,\"#ed7953\"],[0.7777777777777778,\"#fb9f3a\"],[0.8888888888888888,\"#fdca26\"],[1.0,\"#f0f921\"]]},\"colorway\":[\"#636efa\",\"#EF553B\",\"#00cc96\",\"#ab63fa\",\"#FFA15A\",\"#19d3f3\",\"#FF6692\",\"#B6E880\",\"#FF97FF\",\"#FECB52\"],\"font\":{\"color\":\"#2a3f5f\"},\"geo\":{\"bgcolor\":\"white\",\"lakecolor\":\"white\",\"landcolor\":\"#E5ECF6\",\"showlakes\":true,\"showland\":true,\"subunitcolor\":\"white\"},\"hoverlabel\":{\"align\":\"left\"},\"hovermode\":\"closest\",\"mapbox\":{\"style\":\"light\"},\"paper_bgcolor\":\"white\",\"plot_bgcolor\":\"#E5ECF6\",\"polar\":{\"angularaxis\":{\"gridcolor\":\"white\",\"linecolor\":\"white\",\"ticks\":\"\"},\"bgcolor\":\"#E5ECF6\",\"radialaxis\":{\"gridcolor\":\"white\",\"linecolor\":\"white\",\"ticks\":\"\"}},\"scene\":{\"xaxis\":{\"backgroundcolor\":\"#E5ECF6\",\"gridcolor\":\"white\",\"gridwidth\":2,\"linecolor\":\"white\",\"showbackground\":true,\"ticks\":\"\",\"zerolinecolor\":\"white\"},\"yaxis\":{\"backgroundcolor\":\"#E5ECF6\",\"gridcolor\":\"white\",\"gridwidth\":2,\"linecolor\":\"white\",\"showbackground\":true,\"ticks\":\"\",\"zerolinecolor\":\"white\"},\"zaxis\":{\"backgroundcolor\":\"#E5ECF6\",\"gridcolor\":\"white\",\"gridwidth\":2,\"linecolor\":\"white\",\"showbackground\":true,\"ticks\":\"\",\"zerolinecolor\":\"white\"}},\"shapedefaults\":{\"line\":{\"color\":\"#2a3f5f\"}},\"ternary\":{\"aaxis\":{\"gridcolor\":\"white\",\"linecolor\":\"white\",\"ticks\":\"\"},\"baxis\":{\"gridcolor\":\"white\",\"linecolor\":\"white\",\"ticks\":\"\"},\"bgcolor\":\"#E5ECF6\",\"caxis\":{\"gridcolor\":\"white\",\"linecolor\":\"white\",\"ticks\":\"\"}},\"title\":{\"x\":0.05},\"xaxis\":{\"automargin\":true,\"gridcolor\":\"white\",\"linecolor\":\"white\",\"ticks\":\"\",\"title\":{\"standoff\":15},\"zerolinecolor\":\"white\",\"zerolinewidth\":2},\"yaxis\":{\"automargin\":true,\"gridcolor\":\"white\",\"linecolor\":\"white\",\"ticks\":\"\",\"title\":{\"standoff\":15},\"zerolinecolor\":\"white\",\"zerolinewidth\":2}}},\"uniformtext\":{\"minsize\":8,\"mode\":\"hide\"},\"margin\":{\"t\":0,\"b\":0,\"l\":300,\"r\":300}},                        {\"responsive\": true}                    ).then(function(){\n",
       "                            \n",
       "var gd = document.getElementById('98335579-2f10-4748-afd2-c211eaf3d939');\n",
       "var x = new MutationObserver(function (mutations, observer) {{\n",
       "        var display = window.getComputedStyle(gd).display;\n",
       "        if (!display || display === 'none') {{\n",
       "            console.log([gd, 'removed!']);\n",
       "            Plotly.purge(gd);\n",
       "            observer.disconnect();\n",
       "        }}\n",
       "}});\n",
       "\n",
       "// Listen for the removal of the full notebook cells\n",
       "var notebookContainer = gd.closest('#notebook-container');\n",
       "if (notebookContainer) {{\n",
       "    x.observe(notebookContainer, {childList: true});\n",
       "}}\n",
       "\n",
       "// Listen for the clearing of the current output cell\n",
       "var outputEl = gd.closest('.output');\n",
       "if (outputEl) {{\n",
       "    x.observe(outputEl, {childList: true});\n",
       "}}\n",
       "\n",
       "                        })                };                });            </script>        </div>"
      ]
     },
     "metadata": {},
     "output_type": "display_data"
    },
    {
     "name": "stdout",
     "output_type": "stream",
     "text": [
      "Top 5 Cargo Groups Arriving to Toronto\n"
     ]
    }
   ],
   "source": [
    "from math import pi\n",
    "import pandas as pd\n",
    "import numpy as np\n",
    "import plotly.graph_objects as go\n",
    "\n",
    "df2 = pd.DataFrame(df1, columns=['Commodity_Group'])\n",
    "records = df2.to_records(index=False)\n",
    "\n",
    "new_list = []\n",
    "\n",
    "for i in records:\n",
    "    for j in i:\n",
    "        if j != '':\n",
    "            new_list.append(j)\n",
    "        \n",
    "#print(new_list)\n",
    "\n",
    "origin_data = Counter(new_list)\n",
    "#print(origin_data)\n",
    "#print(len(origin_data))\n",
    "labels = list(origin_data.keys())[0:5]\n",
    "values = list(origin_data.values())[0:5]\n",
    "\n",
    "fig = go.Figure(data=[go.Pie(labels=labels, values=values, pull=[0, 0, 0, 0])])\n",
    "fig.update_traces(textposition='inside', textinfo='percent')\n",
    "fig.update_layout(uniformtext_minsize=8, uniformtext_mode='hide')\n",
    "fig.update_layout(margin=dict(t=0, b=0, l=300, r=300))\n",
    "fig.show()\n",
    "\n",
    "print(\"Top 5 Cargo Groups Arriving to Toronto\")"
   ]
  },
  {
   "cell_type": "code",
   "execution_count": 26,
   "id": "bbba5e4f",
   "metadata": {},
   "outputs": [
    {
     "data": {
      "text/html": [
       "\n",
       "    <div class=\"bk-root\">\n",
       "        <a href=\"https://bokeh.org\" target=\"_blank\" class=\"bk-logo bk-logo-small bk-logo-notebook\"></a>\n",
       "        <span id=\"2692\">Loading BokehJS ...</span>\n",
       "    </div>"
      ]
     },
     "metadata": {},
     "output_type": "display_data"
    },
    {
     "data": {
      "application/javascript": [
       "\n",
       "(function(root) {\n",
       "  function now() {\n",
       "    return new Date();\n",
       "  }\n",
       "\n",
       "  const force = true;\n",
       "\n",
       "  if (typeof root._bokeh_onload_callbacks === \"undefined\" || force === true) {\n",
       "    root._bokeh_onload_callbacks = [];\n",
       "    root._bokeh_is_loading = undefined;\n",
       "  }\n",
       "\n",
       "  const JS_MIME_TYPE = 'application/javascript';\n",
       "  const HTML_MIME_TYPE = 'text/html';\n",
       "  const EXEC_MIME_TYPE = 'application/vnd.bokehjs_exec.v0+json';\n",
       "  const CLASS_NAME = 'output_bokeh rendered_html';\n",
       "\n",
       "  /**\n",
       "   * Render data to the DOM node\n",
       "   */\n",
       "  function render(props, node) {\n",
       "    const script = document.createElement(\"script\");\n",
       "    node.appendChild(script);\n",
       "  }\n",
       "\n",
       "  /**\n",
       "   * Handle when an output is cleared or removed\n",
       "   */\n",
       "  function handleClearOutput(event, handle) {\n",
       "    const cell = handle.cell;\n",
       "\n",
       "    const id = cell.output_area._bokeh_element_id;\n",
       "    const server_id = cell.output_area._bokeh_server_id;\n",
       "    // Clean up Bokeh references\n",
       "    if (id != null && id in Bokeh.index) {\n",
       "      Bokeh.index[id].model.document.clear();\n",
       "      delete Bokeh.index[id];\n",
       "    }\n",
       "\n",
       "    if (server_id !== undefined) {\n",
       "      // Clean up Bokeh references\n",
       "      const cmd_clean = \"from bokeh.io.state import curstate; print(curstate().uuid_to_server['\" + server_id + \"'].get_sessions()[0].document.roots[0]._id)\";\n",
       "      cell.notebook.kernel.execute(cmd_clean, {\n",
       "        iopub: {\n",
       "          output: function(msg) {\n",
       "            const id = msg.content.text.trim();\n",
       "            if (id in Bokeh.index) {\n",
       "              Bokeh.index[id].model.document.clear();\n",
       "              delete Bokeh.index[id];\n",
       "            }\n",
       "          }\n",
       "        }\n",
       "      });\n",
       "      // Destroy server and session\n",
       "      const cmd_destroy = \"import bokeh.io.notebook as ion; ion.destroy_server('\" + server_id + \"')\";\n",
       "      cell.notebook.kernel.execute(cmd_destroy);\n",
       "    }\n",
       "  }\n",
       "\n",
       "  /**\n",
       "   * Handle when a new output is added\n",
       "   */\n",
       "  function handleAddOutput(event, handle) {\n",
       "    const output_area = handle.output_area;\n",
       "    const output = handle.output;\n",
       "\n",
       "    // limit handleAddOutput to display_data with EXEC_MIME_TYPE content only\n",
       "    if ((output.output_type != \"display_data\") || (!Object.prototype.hasOwnProperty.call(output.data, EXEC_MIME_TYPE))) {\n",
       "      return\n",
       "    }\n",
       "\n",
       "    const toinsert = output_area.element.find(\".\" + CLASS_NAME.split(' ')[0]);\n",
       "\n",
       "    if (output.metadata[EXEC_MIME_TYPE][\"id\"] !== undefined) {\n",
       "      toinsert[toinsert.length - 1].firstChild.textContent = output.data[JS_MIME_TYPE];\n",
       "      // store reference to embed id on output_area\n",
       "      output_area._bokeh_element_id = output.metadata[EXEC_MIME_TYPE][\"id\"];\n",
       "    }\n",
       "    if (output.metadata[EXEC_MIME_TYPE][\"server_id\"] !== undefined) {\n",
       "      const bk_div = document.createElement(\"div\");\n",
       "      bk_div.innerHTML = output.data[HTML_MIME_TYPE];\n",
       "      const script_attrs = bk_div.children[0].attributes;\n",
       "      for (let i = 0; i < script_attrs.length; i++) {\n",
       "        toinsert[toinsert.length - 1].firstChild.setAttribute(script_attrs[i].name, script_attrs[i].value);\n",
       "        toinsert[toinsert.length - 1].firstChild.textContent = bk_div.children[0].textContent\n",
       "      }\n",
       "      // store reference to server id on output_area\n",
       "      output_area._bokeh_server_id = output.metadata[EXEC_MIME_TYPE][\"server_id\"];\n",
       "    }\n",
       "  }\n",
       "\n",
       "  function register_renderer(events, OutputArea) {\n",
       "\n",
       "    function append_mime(data, metadata, element) {\n",
       "      // create a DOM node to render to\n",
       "      const toinsert = this.create_output_subarea(\n",
       "        metadata,\n",
       "        CLASS_NAME,\n",
       "        EXEC_MIME_TYPE\n",
       "      );\n",
       "      this.keyboard_manager.register_events(toinsert);\n",
       "      // Render to node\n",
       "      const props = {data: data, metadata: metadata[EXEC_MIME_TYPE]};\n",
       "      render(props, toinsert[toinsert.length - 1]);\n",
       "      element.append(toinsert);\n",
       "      return toinsert\n",
       "    }\n",
       "\n",
       "    /* Handle when an output is cleared or removed */\n",
       "    events.on('clear_output.CodeCell', handleClearOutput);\n",
       "    events.on('delete.Cell', handleClearOutput);\n",
       "\n",
       "    /* Handle when a new output is added */\n",
       "    events.on('output_added.OutputArea', handleAddOutput);\n",
       "\n",
       "    /**\n",
       "     * Register the mime type and append_mime function with output_area\n",
       "     */\n",
       "    OutputArea.prototype.register_mime_type(EXEC_MIME_TYPE, append_mime, {\n",
       "      /* Is output safe? */\n",
       "      safe: true,\n",
       "      /* Index of renderer in `output_area.display_order` */\n",
       "      index: 0\n",
       "    });\n",
       "  }\n",
       "\n",
       "  // register the mime type if in Jupyter Notebook environment and previously unregistered\n",
       "  if (root.Jupyter !== undefined) {\n",
       "    const events = require('base/js/events');\n",
       "    const OutputArea = require('notebook/js/outputarea').OutputArea;\n",
       "\n",
       "    if (OutputArea.prototype.mime_types().indexOf(EXEC_MIME_TYPE) == -1) {\n",
       "      register_renderer(events, OutputArea);\n",
       "    }\n",
       "  }\n",
       "\n",
       "  \n",
       "  if (typeof (root._bokeh_timeout) === \"undefined\" || force === true) {\n",
       "    root._bokeh_timeout = Date.now() + 5000;\n",
       "    root._bokeh_failed_load = false;\n",
       "  }\n",
       "\n",
       "  const NB_LOAD_WARNING = {'data': {'text/html':\n",
       "     \"<div style='background-color: #fdd'>\\n\"+\n",
       "     \"<p>\\n\"+\n",
       "     \"BokehJS does not appear to have successfully loaded. If loading BokehJS from CDN, this \\n\"+\n",
       "     \"may be due to a slow or bad network connection. Possible fixes:\\n\"+\n",
       "     \"</p>\\n\"+\n",
       "     \"<ul>\\n\"+\n",
       "     \"<li>re-rerun `output_notebook()` to attempt to load from CDN again, or</li>\\n\"+\n",
       "     \"<li>use INLINE resources instead, as so:</li>\\n\"+\n",
       "     \"</ul>\\n\"+\n",
       "     \"<code>\\n\"+\n",
       "     \"from bokeh.resources import INLINE\\n\"+\n",
       "     \"output_notebook(resources=INLINE)\\n\"+\n",
       "     \"</code>\\n\"+\n",
       "     \"</div>\"}};\n",
       "\n",
       "  function display_loaded() {\n",
       "    const el = document.getElementById(\"2692\");\n",
       "    if (el != null) {\n",
       "      el.textContent = \"BokehJS is loading...\";\n",
       "    }\n",
       "    if (root.Bokeh !== undefined) {\n",
       "      if (el != null) {\n",
       "        el.textContent = \"BokehJS \" + root.Bokeh.version + \" successfully loaded.\";\n",
       "      }\n",
       "    } else if (Date.now() < root._bokeh_timeout) {\n",
       "      setTimeout(display_loaded, 100)\n",
       "    }\n",
       "  }\n",
       "\n",
       "\n",
       "  function run_callbacks() {\n",
       "    try {\n",
       "      root._bokeh_onload_callbacks.forEach(function(callback) {\n",
       "        if (callback != null)\n",
       "          callback();\n",
       "      });\n",
       "    } finally {\n",
       "      delete root._bokeh_onload_callbacks\n",
       "    }\n",
       "    console.debug(\"Bokeh: all callbacks have finished\");\n",
       "  }\n",
       "\n",
       "  function load_libs(css_urls, js_urls, callback) {\n",
       "    if (css_urls == null) css_urls = [];\n",
       "    if (js_urls == null) js_urls = [];\n",
       "\n",
       "    root._bokeh_onload_callbacks.push(callback);\n",
       "    if (root._bokeh_is_loading > 0) {\n",
       "      console.debug(\"Bokeh: BokehJS is being loaded, scheduling callback at\", now());\n",
       "      return null;\n",
       "    }\n",
       "    if (js_urls == null || js_urls.length === 0) {\n",
       "      run_callbacks();\n",
       "      return null;\n",
       "    }\n",
       "    console.debug(\"Bokeh: BokehJS not loaded, scheduling load and callback at\", now());\n",
       "    root._bokeh_is_loading = css_urls.length + js_urls.length;\n",
       "\n",
       "    function on_load() {\n",
       "      root._bokeh_is_loading--;\n",
       "      if (root._bokeh_is_loading === 0) {\n",
       "        console.debug(\"Bokeh: all BokehJS libraries/stylesheets loaded\");\n",
       "        run_callbacks()\n",
       "      }\n",
       "    }\n",
       "\n",
       "    function on_error(url) {\n",
       "      console.error(\"failed to load \" + url);\n",
       "    }\n",
       "\n",
       "    for (let i = 0; i < css_urls.length; i++) {\n",
       "      const url = css_urls[i];\n",
       "      const element = document.createElement(\"link\");\n",
       "      element.onload = on_load;\n",
       "      element.onerror = on_error.bind(null, url);\n",
       "      element.rel = \"stylesheet\";\n",
       "      element.type = \"text/css\";\n",
       "      element.href = url;\n",
       "      console.debug(\"Bokeh: injecting link tag for BokehJS stylesheet: \", url);\n",
       "      document.body.appendChild(element);\n",
       "    }\n",
       "\n",
       "    for (let i = 0; i < js_urls.length; i++) {\n",
       "      const url = js_urls[i];\n",
       "      const element = document.createElement('script');\n",
       "      element.onload = on_load;\n",
       "      element.onerror = on_error.bind(null, url);\n",
       "      element.async = false;\n",
       "      element.src = url;\n",
       "      console.debug(\"Bokeh: injecting script tag for BokehJS library: \", url);\n",
       "      document.head.appendChild(element);\n",
       "    }\n",
       "  };\n",
       "\n",
       "  function inject_raw_css(css) {\n",
       "    const element = document.createElement(\"style\");\n",
       "    element.appendChild(document.createTextNode(css));\n",
       "    document.body.appendChild(element);\n",
       "  }\n",
       "\n",
       "  \n",
       "  const js_urls = [\"https://cdn.bokeh.org/bokeh/release/bokeh-2.4.1.min.js\", \"https://cdn.bokeh.org/bokeh/release/bokeh-gl-2.4.1.min.js\", \"https://cdn.bokeh.org/bokeh/release/bokeh-widgets-2.4.1.min.js\", \"https://cdn.bokeh.org/bokeh/release/bokeh-tables-2.4.1.min.js\", \"https://cdn.bokeh.org/bokeh/release/bokeh-mathjax-2.4.1.min.js\"];\n",
       "  const css_urls = [];\n",
       "  \n",
       "\n",
       "  const inline_js = [\n",
       "    function(Bokeh) {\n",
       "      Bokeh.set_log_level(\"info\");\n",
       "    },\n",
       "    function(Bokeh) {\n",
       "    \n",
       "    \n",
       "    }\n",
       "  ];\n",
       "\n",
       "  function run_inline_js() {\n",
       "    \n",
       "    if (root.Bokeh !== undefined || force === true) {\n",
       "      \n",
       "    for (let i = 0; i < inline_js.length; i++) {\n",
       "      inline_js[i].call(root, root.Bokeh);\n",
       "    }\n",
       "    if (force === true) {\n",
       "        display_loaded();\n",
       "      }} else if (Date.now() < root._bokeh_timeout) {\n",
       "      setTimeout(run_inline_js, 100);\n",
       "    } else if (!root._bokeh_failed_load) {\n",
       "      console.log(\"Bokeh: BokehJS failed to load within specified timeout.\");\n",
       "      root._bokeh_failed_load = true;\n",
       "    } else if (force !== true) {\n",
       "      const cell = $(document.getElementById(\"2692\")).parents('.cell').data().cell;\n",
       "      cell.output_area.append_execute_result(NB_LOAD_WARNING)\n",
       "    }\n",
       "\n",
       "  }\n",
       "\n",
       "  if (root._bokeh_is_loading === 0) {\n",
       "    console.debug(\"Bokeh: BokehJS loaded, going straight to plotting\");\n",
       "    run_inline_js();\n",
       "  } else {\n",
       "    load_libs(css_urls, js_urls, function() {\n",
       "      console.debug(\"Bokeh: BokehJS plotting callback run at\", now());\n",
       "      run_inline_js();\n",
       "    });\n",
       "  }\n",
       "}(window));"
      ],
      "application/vnd.bokehjs_load.v0+json": "\n(function(root) {\n  function now() {\n    return new Date();\n  }\n\n  const force = true;\n\n  if (typeof root._bokeh_onload_callbacks === \"undefined\" || force === true) {\n    root._bokeh_onload_callbacks = [];\n    root._bokeh_is_loading = undefined;\n  }\n\n  \n\n  \n  if (typeof (root._bokeh_timeout) === \"undefined\" || force === true) {\n    root._bokeh_timeout = Date.now() + 5000;\n    root._bokeh_failed_load = false;\n  }\n\n  const NB_LOAD_WARNING = {'data': {'text/html':\n     \"<div style='background-color: #fdd'>\\n\"+\n     \"<p>\\n\"+\n     \"BokehJS does not appear to have successfully loaded. If loading BokehJS from CDN, this \\n\"+\n     \"may be due to a slow or bad network connection. Possible fixes:\\n\"+\n     \"</p>\\n\"+\n     \"<ul>\\n\"+\n     \"<li>re-rerun `output_notebook()` to attempt to load from CDN again, or</li>\\n\"+\n     \"<li>use INLINE resources instead, as so:</li>\\n\"+\n     \"</ul>\\n\"+\n     \"<code>\\n\"+\n     \"from bokeh.resources import INLINE\\n\"+\n     \"output_notebook(resources=INLINE)\\n\"+\n     \"</code>\\n\"+\n     \"</div>\"}};\n\n  function display_loaded() {\n    const el = document.getElementById(\"2692\");\n    if (el != null) {\n      el.textContent = \"BokehJS is loading...\";\n    }\n    if (root.Bokeh !== undefined) {\n      if (el != null) {\n        el.textContent = \"BokehJS \" + root.Bokeh.version + \" successfully loaded.\";\n      }\n    } else if (Date.now() < root._bokeh_timeout) {\n      setTimeout(display_loaded, 100)\n    }\n  }\n\n\n  function run_callbacks() {\n    try {\n      root._bokeh_onload_callbacks.forEach(function(callback) {\n        if (callback != null)\n          callback();\n      });\n    } finally {\n      delete root._bokeh_onload_callbacks\n    }\n    console.debug(\"Bokeh: all callbacks have finished\");\n  }\n\n  function load_libs(css_urls, js_urls, callback) {\n    if (css_urls == null) css_urls = [];\n    if (js_urls == null) js_urls = [];\n\n    root._bokeh_onload_callbacks.push(callback);\n    if (root._bokeh_is_loading > 0) {\n      console.debug(\"Bokeh: BokehJS is being loaded, scheduling callback at\", now());\n      return null;\n    }\n    if (js_urls == null || js_urls.length === 0) {\n      run_callbacks();\n      return null;\n    }\n    console.debug(\"Bokeh: BokehJS not loaded, scheduling load and callback at\", now());\n    root._bokeh_is_loading = css_urls.length + js_urls.length;\n\n    function on_load() {\n      root._bokeh_is_loading--;\n      if (root._bokeh_is_loading === 0) {\n        console.debug(\"Bokeh: all BokehJS libraries/stylesheets loaded\");\n        run_callbacks()\n      }\n    }\n\n    function on_error(url) {\n      console.error(\"failed to load \" + url);\n    }\n\n    for (let i = 0; i < css_urls.length; i++) {\n      const url = css_urls[i];\n      const element = document.createElement(\"link\");\n      element.onload = on_load;\n      element.onerror = on_error.bind(null, url);\n      element.rel = \"stylesheet\";\n      element.type = \"text/css\";\n      element.href = url;\n      console.debug(\"Bokeh: injecting link tag for BokehJS stylesheet: \", url);\n      document.body.appendChild(element);\n    }\n\n    for (let i = 0; i < js_urls.length; i++) {\n      const url = js_urls[i];\n      const element = document.createElement('script');\n      element.onload = on_load;\n      element.onerror = on_error.bind(null, url);\n      element.async = false;\n      element.src = url;\n      console.debug(\"Bokeh: injecting script tag for BokehJS library: \", url);\n      document.head.appendChild(element);\n    }\n  };\n\n  function inject_raw_css(css) {\n    const element = document.createElement(\"style\");\n    element.appendChild(document.createTextNode(css));\n    document.body.appendChild(element);\n  }\n\n  \n  const js_urls = [\"https://cdn.bokeh.org/bokeh/release/bokeh-2.4.1.min.js\", \"https://cdn.bokeh.org/bokeh/release/bokeh-gl-2.4.1.min.js\", \"https://cdn.bokeh.org/bokeh/release/bokeh-widgets-2.4.1.min.js\", \"https://cdn.bokeh.org/bokeh/release/bokeh-tables-2.4.1.min.js\", \"https://cdn.bokeh.org/bokeh/release/bokeh-mathjax-2.4.1.min.js\"];\n  const css_urls = [];\n  \n\n  const inline_js = [\n    function(Bokeh) {\n      Bokeh.set_log_level(\"info\");\n    },\n    function(Bokeh) {\n    \n    \n    }\n  ];\n\n  function run_inline_js() {\n    \n    if (root.Bokeh !== undefined || force === true) {\n      \n    for (let i = 0; i < inline_js.length; i++) {\n      inline_js[i].call(root, root.Bokeh);\n    }\n    if (force === true) {\n        display_loaded();\n      }} else if (Date.now() < root._bokeh_timeout) {\n      setTimeout(run_inline_js, 100);\n    } else if (!root._bokeh_failed_load) {\n      console.log(\"Bokeh: BokehJS failed to load within specified timeout.\");\n      root._bokeh_failed_load = true;\n    } else if (force !== true) {\n      const cell = $(document.getElementById(\"2692\")).parents('.cell').data().cell;\n      cell.output_area.append_execute_result(NB_LOAD_WARNING)\n    }\n\n  }\n\n  if (root._bokeh_is_loading === 0) {\n    console.debug(\"Bokeh: BokehJS loaded, going straight to plotting\");\n    run_inline_js();\n  } else {\n    load_libs(css_urls, js_urls, function() {\n      console.debug(\"Bokeh: BokehJS plotting callback run at\", now());\n      run_inline_js();\n    });\n  }\n}(window));"
     },
     "metadata": {},
     "output_type": "display_data"
    },
    {
     "data": {
      "text/html": [
       "\n",
       "\n",
       "\n",
       "\n",
       "\n",
       "\n",
       "  <div class=\"bk-root\" id=\"2b457bc8-e70e-4a77-80d5-36fe79d53756\" data-root-id=\"2727\"></div>\n"
      ]
     },
     "metadata": {},
     "output_type": "display_data"
    },
    {
     "data": {
      "application/javascript": [
       "(function(root) {\n",
       "  function embed_document(root) {\n",
       "    \n",
       "  const docs_json = {\"6cc8360f-29a8-4aab-8f7f-afc8804ac78c\":{\"defs\":[],\"roots\":{\"references\":[{\"attributes\":{\"below\":[{\"id\":\"2738\"}],\"center\":[{\"id\":\"2741\"},{\"id\":\"2745\"},{\"id\":\"2776\"}],\"left\":[{\"id\":\"2742\"}],\"renderers\":[{\"id\":\"2764\"}],\"title\":{\"id\":\"2728\"},\"toolbar\":{\"id\":\"2751\"},\"toolbar_location\":null,\"width\":800,\"x_range\":{\"id\":\"2730\"},\"x_scale\":{\"id\":\"2734\"},\"y_range\":{\"id\":\"2732\"},\"y_scale\":{\"id\":\"2736\"}},\"id\":\"2727\",\"subtype\":\"Figure\",\"type\":\"Plot\"},{\"attributes\":{\"label\":{\"field\":\"Commodity_Group\"},\"renderers\":[{\"id\":\"2764\"}]},\"id\":\"2777\",\"type\":\"LegendItem\"},{\"attributes\":{\"end_angle\":{\"expr\":{\"id\":\"2758\"}},\"fill_color\":{\"field\":\"color\"},\"line_color\":{\"value\":\"white\"},\"radius\":{\"value\":0.4},\"start_angle\":{\"expr\":{\"id\":\"2757\"}},\"x\":{\"value\":0},\"y\":{\"value\":1}},\"id\":\"2761\",\"type\":\"Wedge\"},{\"attributes\":{\"callback\":null,\"tooltips\":[[\"Commodity_Group\",\"@group\"],[\"Value\",\"@value\"]]},\"id\":\"2726\",\"type\":\"HoverTool\"},{\"attributes\":{},\"id\":\"2774\",\"type\":\"Selection\"},{\"attributes\":{},\"id\":\"2739\",\"type\":\"BasicTicker\"},{\"attributes\":{},\"id\":\"2730\",\"type\":\"DataRange1d\"},{\"attributes\":{},\"id\":\"2769\",\"type\":\"AllLabels\"},{\"attributes\":{\"field\":\"angle\"},\"id\":\"2758\",\"type\":\"CumSum\"},{\"attributes\":{\"data\":{\"Commodity_Group\":[\"Empty\",\"Live Animals And Fish\",\"Agricultural Products (Excludes Live Animals, Cereal Grains, And Forage Products)\",\"Animal Feed And Feed Ingredients, Cereal Straw, And Eggs, Honey And Other Products Of Animal Origin N.E.C.\",\"Meat, Fish, Seafood, And Preparations\"],\"angle\":{\"__ndarray__\":\"jeekH3ZYBEAqFn3SFCbTP9cs1hlghf0/nM8ltCLq3z/8/kcWk43xPw==\",\"dtype\":\"float64\",\"order\":\"little\",\"shape\":[5]},\"color\":[\"#3182bd\",\"#6baed6\",\"#9ecae1\",\"#c6dbef\",\"#e6550d\"],\"index\":[\"0\",\"1\",\"2\",\"3\",\"4\"],\"value\":[51,6,37,10,22]},\"selected\":{\"id\":\"2774\"},\"selection_policy\":{\"id\":\"2773\"}},\"id\":\"2759\",\"type\":\"ColumnDataSource\"},{\"attributes\":{\"end_angle\":{\"expr\":{\"id\":\"2758\"}},\"fill_alpha\":{\"value\":0.2},\"fill_color\":{\"field\":\"color\"},\"hatch_alpha\":{\"value\":0.2},\"line_alpha\":{\"value\":0.2},\"line_color\":{\"value\":\"white\"},\"radius\":{\"value\":0.4},\"start_angle\":{\"expr\":{\"id\":\"2757\"}},\"x\":{\"value\":0},\"y\":{\"value\":1}},\"id\":\"2763\",\"type\":\"Wedge\"},{\"attributes\":{},\"id\":\"2768\",\"type\":\"BasicTickFormatter\"},{\"attributes\":{\"field\":\"angle\",\"include_zero\":true},\"id\":\"2757\",\"type\":\"CumSum\"},{\"attributes\":{\"coordinates\":null,\"data_source\":{\"id\":\"2759\"},\"glyph\":{\"id\":\"2761\"},\"group\":null,\"hover_glyph\":null,\"muted_glyph\":{\"id\":\"2763\"},\"nonselection_glyph\":{\"id\":\"2762\"},\"view\":{\"id\":\"2765\"}},\"id\":\"2764\",\"type\":\"GlyphRenderer\"},{\"attributes\":{\"axis\":{\"id\":\"2742\"},\"coordinates\":null,\"dimension\":1,\"grid_line_color\":null,\"group\":null,\"ticker\":null},\"id\":\"2745\",\"type\":\"Grid\"},{\"attributes\":{\"bottom_units\":\"screen\",\"coordinates\":null,\"fill_alpha\":0.5,\"fill_color\":\"lightgrey\",\"group\":null,\"left_units\":\"screen\",\"level\":\"overlay\",\"line_alpha\":1.0,\"line_color\":\"black\",\"line_dash\":[4,4],\"line_width\":2,\"right_units\":\"screen\",\"syncable\":false,\"top_units\":\"screen\"},\"id\":\"2750\",\"type\":\"BoxAnnotation\"},{\"attributes\":{\"axis\":{\"id\":\"2738\"},\"coordinates\":null,\"grid_line_color\":null,\"group\":null,\"ticker\":null},\"id\":\"2741\",\"type\":\"Grid\"},{\"attributes\":{},\"id\":\"2736\",\"type\":\"LinearScale\"},{\"attributes\":{},\"id\":\"2734\",\"type\":\"LinearScale\"},{\"attributes\":{\"coordinates\":null,\"group\":null,\"text\":\"Pie Chart\"},\"id\":\"2728\",\"type\":\"Title\"},{\"attributes\":{},\"id\":\"2732\",\"type\":\"DataRange1d\"},{\"attributes\":{\"tools\":[{\"id\":\"2726\"},{\"id\":\"2746\"},{\"id\":\"2747\"},{\"id\":\"2748\"},{\"id\":\"2749\"}]},\"id\":\"2751\",\"type\":\"Toolbar\"},{\"attributes\":{\"coordinates\":null,\"formatter\":{\"id\":\"2768\"},\"group\":null,\"major_label_policy\":{\"id\":\"2769\"},\"ticker\":{\"id\":\"2743\"},\"visible\":false},\"id\":\"2742\",\"type\":\"LinearAxis\"},{\"attributes\":{},\"id\":\"2746\",\"type\":\"PanTool\"},{\"attributes\":{\"source\":{\"id\":\"2759\"}},\"id\":\"2765\",\"type\":\"CDSView\"},{\"attributes\":{},\"id\":\"2743\",\"type\":\"BasicTicker\"},{\"attributes\":{},\"id\":\"2773\",\"type\":\"UnionRenderers\"},{\"attributes\":{\"overlay\":{\"id\":\"2750\"}},\"id\":\"2748\",\"type\":\"BoxZoomTool\"},{\"attributes\":{},\"id\":\"2747\",\"type\":\"WheelZoomTool\"},{\"attributes\":{\"coordinates\":null,\"group\":null,\"items\":[{\"id\":\"2777\"}]},\"id\":\"2776\",\"type\":\"Legend\"},{\"attributes\":{},\"id\":\"2772\",\"type\":\"AllLabels\"},{\"attributes\":{},\"id\":\"2749\",\"type\":\"ResetTool\"},{\"attributes\":{},\"id\":\"2771\",\"type\":\"BasicTickFormatter\"},{\"attributes\":{\"end_angle\":{\"expr\":{\"id\":\"2758\"}},\"fill_alpha\":{\"value\":0.1},\"fill_color\":{\"field\":\"color\"},\"hatch_alpha\":{\"value\":0.1},\"line_alpha\":{\"value\":0.1},\"line_color\":{\"value\":\"white\"},\"radius\":{\"value\":0.4},\"start_angle\":{\"expr\":{\"id\":\"2757\"}},\"x\":{\"value\":0},\"y\":{\"value\":1}},\"id\":\"2762\",\"type\":\"Wedge\"},{\"attributes\":{\"coordinates\":null,\"formatter\":{\"id\":\"2771\"},\"group\":null,\"major_label_policy\":{\"id\":\"2772\"},\"ticker\":{\"id\":\"2739\"},\"visible\":false},\"id\":\"2738\",\"type\":\"LinearAxis\"}],\"root_ids\":[\"2727\"]},\"title\":\"Bokeh Application\",\"version\":\"2.4.1\"}};\n",
       "  const render_items = [{\"docid\":\"6cc8360f-29a8-4aab-8f7f-afc8804ac78c\",\"root_ids\":[\"2727\"],\"roots\":{\"2727\":\"2b457bc8-e70e-4a77-80d5-36fe79d53756\"}}];\n",
       "  root.Bokeh.embed.embed_items_notebook(docs_json, render_items);\n",
       "\n",
       "  }\n",
       "  if (root.Bokeh !== undefined) {\n",
       "    embed_document(root);\n",
       "  } else {\n",
       "    let attempts = 0;\n",
       "    const timer = setInterval(function(root) {\n",
       "      if (root.Bokeh !== undefined) {\n",
       "        clearInterval(timer);\n",
       "        embed_document(root);\n",
       "      } else {\n",
       "        attempts++;\n",
       "        if (attempts > 100) {\n",
       "          clearInterval(timer);\n",
       "          console.log(\"Bokeh: ERROR: Unable to run BokehJS code because BokehJS library is missing\");\n",
       "        }\n",
       "      }\n",
       "    }, 10, root)\n",
       "  }\n",
       "})(window);"
      ],
      "application/vnd.bokehjs_exec.v0+json": ""
     },
     "metadata": {
      "application/vnd.bokehjs_exec.v0+json": {
       "id": "2727"
      }
     },
     "output_type": "display_data"
    }
   ],
   "source": [
    "from collections import Counter\n",
    "from math import pi\n",
    "\n",
    "import pandas as pd\n",
    "\n",
    "from bokeh.palettes import Category20c\n",
    "from bokeh.plotting import figure, show\n",
    "from bokeh.transform import cumsum\n",
    "from math import pi\n",
    "\n",
    "import numpy as np\n",
    "import plotly.graph_objects as go\n",
    "from bokeh.models import HoverTool, BoxSelectTool\n",
    "from bokeh.io import output_notebook\n",
    "\n",
    "output_notebook()\n",
    "\n",
    "df2 = pd.DataFrame(df1, columns=['Commodity_Group'])\n",
    "records = df2.to_records(index=False)\n",
    "\n",
    "new_list = []\n",
    "\n",
    "for i in records:\n",
    "    for j in i:\n",
    "        if j != '':\n",
    "            new_list.append(j)\n",
    "    \n",
    "x = Counter(new_list)\n",
    "top_5 = dict(list(x.items())[0: 5])\n",
    "\n",
    "\n",
    "p = figure(width=400, height=400)\n",
    "p.add_tools(BoxSelectTool(dimensions=\"width\"))\n",
    "\n",
    "TOOLTIPS = HoverTool(tooltips=[\n",
    "    (\"index\", '$index'),\n",
    " \n",
    "])\n",
    "\n",
    "\n",
    "data = pd.DataFrame.from_dict(dict(top_5), orient='index').reset_index()\n",
    "data = data.rename(index=str, columns={0:'value', 'index':'Commodity_Group'})\n",
    "data['angle'] = data['value']/sum(top_5.values()) * 2*pi\n",
    "data['color'] = Category20c[len(top_5)]\n",
    "\n",
    "\n",
    "p = figure(plot_height=600, plot_width=800, title=\"Pie Chart\", toolbar_location=None, tools=[TOOLTIPS, \"pan,wheel_zoom,box_zoom,reset\"], tooltips=[(\"Commodity_Group\", \"@group\"),(\"Value\", \"@value\")])\n",
    "\n",
    "p.wedge(x=0, y=1, radius=0.4, \n",
    "        start_angle=cumsum('angle', include_zero=True), end_angle=cumsum('angle'),\n",
    "        line_color=\"white\", fill_color='color', legend_field='Commodity_Group', source=data)\n",
    "        \n",
    "p.axis.axis_label=None\n",
    "p.axis.visible=False\n",
    "p.grid.grid_line_color = None\n",
    "\n",
    "show(p)"
   ]
  },
  {
   "cell_type": "code",
   "execution_count": 14,
   "id": "1c9bb1eb",
   "metadata": {},
   "outputs": [
    {
     "data": {
      "image/png": "[encoded data removed]",
      "text/plain": [
       "<Figure size 432x288 with 1 Axes>"
      ]
     },
     "metadata": {},
     "output_type": "display_data"
    }
   ],
   "source": [
    "import seaborn as sns\n",
    "sns.set()\n",
    "\n",
    "graph = sns.scatterplot(x='Commodity_Weight', y='Commodity_Group_Code', data=df1)"
   ]
  }
 ],
 "metadata": {
  "kernelspec": {
   "display_name": "Python 3 (ipykernel)",
   "language": "python",
   "name": "python3"
  },
  "language_info": {
   "codemirror_mode": {
    "name": "ipython",
    "version": 3
   },
   "file_extension": ".py",
   "mimetype": "text/x-python",
   "name": "python",
   "nbconvert_exporter": "python",
   "pygments_lexer": "ipython3",
   "version": "3.9.7"
  }
 },
 "nbformat": 4,
 "nbformat_minor": 5
}
